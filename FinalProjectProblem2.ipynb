{
 "cells": [
  {
   "cell_type": "markdown",
   "metadata": {},
   "source": [
    "# Math 425 Computation Linear Algebra\n",
    "## Final Project, Problem 2.\n",
    "##### *Topics in Matrix Transformation, Least-squares, Linear Modelling and Singular Vaule Decomposition.\n",
    "\n",
    "### Group 3\n",
    "\n",
    "+ Anneke Moeller; code review, validation and research\n",
    "+ Shem Cheng; github repo testing, planning and scheduling\n",
    "+ Rai’d Muhammad; code review and user validation\n",
    "+ Brent Thorne; software, merging and reporting\n",
    "\n",
    "### ToDo\n",
    "\n",
    "+ add QR analysis and compare to least-squares\n",
    "+ ask about receiver operating characteristic (ROC) curves, (historically based in WWII radar)\n",
    "+ determining an “ideal” cut-off value with trade-off between sensitivity (true positives) and specificity (true negatives)\n",
    "\n",
    "### References \n",
    "+ https://acutecaretesting.org/en/articles/roc-curves-what-are-they-and-how-are-they-used\n",
    "+ https://wentzwu.com/2019/05/05/which-is-more-important-accuracy-or-acceptability/\n",
    "+ https://isle.hanover.edu/Ch02Methods/Ch02SDT_ROC.html\n",
    "+ http://wixtedlab.ucsd.edu/publications/wixted2019/The_Forgotten_History_of_Signal_Detection_Theory.pdf\n",
    "+ https://en.wikipedia.org/wiki/Receiver_operating_characteristic"
   ]
  },
  {
   "cell_type": "markdown",
   "metadata": {},
   "source": [
    "### Problem 2. Analyse patient data for cell nuclei features. \n",
    "\n",
    "##### The goal is to decide whether the cells are malignant or benign."
   ]
  },
  {
   "cell_type": "code",
   "execution_count": 1,
   "metadata": {},
   "outputs": [],
   "source": [
    "# environment setup, try to make it clear which library I'm using for what\n",
    "import numpy as np  # nice arrays and other stuff\n",
    "import sympy as sym # symbollic maths \n",
    "from sympy.matrices import Matrix # pretty matrices\n",
    "from sympy import Eq # pretty equations\n",
    "from sympy.physics.quantum.dagger import Dagger # we'll want this later...\n",
    "from math import e, pi, sqrt # Mathy math math\n",
    "from mpl_toolkits.mplot3d import Axes3D # we like 3d quivers for tutorials\n",
    "import matplotlib.pyplot as plt # old standby for plotting like a villian\n",
    "from IPython.display import display, Math, Latex # used to display formatted results in the console\n",
    "sym.init_printing()  # initialize pretty printing\n",
    "import time\n",
    "import csv"
   ]
  },
  {
   "cell_type": "markdown",
   "metadata": {},
   "source": [
    "#### The procedure below takes a single argument, a string giving the pathname of a file. It reads the data in the specified file and returns a pair (A, b, D) where:\n",
    "\n",
    " A is a matrix whose rows correspond to the data for each patient in the data set. The elements in a row correspond to the 30 features measured for a patient.\n",
    "\n",
    " b is a vector whose domain is the set of patients and $b[r]$ is 1 if the specimen of patient $r$ is malignant and it’s -1 if the specimen is benign.\n",
    "\n",
    " D is the feature parameter map. (extended for demostaton purposes)\n",
    " \n",
    "# Warning: This code may cause brain cancer.\n",
    "##### FIXME!!! Rewrite this in a more straight forward manner. Why Klein, why?  Sad kittens..."
   ]
  },
  {
   "cell_type": "code",
   "execution_count": 2,
   "metadata": {},
   "outputs": [],
   "source": [
    "# Copyright 2013 Philip N. Klein\n",
    "from vec import Vec  # This library is rather pointless after Ch2.\n",
    "from vecutil import vec2list # I'll give it to Klein, he definately inspires the student to find a better way.\n",
    "from sympy import Matrix\n",
    "\n",
    "def read_training_data(fname, D=None):\n",
    "    \"\"\"Given a file in appropriate format, and given a set D of features,\n",
    "    returns the pair (A, b) consisting of\n",
    "    a P-by-D matrix A and a P-vector b,\n",
    "    where P is a set of patient identification integers (IDs).\n",
    "\n",
    "    For each patient ID p,\n",
    "      - row p of A is the D-vector describing patient p's tissue sample,\n",
    "      - entry p of b is +1 if patient p's tissue is malignant, and -1 if it is benign.\n",
    "\n",
    "    The set D of features must be a subset of the features in the data (see text).\n",
    "    \"\"\"\n",
    "    file = open(fname)\n",
    "    params = [\"radius\", \"texture\", \"perimeter\",\"area\",\"smoothness\",\"compactness\",\"concavity\",\"concavePoints\",\"symmetry\",\"fractalDimension\"];\n",
    "    stats = [\"(mean)\", \"(stderr)\", \"(worst)\"]\n",
    "    feature_labels = set([y+x for x in stats for y in params]) \n",
    "    feature_map = {params[i]+stats[j]:j*len(params)+i for i in range(len(params)) for j in range(len(stats))} # Brain cancer.\n",
    "    if D is None: D = feature_labels\n",
    "    feature_vectors = {}\n",
    "    #patient_diagnoses = {}\n",
    "    A = []\n",
    "    b = []\n",
    "    for line in file:\n",
    "        row = line.split(\",\")\n",
    "        patient_ID = int(row[0])  # parse out ID\n",
    "        b.append(-1) if row[1] == 'B' else b.append(1) # parse malignant symbol and pack into b-Matrix\n",
    "        feature_vectors[patient_ID] = Vec(D, {f:float(row[feature_map[f]+2]) for f in D}) # parse features as float\n",
    "        A.append(vec2list(feature_vectors[patient_ID])) # pack feature vector into A-Matrix\n",
    "    return Matrix(A), Matrix(b), feature_map "
   ]
  },
  {
   "cell_type": "code",
   "execution_count": 3,
   "metadata": {},
   "outputs": [],
   "source": [
    "def my_read_data(fname):\n",
    "    \"\"\"\n",
    "    (attempts to) reimpliemnt read_training_data() in a pythonic way\n",
    "    \"\"\"\n",
    "    mylist = []\n",
    "    with open(fname) as f:\n",
    "        reader = csv.reader(f, delimiter=',')\n",
    "        for row in reader:\n",
    "                mylist.append(row) # might be better to parse array into matrix here\n",
    "    data = np.array(mylist)\n",
    "    result = data[:,1]\n",
    "    b = Matrix([1 if r == 'M' else -1 for r in result])\n",
    "    A = Matrix(data[:,2:])  # rather slow\n",
    "\n",
    "    # add labels for our domain\n",
    "    params = [\"radius\", \"texture\", \"perimeter\",\"area\",\"smoothness\",\"compactness\",\"concavity\",\"concavePoints\",\"symmetry\",\"fractalDimension\"];\n",
    "    stats = [\"(mean)\", \"(stderr)\", \"(worst)\"]\n",
    "    labels = []\n",
    "    for p in params:\n",
    "        for s in stats:\n",
    "            labels.append(p+s)\n",
    "    D = Matrix(sym.symbols(labels))\n",
    "    return A,b,D"
   ]
  },
  {
   "cell_type": "code",
   "execution_count": 4,
   "metadata": {},
   "outputs": [],
   "source": [
    "# Report Stats\n",
    "# see also: https://towardsdatascience.com/understanding-auc-roc-curve-68b2303cc9c5\n",
    "def stats(A,b,b_hat_sign):\n",
    "    \"\"\"\n",
    "    Report on receiver operating characteristic (ROC)\n",
    "    \"\"\"\n",
    "    s=b+b_hat_sign\n",
    "    ii = [ i for i in range(len(s)) if s[i] == 0]\n",
    "    # AUC and ROC values\n",
    "    FP = 0;    FN = 0\n",
    "    for i in ii: \n",
    "        if b[i] > 0:\n",
    "            FN += 1;\n",
    "        else:\n",
    "            FP += 1;\n",
    "\n",
    "    TP =0;    TN = 0\n",
    "    for v in b:\n",
    "        if v > 0:\n",
    "            TP += 1\n",
    "        else:\n",
    "            TN += 1\n",
    "    print(f'False Positive/Negative: {len(ii)} out of {A.shape[0]}')\n",
    "    print(f'TPR/Recall/Sensitivity = {TP/(TP+FN)}')\n",
    "    print(f'Specificity = {TN/(TN+FP)}')\n",
    "    print(f'FPR = {FP/(TN+FP)}') # same as (1 - Specificity)\n",
    "    print(f'Error = {len(ii)/len(b)}')  # this what the problem is after"
   ]
  },
  {
   "cell_type": "code",
   "execution_count": 5,
   "metadata": {},
   "outputs": [],
   "source": [
    "# read in training and validation data\n",
    "A,b,D = read_training_data('data/train.data')\n",
    "Av,bv,Dv = read_training_data('data/validate.data')"
   ]
  },
  {
   "cell_type": "code",
   "execution_count": 6,
   "metadata": {},
   "outputs": [
    {
     "data": {
      "image/png": "[encoded data removed]",
      "text/latex": [
       "$\\displaystyle \\left( \\left[\\begin{array}{cccccccccccccccccccccccccccccc}10.38 & 122.8 & 0.4601 & 0.07871 & 0.2419 & 0.2776 & 8.589 & 0.006399 & 25.38 & 153.4 & 0.006193 & 0.1189 & 0.6656 & 1001.0 & 17.33 & 2019.0 & 0.9053 & 0.1622 & 0.1184 & 0.04904 & 0.7119 & 0.1471 & 184.6 & 1.095 & 0.01587 & 0.05373 & 0.2654 & 0.3001 & 0.03003 & 17.99\\end{array}\\right], \\  \\left[\\begin{matrix}1\\end{matrix}\\right]\\right)$"
      ],
      "text/plain": [
       "([10.38  122.8  0.4601  0.07871  0.2419  0.2776  8.589  0.006399  25.38  153.4\n",
       "  0.006193  0.1189  0.6656  1001.0  17.33  2019.0  0.9053  0.1622  0.1184  0.0\n",
       "4904  0.7119  0.1471  184.6  1.095  0.01587  0.05373  0.2654  0.3001  0.03003 \n",
       " 17.99], [1])"
      ]
     },
     "execution_count": 6,
     "metadata": {},
     "output_type": "execute_result"
    }
   ],
   "source": [
    "# show example sample\n",
    "A.row(0) # Patient 0's sample features\n",
    "b.row(0) # Patient 0's results, +1 if malignant, and -1 if benign.\n",
    "A.row(0), b.row(0)"
   ]
  },
  {
   "cell_type": "markdown",
   "metadata": {},
   "source": [
    "### Use least-squares approach ($A^TAx = A^Tb$) to find $\\hat{x}$.\n",
    "\n",
    "This approach is considerably faster than QR-Decomp used below and yields the same results."
   ]
  },
  {
   "cell_type": "code",
   "execution_count": 7,
   "metadata": {},
   "outputs": [
    {
     "name": "stdout",
     "output_type": "stream",
     "text": [
      "Least-Squares single cycle execution time: 5.678204298019409\n"
     ]
    }
   ],
   "source": [
    "t0 = time.time()\n",
    "ATA = A.T*A\n",
    "ATb = A.T*b\n",
    "\n",
    "# solve for x_hat, do semi-manually to show method\n",
    "ATAu = ATA.row_join(ATb) # augment A^TA with A^Tb\n",
    "x_hat = (ATAu.rref(pivots=False)).col(-1)\n",
    "b_hat = A*x_hat\n",
    "t1 = time.time()\n",
    "tt = t1-t0\n",
    "\n",
    "print(f'Least-Squares single cycle execution time: {tt}')"
   ]
  },
  {
   "cell_type": "markdown",
   "metadata": {},
   "source": [
    "### Use QR approach ($\\hat{x}=R^{-1}Q^Tb$) to find $\\hat{x}$.\n",
    "\n",
    "QR decomposition is noteably slower (6x) than least-squares method used below."
   ]
  },
  {
   "cell_type": "code",
   "execution_count": 8,
   "metadata": {},
   "outputs": [
    {
     "name": "stdout",
     "output_type": "stream",
     "text": [
      "QR-Decomposition single cycle execution time: 42.37107253074646\n"
     ]
    }
   ],
   "source": [
    "t0 = time.time()\n",
    "Q,R = A.QRdecomposition()\n",
    "x_hat = R.inv() * Q.T * b\n",
    "b_hat = A*x_hat\n",
    "t1 = time.time()\n",
    "tt = t1-t0\n",
    "\n",
    "print(f'QR-Decomposition single cycle execution time: {tt}')"
   ]
  },
  {
   "cell_type": "markdown",
   "metadata": {},
   "source": [
    "### Apply $\\hat{x}$ to training data and compare resulting $\\hat{b}$ orignal training $b$."
   ]
  },
  {
   "cell_type": "code",
   "execution_count": 9,
   "metadata": {},
   "outputs": [
    {
     "name": "stdout",
     "output_type": "stream",
     "text": [
      "False Positive/Negative: 14 out of 300\n",
      "TPR/Recall/Sensitivity = 0.9182389937106918\n",
      "Specificity = 0.9935483870967742\n",
      "FPR = 0.0064516129032258064\n",
      "Error = 0.04666666666666667\n"
     ]
    }
   ],
   "source": [
    "sign = lambda x: np.sign(x) # lambdafy\n",
    "b_hat_sign = b_hat.applyfunc(sign)\n",
    "\n",
    "stats(A,b,b_hat_sign)"
   ]
  },
  {
   "cell_type": "markdown",
   "metadata": {},
   "source": [
    "### Apply $\\hat{x}$ to validation data and compare resulting $\\hat{b}$ with validation $b$."
   ]
  },
  {
   "cell_type": "code",
   "execution_count": 10,
   "metadata": {},
   "outputs": [
    {
     "name": "stdout",
     "output_type": "stream",
     "text": [
      "False Positive/Negative: 8 out of 260\n",
      "TPR/Recall/Sensitivity = 0.967741935483871\n",
      "Specificity = 0.970873786407767\n",
      "FPR = 0.02912621359223301\n",
      "Error = 0.03076923076923077\n"
     ]
    }
   ],
   "source": [
    "bv_hat = Av*x_hat\n",
    "bv_hat_sign = bv_hat.applyfunc(sign)\n",
    "\n",
    "stats(Av,bv,bv_hat_sign)"
   ]
  },
  {
   "cell_type": "markdown",
   "metadata": {},
   "source": [
    "### Appendix. Least-squares\n",
    "Let $A$ be an $m$x$n$ matrix.  The following statements are logically equivalent:\n",
    "\n",
    "a. The equation $Ax=b$ has a unique least-squares solution for each $b$ in $\\mathbb{R^m}$.\n",
    "\n",
    "b. The columns of $A$ are linearly independent.\n",
    "\n",
    "c. The matrix $A^TA$ is invertible.\n",
    "When these statement are ture, the least-squares solution $\\hat{x}$ is given by\n",
    "\n",
    "#### $\\hat{x}=(A^TA)^{-1}A^Tb$"
   ]
  },
  {
   "cell_type": "code",
   "execution_count": 11,
   "metadata": {},
   "outputs": [
    {
     "data": {
      "image/png": "[encoded data removed]",
      "text/latex": [
       "$\\displaystyle \\left( \\left[\\begin{matrix}6 & 2 & 2 & 2\\\\2 & 2 & 0 & 0\\\\2 & 0 & 2 & 0\\\\2 & 0 & 0 & 2\\end{matrix}\\right], \\  \\left[\\begin{matrix}4\\\\-4\\\\2\\\\6\\end{matrix}\\right], \\  \\left( \\left[\\begin{matrix}1 & 0 & 0 & 1 & 3\\\\0 & 1 & 0 & -1 & -5\\\\0 & 0 & 1 & -1 & -2\\\\0 & 0 & 0 & 0 & 0\\end{matrix}\\right], \\  \\left( 0, \\  1, \\  2\\right)\\right), \\  \\left\\{\\left( 3 - x_{4}, \\  x_{4} - 5, \\  x_{4} - 2, \\  x_{4}\\right)\\right\\}\\right)$"
      ],
      "text/plain": [
       "⎛⎡6  2  2  2⎤  ⎡4 ⎤  ⎛⎡1  0  0  1   3 ⎤           ⎞                           \n",
       "⎜⎢          ⎥  ⎢  ⎥  ⎜⎢               ⎥           ⎟                           \n",
       "⎜⎢2  2  0  0⎥  ⎢-4⎥  ⎜⎢0  1  0  -1  -5⎥           ⎟                           \n",
       "⎜⎢          ⎥, ⎢  ⎥, ⎜⎢               ⎥, (0, 1, 2)⎟, {(3 - x₄, x₄ - 5, x₄ - 2,\n",
       "⎜⎢2  0  2  0⎥  ⎢2 ⎥  ⎜⎢0  0  1  -1  -2⎥           ⎟                           \n",
       "⎜⎢          ⎥  ⎢  ⎥  ⎜⎢               ⎥           ⎟                           \n",
       "⎝⎣2  0  0  2⎦  ⎣6 ⎦  ⎝⎣0  0  0  0   0 ⎦           ⎠                           \n",
       "\n",
       "     ⎞\n",
       "     ⎟\n",
       "     ⎟\n",
       " x₄)}⎟\n",
       "     ⎟\n",
       "     ⎟\n",
       "     ⎠"
      ]
     },
     "execution_count": 11,
     "metadata": {},
     "output_type": "execute_result"
    }
   ],
   "source": [
    "# Example 6.5.2, Lay, Find least-sqaures solution\n",
    "A = Matrix([[1,1,0,0],\\\n",
    "           [1,1,0,0],\\\n",
    "           [1,0,1,0],\\\n",
    "           [1,0,1,0],\\\n",
    "           [1,0,0,1],\\\n",
    "           [1,0,0,1]])\n",
    "b = Matrix([-3,-1,0,2,5,1])\n",
    "x = sym.symbols('x1 x2 x3 x4')\n",
    "\n",
    "A.T*A, A.T*b, (A.T*A).row_join(A.T*b).rref(), sym.linsolve((A.T*A, A.T*b), x)"
   ]
  },
  {
   "cell_type": "markdown",
   "metadata": {},
   "source": [
    "### Appendix. QR Factorization\n",
    "Given $m$x$n$ matrix $A$ with linearly independent columns, let $A=QR$ be a factorization of $A$.  Then, for each $b$ in $\\mathbb{R^m}$, the equation Ax=b had unique least-squares solution given by \n",
    "##### $\\hat{x}=R^{-1}Q^Tb$ (1)\n",
    "\n",
    "note: Since $R$ above is upper triangular, $\\hat{x}$ should be calculated as the exact solution of the equation\n",
    "##### $Rx=Q^Tb$ (2)\n",
    "It is much faster to solve (2) by back-substition or row operations than to compute $R^{-1}$ and use (1).\n",
    "\n",
    "see also, Theorem 6.5.15, Lay"
   ]
  },
  {
   "cell_type": "code",
   "execution_count": 12,
   "metadata": {},
   "outputs": [
    {
     "data": {
      "image/png": "[encoded data removed]",
      "text/latex": [
       "$\\displaystyle \\left( \\left( \\left[\\begin{matrix}1 & 3 & 5\\\\1 & 1 & 0\\\\1 & 1 & 2\\\\1 & 3 & 3\\end{matrix}\\right], \\  \\left[\\begin{matrix}3\\\\5\\\\7\\\\-3\\end{matrix}\\right]\\right), \\  \\left( \\left[\\begin{matrix}\\frac{1}{2} & \\frac{1}{2} & \\frac{1}{2}\\\\\\frac{1}{2} & - \\frac{1}{2} & - \\frac{1}{2}\\\\\\frac{1}{2} & - \\frac{1}{2} & \\frac{1}{2}\\\\\\frac{1}{2} & \\frac{1}{2} & - \\frac{1}{2}\\end{matrix}\\right], \\  \\left[\\begin{matrix}2 & 4 & 5\\\\0 & 2 & 3\\\\0 & 0 & 2\\end{matrix}\\right]\\right), \\  \\left[\\begin{matrix}6\\\\-6\\\\4\\end{matrix}\\right]\\right)$"
      ],
      "text/plain": [
       "⎛⎛⎡1  3  5⎤  ⎡3 ⎤⎞  ⎛⎡1/2  1/2   1/2 ⎤           ⎞      ⎞\n",
       "⎜⎜⎢       ⎥  ⎢  ⎥⎟  ⎜⎢               ⎥  ⎡2  4  5⎤⎟  ⎡6 ⎤⎟\n",
       "⎜⎜⎢1  1  0⎥  ⎢5 ⎥⎟  ⎜⎢1/2  -1/2  -1/2⎥  ⎢       ⎥⎟  ⎢  ⎥⎟\n",
       "⎜⎜⎢       ⎥, ⎢  ⎥⎟, ⎜⎢               ⎥, ⎢0  2  3⎥⎟, ⎢-6⎥⎟\n",
       "⎜⎜⎢1  1  2⎥  ⎢7 ⎥⎟  ⎜⎢1/2  -1/2  1/2 ⎥  ⎢       ⎥⎟  ⎢  ⎥⎟\n",
       "⎜⎜⎢       ⎥  ⎢  ⎥⎟  ⎜⎢               ⎥  ⎣0  0  2⎦⎟  ⎣4 ⎦⎟\n",
       "⎝⎝⎣1  3  3⎦  ⎣-3⎦⎠  ⎝⎣1/2  1/2   -1/2⎦           ⎠      ⎠"
      ]
     },
     "execution_count": 12,
     "metadata": {},
     "output_type": "execute_result"
    }
   ],
   "source": [
    "# Example 6.5.5, Lay, Find the least-squares solution\n",
    "A = Matrix([[1,3,5],[1,1,0],[1,1,2],[1,3,3]])\n",
    "b = Matrix([3,5,7,-3])\n",
    "Q,R = A.QRdecomposition()\n",
    "(A,b), (Q,R), (Q.T*b)"
   ]
  }
 ],
 "metadata": {
  "kernelspec": {
   "display_name": "Python 3",
   "language": "python",
   "name": "python3"
  },
  "language_info": {
   "codemirror_mode": {
    "name": "ipython",
    "version": 3
   },
   "file_extension": ".py",
   "mimetype": "text/x-python",
   "name": "python",
   "nbconvert_exporter": "python",
   "pygments_lexer": "ipython3",
   "version": "3.8.10"
  }
 },
 "nbformat": 4,
 "nbformat_minor": 4
}
