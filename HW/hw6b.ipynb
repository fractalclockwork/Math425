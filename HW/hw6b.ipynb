{
 "cells": [
  {
   "cell_type": "markdown",
   "metadata": {},
   "source": [
    "# Math 425 Computation Linear Algebra\n",
    "## HW6b\n",
    "\n",
    "\n",
    "### Brent A. Thorne\n",
    "\n",
    "brentathorne@gmail.com\n",
    "\n",
    "##### Basis, Othogonality, Projection, Least-squares, Factorization, and SVG."
   ]
  },
  {
   "cell_type": "code",
   "execution_count": 1,
   "metadata": {},
   "outputs": [],
   "source": [
    "# environment setup, try to make it clear which library I'm using for what\n",
    "import numpy as np  # nice arrays and other stuff\n",
    "import scipy as sci # like numpy but nicer\n",
    "import sympy as sym # symbollic maths \n",
    "from sympy.matrices import Matrix # pretty matrices\n",
    "from sympy import Eq # pretty equations\n",
    "from sympy.physics.quantum.dagger import Dagger # we'll want this later...\n",
    "from math import e, pi, sqrt # Mathy math math\n",
    "from mpl_toolkits.mplot3d import Axes3D # we like 3d quivers for tutorials\n",
    "import matplotlib.pyplot as plt # old standby for plotting like a villian\n",
    "from IPython.display import display, Math, Latex # used to display formatted results in the console\n",
    "sym.init_printing()  # initialize pretty printing"
   ]
  },
  {
   "cell_type": "markdown",
   "metadata": {},
   "source": [
    "### 1. Find the singular values of the matrix $\\begin{bmatrix} -5&&0\\\\0&&0\\end{bmatrix}$."
   ]
  },
  {
   "cell_type": "code",
   "execution_count": 2,
   "metadata": {},
   "outputs": [
    {
     "data": {
      "text/latex": [
       "$\\displaystyle \\left( \\left[\\begin{matrix}-5 & 0\\\\0 & 0\\end{matrix}\\right], \\  1, \\  \\left[\\begin{matrix}25 & 0\\\\0 & 0\\end{matrix}\\right], \\  \\left[ \\left( 0, \\  1, \\  \\left[ \\left[\\begin{matrix}0\\\\1\\end{matrix}\\right]\\right]\\right), \\  \\left( 25, \\  1, \\  \\left[ \\left[\\begin{matrix}1\\\\0\\end{matrix}\\right]\\right]\\right)\\right]\\right)$"
      ],
      "text/plain": [
       "⎛⎡-5  0⎤     ⎡25  0⎤  ⎡⎛      ⎡⎡0⎤⎤⎞  ⎛       ⎡⎡1⎤⎤⎞⎤⎞\n",
       "⎜⎢     ⎥, 1, ⎢     ⎥, ⎢⎜0, 1, ⎢⎢ ⎥⎥⎟, ⎜25, 1, ⎢⎢ ⎥⎥⎟⎥⎟\n",
       "⎝⎣0   0⎦     ⎣0   0⎦  ⎣⎝      ⎣⎣1⎦⎦⎠  ⎝       ⎣⎣0⎦⎦⎠⎦⎠"
      ]
     },
     "execution_count": 2,
     "metadata": {},
     "output_type": "execute_result"
    }
   ],
   "source": [
    "A = Matrix([[-5,0],[0,0]])\n",
    "A, A.rank(), A.T*A, (A.T*A).eigenvects()\n",
    "#help(Matrix.eigenvects)"
   ]
  },
  {
   "cell_type": "code",
   "execution_count": 3,
   "metadata": {},
   "outputs": [
    {
     "name": "stdout",
     "output_type": "stream",
     "text": [
      "Show semi-manual process to find SVD:\n"
     ]
    },
    {
     "data": {
      "text/latex": [
       "$A=U\\Sigma V^T= \\left[\\begin{matrix}-1 & 0\\\\0 & 0\\end{matrix}\\right]\\left[\\begin{matrix}5 & 0\\\\0 & 0\\end{matrix}\\right]\\left[\\begin{matrix}1 & 0\\\\0 & 1\\end{matrix}\\right]=\\left[\\begin{matrix}-5 & 0\\\\0 & 0\\end{matrix}\\right]$ * Where the non-zero $\\Sigma$ are the singular values."
      ],
      "text/plain": [
       "<IPython.core.display.Latex object>"
      ]
     },
     "metadata": {},
     "output_type": "display_data"
    },
    {
     "data": {
      "text/latex": [
       "$A=\\left[\\begin{matrix}-5 & 0\\\\0 & 0\\end{matrix}\\right]$, *checks out!"
      ],
      "text/plain": [
       "<IPython.core.display.Latex object>"
      ]
     },
     "metadata": {},
     "output_type": "display_data"
    }
   ],
   "source": [
    "print('Show semi-manual process to find SVD:')\n",
    "V = Matrix([[1,0],[0,1]]) # order our eigenvects\n",
    "\n",
    "m,n = A.shape\n",
    "sigma = sym.zeros(m,n) # our matrix for sigma is the same shape as A\n",
    "sigma_1 = sym.sqrt(25) # made our sigmi\n",
    "sigma_2 = 0\n",
    "sigma[0] = sigma_1\n",
    "\n",
    "u1 = 1/sigma_1*A*V.col(0) # Av_k\n",
    "u2 = sym.zeros(m,1) # simga_2 is 0 so just cook up a zero vector\n",
    "U = Matrix([u1.T,u2.T]).T # U is our non-zero Av_k vectors\n",
    "\n",
    "A, U*sigma*V.T  # validate our result\n",
    "display(Latex(f'$A=U\\\\Sigma V^T= \\\n",
    "{sym.latex(U)}{sym.latex(sigma)}{sym.latex(V.T)}=\\\n",
    "{sym.latex(U*sigma*V.T)}$ * Where the non-zero $\\Sigma$ are the singular values.'))\n",
    "display(Latex(f'$A={sym.latex(A)}$, *checks out!'))  # think about this, the sigma are our singular values"
   ]
  },
  {
   "cell_type": "markdown",
   "metadata": {},
   "source": [
    "### 2. Suppose the factorization below is an SVD of a matrix $A$, with the entries in $U$ and $V$ rounded to two decimal places.\n",
    "#### $A = \\begin{bmatrix} -0.86 & -0.11 & -0.50\\\\~~0.31 & ~~0.68 & -0.67\\\\~~0.41 & -0.73 & -0.55 \\end{bmatrix}  \\begin{bmatrix} 12.48 & 0 & 0 & 0\\\\ 0 & 6.34 & 0 & 0 \\\\ 0 & 0 & 0 & 0\\end{bmatrix} \\begin{bmatrix} ~~0.66 & -0.03 & -0.35 & ~~0.66\\\\ -0.13 & -0.90 & -0.39 & -0.13 \\\\ ~~0.65 & ~~0.08 & -0.16 & -0.73 \\\\ -0.34 & ~~0.42 & -0.84 & -0.08\\end{bmatrix}$\n",
    "#### (a) What is the rank of $A$?\n",
    "#### (b) Use this decomposition of $A$, with no calculations, to write a basis for Col $A$ and a basis for Nul $A$."
   ]
  },
  {
   "cell_type": "markdown",
   "metadata": {},
   "source": [
    "(a) The rank is 2 based on the Diagonal matrix in $\\Sigma$.\n",
    "\n",
    "(b) The basis of $A$ is the first two columns of $U$, $\\begin{Bmatrix}\\begin{bmatrix} -0.86 & -0.11\\\\~~0.31 & ~~0.68\\\\~~0.41 & -0.73\\end{bmatrix}\\end{Bmatrix}$.  \n",
    "\n",
    "The basis for the Nul $A$ is the last two rows of the $V^T$, $\\begin{bmatrix}~~0.65 & ~~0.08 & -0.16 & -0.73 \\\\ -0.34 & ~~0.42 & -0.84 & -0.08\\end{bmatrix}$ or rather more clearly stated, the last two columns of V,\n",
    "\n",
    "\n",
    "$\\begin{Bmatrix}\\begin{bmatrix}~~0.65 \\\\ ~~0.08 \\\\ -0.16 \\\\ -0.73\\end{bmatrix} \\begin{bmatrix}-0.34 \\\\ ~~0.42 \\\\ -0.84 \\\\ -0.08\\end{bmatrix}\\end{Bmatrix}$."
   ]
  },
  {
   "cell_type": "code",
   "execution_count": 4,
   "metadata": {},
   "outputs": [
    {
     "name": "stdout",
     "output_type": "stream",
     "text": [
      "Show the calculation to valid our results: (we are expecting floating point error)\n"
     ]
    },
    {
     "data": {
      "text/latex": [
       "sympy.Matrix.rank() correctly displays the rank as 2."
      ],
      "text/plain": [
       "<IPython.core.display.Latex object>"
      ]
     },
     "metadata": {},
     "output_type": "display_data"
    },
    {
     "data": {
      "text/latex": [
       "$A^TA.eigenval()$ shows two very small eigenvalues, $\\left\\{ -2.13039473560594 \\cdot 10^{-15} : 1, \\  -2.00925079369198 \\cdot 10^{-63} : 1, \\  40.3241537771784 : 1, \\  155.493056575486 : 1\\right\\}$, which provides further evidence that the rank is indeed $(4-2)=2$."
      ],
      "text/plain": [
       "<IPython.core.display.Latex object>"
      ]
     },
     "metadata": {},
     "output_type": "display_data"
    },
    {
     "data": {
      "text/latex": [
       "Show $UU^T, VV^T$: *Here we are demostrating U and V are orthonormal basises by rounding."
      ],
      "text/plain": [
       "<IPython.core.display.Latex object>"
      ]
     },
     "metadata": {},
     "output_type": "display_data"
    },
    {
     "data": {
      "text/latex": [
       "$\\displaystyle \\left( \\left[\\begin{matrix}1.0 & 0 & 0\\\\0 & 1.0 & 0\\\\0 & 0 & 1.0\\end{matrix}\\right], \\  \\left[\\begin{matrix}1.0 & 0 & 0 & 0\\\\0 & 1.0 & 0 & 0\\\\0 & 0 & 1.0 & 0\\\\0 & 0 & 0 & 1.0\\end{matrix}\\right]\\right)$"
      ],
      "text/plain": [
       "⎛                 ⎡1.0   0    0    0 ⎤⎞\n",
       "⎜⎡1.0   0    0 ⎤  ⎢                  ⎥⎟\n",
       "⎜⎢             ⎥  ⎢ 0   1.0   0    0 ⎥⎟\n",
       "⎜⎢ 0   1.0   0 ⎥, ⎢                  ⎥⎟\n",
       "⎜⎢             ⎥  ⎢ 0    0   1.0   0 ⎥⎟\n",
       "⎜⎣ 0    0   1.0⎦  ⎢                  ⎥⎟\n",
       "⎝                 ⎣ 0    0    0   1.0⎦⎠"
      ]
     },
     "execution_count": 4,
     "metadata": {},
     "output_type": "execute_result"
    }
   ],
   "source": [
    "print('Show the calculation to valid our results: (we are expecting floating point error)')\n",
    "U = Matrix([[-0.86, -0.11, -0.50],[0.31,0.68,-0.67],[0.41,-0.73,-0.55]])\n",
    "sigma = Matrix([[12.48,0,0,0],[0,6.34,0,0],[0,0,0,0]])\n",
    "V = Matrix([[0.66,-0.03,-0.35,0.66],[-0.13,-0.90,-0.39,-0.13],[0.65,0.08,-0.16,-0.73],[-0.34,0.42,-0.84,-0.08]]).T\n",
    "A = U*sigma*V.T\n",
    "\n",
    "display(Latex(f'sympy.Matrix.rank() correctly displays the rank as {sym.latex(A.rank())}.'))\n",
    "display(Latex(f'$A^TA.eigenval()$ shows two very small eigenvalues, \\\n",
    "${sym.latex((A.T*A).eigenvals())}$, which provides further evidence that the rank is indeed $(4-2)=2$.'))\n",
    "\n",
    "v1 = A.col(0)\n",
    "v2 = A.col(1) - v1 * A.col(1).dot(v1)/v1.dot(v1)\n",
    "v1 = v1/v1.norm()\n",
    "v2 = v2/v2.norm()\n",
    "v1,v2  \n",
    "\n",
    "display(Latex('Show $UU^T, VV^T$: *Here we are demostrating U and V are orthonormal basises by rounding.'))\n",
    "(U*U.T).applyfunc(lambda x: round(x,1)), (V*V.T).applyfunc(lambda x: round(x,1))# A.col(0)/A.col(0).norm(), A.col(1)/A.col().norm()"
   ]
  },
  {
   "cell_type": "markdown",
   "metadata": {},
   "source": [
    "### 3. Suppose $A$ is square and invertible.  Find the singular value decomposition of $A^{-1}$."
   ]
  },
  {
   "cell_type": "markdown",
   "metadata": {},
   "source": [
    "Recall: $A=U\\Sigma\\ V^T$ \n",
    "\n",
    "also recall: $A^{-1}=V\\Sigma^{-1}U^T$, where $\\Sigma^{-1}= diag( \\frac{1}{\\sigma_1}, \\frac{1}{\\sigma_2}, ..., \\frac{1}{\\sigma_n})$\n",
    "\n",
    "Working backwards see can see this is correct:\n",
    "\n",
    "$A^{-1}A = (V\\Sigma^{-1}U^T)(U\\Sigma V^T)$\n",
    "\n",
    "$= V\\Sigma^{-1}(U^TU)\\Sigma V^T)$\n",
    "\n",
    "$= V(\\Sigma^{-1}\\Sigma)V^T)$\n",
    "\n",
    "$= VV^T$\n",
    "\n",
    "$= I$\n",
    "\n",
    "To the Mathematician it ought to be obvious how this might be made into a proof, being a pedantic lot maybe we should just do this. Here we go...\n",
    "\n",
    "Proof:\n",
    "\n",
    "$A^{-1}=(U\\Sigma V^T)^{-1}$\n",
    "\n",
    "$=(V^T)^{-1}\\Sigma^{-1}U^{-1}$, ($U$ and $V$ are orthonormal, thus $(V^T)^{-1} = V$ and $U^{-1} = U^T$)\n",
    "\n",
    "$=V\\Sigma^{-1}U^T$, where $\\Sigma^{-1}= diag( \\frac{1}{\\sigma_1}, \\frac{1}{\\sigma_2}, ..., \\frac{1}{\\sigma_n})$. \n",
    "\n",
    "∎\n",
    "\n",
    "'Ah! Never to escape from Being and Number!'\n",
    "\n",
    "-Charles Baudelaire, The Void\n",
    "\n",
    "* see also: Moore-Penrose inverse (pseudoinverse) where, $A^†=V_r\\Sigma^{-1}U^T_r$\n",
    "* see also Lay, Ex 7.4.7"
   ]
  },
  {
   "cell_type": "markdown",
   "metadata": {},
   "source": [
    "### 4. Show that if $A$ is square, then $|detA|$ is the product of the singular values of $A$."
   ]
  },
  {
   "cell_type": "markdown",
   "metadata": {},
   "source": [
    "Recall: $A=U\\Sigma\\ V^T$\n",
    "\n",
    "Also recall for a square matrix: \n",
    "\n",
    "$\\Sigma= diag( {\\sigma_1}, {\\sigma_2}, ..., {\\sigma_n})$, where $\\sigma_i=\\sqrt{\\lambda_i}$.  \n",
    "These $\\lambda_i$ are our eigenvalues given by our characteristic polynomial of $A$.\n",
    "\n",
    "We also know that $U$ and $V^{-1}$ are orthonormal thus are rotations that will not scale $\\Sigma$.  Further we can note the determinate of an orthonormal basis is $1$.  This property means U and V are unitary.\n",
    "\n",
    "Thus by construction using definition of $det$ and the fact that $\\Sigma$ is a diagonal matrix,\n",
    "\n",
    "$|detA| = \\prod( {\\sigma_1}^2, {\\sigma_2}^2, ..., {\\sigma_n}^2)$, \n",
    "\n",
    "$= \\prod( {\\lambda_1}, {\\lambda_2}, ..., {\\lambda_n})$\n",
    "\n",
    "∎"
   ]
  },
  {
   "cell_type": "markdown",
   "metadata": {},
   "source": [
    "### 5. Find the $\\textit{minimal length}$ least-squares solution of the equation $A\\bf x=\\bf b$, where\n",
    "$A = \\begin{bmatrix} 1 & 1 & 0\\\\1 & 1 & 0\\\\1 & 0 & 1\\\\ 1 & 0 & 1\\end{bmatrix}, ~~{\\bf b} = \\begin{bmatrix} 1\\\\3\\\\8\\\\2\\end{bmatrix}$."
   ]
  },
  {
   "cell_type": "code",
   "execution_count": 40,
   "metadata": {},
   "outputs": [
    {
     "data": {
      "text/latex": [
       "Recall: $A^TAx=A^Tb$"
      ],
      "text/plain": [
       "<IPython.core.display.Latex object>"
      ]
     },
     "metadata": {},
     "output_type": "display_data"
    },
    {
     "data": {
      "text/latex": [
       "Thus, $\\hat{x}=(A^TA)^{-1}A^Tb$, We've been setup! A.T*A is not invertible."
      ],
      "text/plain": [
       "<IPython.core.display.Latex object>"
      ]
     },
     "metadata": {},
     "output_type": "display_data"
    },
    {
     "data": {
      "image/png": "[encoded data removed]",
      "text/latex": [
       "$\\displaystyle 2$"
      ],
      "text/plain": [
       "2"
      ]
     },
     "execution_count": 40,
     "metadata": {},
     "output_type": "execute_result"
    }
   ],
   "source": [
    "display(Latex('Recall: $A^TAx=A^Tb$'))\n",
    "display(Latex(\"Thus, $\\\\hat{x}=(A^TA)^{-1}A^Tb$, We've been setup! A.T*A is not invertible.\"))\n",
    "A = Matrix([[1,1,1,1],[1,1,0,0],[0,0,1,1]]).T # Transposed to make it easiler to type\n",
    "b = Matrix([1,3,8,2])\n",
    "A.rank()"
   ]
  },
  {
   "cell_type": "code",
   "execution_count": 41,
   "metadata": {},
   "outputs": [
    {
     "data": {
      "text/latex": [
       "$\\displaystyle \\left[ \\left( 0, \\  2, \\  \\left[ \\left[\\begin{matrix}-1\\\\1\\\\0\\\\0\\end{matrix}\\right], \\  \\left[\\begin{matrix}0\\\\0\\\\-1\\\\1\\end{matrix}\\right]\\right]\\right), \\  \\left( 2, \\  1, \\  \\left[ \\left[\\begin{matrix}-1\\\\-1\\\\1\\\\1\\end{matrix}\\right]\\right]\\right), \\  \\left( 6, \\  1, \\  \\left[ \\left[\\begin{matrix}1\\\\1\\\\1\\\\1\\end{matrix}\\right]\\right]\\right)\\right]$"
      ],
      "text/plain": [
       "⎡⎛      ⎡⎡-1⎤  ⎡0 ⎤⎤⎞  ⎛      ⎡⎡-1⎤⎤⎞  ⎛      ⎡⎡1⎤⎤⎞⎤\n",
       "⎢⎜      ⎢⎢  ⎥  ⎢  ⎥⎥⎟  ⎜      ⎢⎢  ⎥⎥⎟  ⎜      ⎢⎢ ⎥⎥⎟⎥\n",
       "⎢⎜      ⎢⎢1 ⎥  ⎢0 ⎥⎥⎟  ⎜      ⎢⎢-1⎥⎥⎟  ⎜      ⎢⎢1⎥⎥⎟⎥\n",
       "⎢⎜0, 2, ⎢⎢  ⎥, ⎢  ⎥⎥⎟, ⎜2, 1, ⎢⎢  ⎥⎥⎟, ⎜6, 1, ⎢⎢ ⎥⎥⎟⎥\n",
       "⎢⎜      ⎢⎢0 ⎥  ⎢-1⎥⎥⎟  ⎜      ⎢⎢1 ⎥⎥⎟  ⎜      ⎢⎢1⎥⎥⎟⎥\n",
       "⎢⎜      ⎢⎢  ⎥  ⎢  ⎥⎥⎟  ⎜      ⎢⎢  ⎥⎥⎟  ⎜      ⎢⎢ ⎥⎥⎟⎥\n",
       "⎣⎝      ⎣⎣0 ⎦  ⎣1 ⎦⎦⎠  ⎝      ⎣⎣1 ⎦⎦⎠  ⎝      ⎣⎣1⎦⎦⎠⎦"
      ]
     },
     "execution_count": 41,
     "metadata": {},
     "output_type": "execute_result"
    }
   ],
   "source": [
    "# Let's do it the long way, we've got some time to kill...\n",
    "# consider U, show that we could have done it this way, but it's even more work\n",
    "# Ain't got time for that...\n",
    "(A*A.T).eigenvects()"
   ]
  },
  {
   "cell_type": "code",
   "execution_count": 34,
   "metadata": {},
   "outputs": [
    {
     "data": {
      "text/latex": [
       "$\\displaystyle \\left[ \\left( 0, \\  1, \\  \\left[ \\left[\\begin{matrix}-1\\\\1\\\\1\\end{matrix}\\right]\\right]\\right), \\  \\left( 2, \\  1, \\  \\left[ \\left[\\begin{matrix}0\\\\-1\\\\1\\end{matrix}\\right]\\right]\\right), \\  \\left( 6, \\  1, \\  \\left[ \\left[\\begin{matrix}2\\\\1\\\\1\\end{matrix}\\right]\\right]\\right)\\right]$"
      ],
      "text/plain": [
       "⎡⎛      ⎡⎡-1⎤⎤⎞  ⎛      ⎡⎡0 ⎤⎤⎞  ⎛      ⎡⎡2⎤⎤⎞⎤\n",
       "⎢⎜      ⎢⎢  ⎥⎥⎟  ⎜      ⎢⎢  ⎥⎥⎟  ⎜      ⎢⎢ ⎥⎥⎟⎥\n",
       "⎢⎜0, 1, ⎢⎢1 ⎥⎥⎟, ⎜2, 1, ⎢⎢-1⎥⎥⎟, ⎜6, 1, ⎢⎢1⎥⎥⎟⎥\n",
       "⎢⎜      ⎢⎢  ⎥⎥⎟  ⎜      ⎢⎢  ⎥⎥⎟  ⎜      ⎢⎢ ⎥⎥⎟⎥\n",
       "⎣⎝      ⎣⎣1 ⎦⎦⎠  ⎝      ⎣⎣1 ⎦⎦⎠  ⎝      ⎣⎣1⎦⎦⎠⎦"
      ]
     },
     "execution_count": 34,
     "metadata": {},
     "output_type": "execute_result"
    }
   ],
   "source": [
    "# Consider V\n",
    "(A.T*A).eigenvects()"
   ]
  },
  {
   "cell_type": "code",
   "execution_count": 42,
   "metadata": {},
   "outputs": [
    {
     "data": {
      "text/latex": [
       "$\\displaystyle \\left( \\sqrt{6}, \\  \\sqrt{2}, \\  0, \\  \\left[\\begin{matrix}2\\\\1\\\\1\\end{matrix}\\right], \\  \\left[\\begin{matrix}0\\\\-1\\\\1\\end{matrix}\\right], \\  \\left[\\begin{matrix}-1\\\\1\\\\1\\end{matrix}\\right]\\right)$"
      ],
      "text/plain": [
       "⎛           ⎡2⎤  ⎡0 ⎤  ⎡-1⎤⎞\n",
       "⎜           ⎢ ⎥  ⎢  ⎥  ⎢  ⎥⎟\n",
       "⎜√6, √2, 0, ⎢1⎥, ⎢-1⎥, ⎢1 ⎥⎟\n",
       "⎜           ⎢ ⎥  ⎢  ⎥  ⎢  ⎥⎟\n",
       "⎝           ⎣1⎦  ⎣1 ⎦  ⎣1 ⎦⎠"
      ]
     },
     "execution_count": 42,
     "metadata": {},
     "output_type": "execute_result"
    }
   ],
   "source": [
    "s3, s2, s1 = [sym.sqrt(eig[0]) for eig in (A.T*A).eigenvects()]\n",
    "v3, v2, v1 = [Matrix(eig[2][0]) for eig in (A.T*A).eigenvects()]\n",
    "s1, s2, s3, v1, v2, v3 # we don't need the third one of these but we're here anyway"
   ]
  },
  {
   "cell_type": "code",
   "execution_count": 43,
   "metadata": {},
   "outputs": [
    {
     "data": {
      "text/latex": [
       "$\\displaystyle \\left( \\left[\\begin{matrix}\\frac{1}{2} & - \\frac{1}{2}\\\\\\frac{1}{2} & - \\frac{1}{2}\\\\\\frac{1}{2} & \\frac{1}{2}\\\\\\frac{1}{2} & \\frac{1}{2}\\end{matrix}\\right], \\  \\left[\\begin{matrix}\\sqrt{6} & 0\\\\0 & \\sqrt{2}\\end{matrix}\\right], \\  \\left[\\begin{matrix}\\frac{\\sqrt{6}}{3} & \\frac{\\sqrt{6}}{6} & \\frac{\\sqrt{6}}{6}\\\\0 & - \\frac{\\sqrt{2}}{2} & \\frac{\\sqrt{2}}{2}\\end{matrix}\\right]\\right)$"
      ],
      "text/plain": [
       "⎛⎡1/2  -1/2⎤            ⎡√6   √6   √6⎤⎞\n",
       "⎜⎢         ⎥            ⎢──   ──   ──⎥⎟\n",
       "⎜⎢1/2  -1/2⎥  ⎡√6  0 ⎤  ⎢3    6    6 ⎥⎟\n",
       "⎜⎢         ⎥, ⎢      ⎥, ⎢            ⎥⎟\n",
       "⎜⎢1/2  1/2 ⎥  ⎣0   √2⎦  ⎢    -√2   √2⎥⎟\n",
       "⎜⎢         ⎥            ⎢0   ────  ──⎥⎟\n",
       "⎝⎣1/2  1/2 ⎦            ⎣     2    2 ⎦⎠"
      ]
     },
     "execution_count": 43,
     "metadata": {},
     "output_type": "execute_result"
    }
   ],
   "source": [
    "v1 = v1/v1.norm()\n",
    "v2 = v2/v2.norm()\n",
    "\n",
    "u1 = 1/s1 * A * v1\n",
    "u2 = 1/s2 * A * v2\n",
    "\n",
    "Vr = Matrix([v1.T,v2.T]).T\n",
    "Ur = Matrix([u1.T,u2.T]).T\n",
    "D = sym.diag(s1,s2)\n",
    "Ur, D, Vr.T"
   ]
  },
  {
   "cell_type": "code",
   "execution_count": 45,
   "metadata": {},
   "outputs": [
    {
     "data": {
      "text/latex": [
       "$\\displaystyle \\left( \\left[\\begin{matrix}1 & 0\\\\0 & 1\\end{matrix}\\right], \\  \\left[\\begin{matrix}\\frac{2}{3} & \\frac{1}{3} & \\frac{1}{3}\\\\\\frac{1}{3} & \\frac{2}{3} & - \\frac{1}{3}\\\\\\frac{1}{3} & - \\frac{1}{3} & \\frac{2}{3}\\end{matrix}\\right]\\right)$"
      ],
      "text/plain": [
       "⎛        ⎡2/3  1/3   1/3 ⎤⎞\n",
       "⎜⎡1  0⎤  ⎢               ⎥⎟\n",
       "⎜⎢    ⎥, ⎢1/3  2/3   -1/3⎥⎟\n",
       "⎜⎣0  1⎦  ⎢               ⎥⎟\n",
       "⎝        ⎣1/3  -1/3  2/3 ⎦⎠"
      ]
     },
     "execution_count": 45,
     "metadata": {},
     "output_type": "execute_result"
    }
   ],
   "source": [
    "Vr.T*Vr, Vr*Vr.T"
   ]
  },
  {
   "cell_type": "code",
   "execution_count": 36,
   "metadata": {},
   "outputs": [
    {
     "data": {
      "text/latex": [
       "$\\displaystyle \\left( \\left[\\begin{matrix}1 & 1 & 0\\\\1 & 1 & 0\\\\1 & 0 & 1\\\\1 & 0 & 1\\end{matrix}\\right], \\  2.82842712474619, \\  2.44948974278318, \\  \\left[\\begin{matrix}1.0 & 0.6 & 0.6\\\\1.0 & 0.6 & 0.6\\\\1.0 & 0.6 & 0.6\\\\1.0 & 0.6 & 0.6\\end{matrix}\\right], \\  \\left[\\begin{matrix}2.0\\\\1.0\\\\1.0\\end{matrix}\\right]\\right)$"
      ],
      "text/plain": [
       "⎛⎡1  1  0⎤                                         ⎡1.0  0.6  0.6⎤       ⎞\n",
       "⎜⎢       ⎥                                         ⎢             ⎥  ⎡2.0⎤⎟\n",
       "⎜⎢1  1  0⎥                                         ⎢1.0  0.6  0.6⎥  ⎢   ⎥⎟\n",
       "⎜⎢       ⎥, 2.8284271247461903, 2.449489742783178, ⎢             ⎥, ⎢1.0⎥⎟\n",
       "⎜⎢1  0  1⎥                                         ⎢1.0  0.6  0.6⎥  ⎢   ⎥⎟\n",
       "⎜⎢       ⎥                                         ⎢             ⎥  ⎣1.0⎦⎟\n",
       "⎝⎣1  0  1⎦                                         ⎣1.0  0.6  0.6⎦       ⎠"
      ]
     },
     "execution_count": 36,
     "metadata": {},
     "output_type": "execute_result"
    }
   ],
   "source": [
    "# think about Frobenius norm\n",
    "f = lambda x: x**2\n",
    "Af = A.applyfunc(f)\n",
    "fnorm = sqrt(sum(Af))\n",
    "Af, fnorm, sqrt(6), (Ur.col(0)* sqrt(sum(Af))*Vr.col(0).T).n(1), (Vr.col(0)*1/fnorm*Ur.col(0).T*b).n(2)"
   ]
  },
  {
   "cell_type": "code",
   "execution_count": 10,
   "metadata": {},
   "outputs": [
    {
     "data": {
      "text/latex": [
       "$\\displaystyle \\left( \\left[\\begin{matrix}1 & 1 & 0\\\\1 & 1 & 0\\\\1 & 0 & 1\\\\1 & 0 & 1\\end{matrix}\\right], \\  \\left[\\begin{matrix}1 & 1 & 0\\\\1 & 1 & 0\\\\1 & 0 & 1\\\\1 & 0 & 1\\end{matrix}\\right]\\right)$"
      ],
      "text/plain": [
       "⎛⎡1  1  0⎤  ⎡1  1  0⎤⎞\n",
       "⎜⎢       ⎥  ⎢       ⎥⎟\n",
       "⎜⎢1  1  0⎥  ⎢1  1  0⎥⎟\n",
       "⎜⎢       ⎥, ⎢       ⎥⎟\n",
       "⎜⎢1  0  1⎥  ⎢1  0  1⎥⎟\n",
       "⎜⎢       ⎥  ⎢       ⎥⎟\n",
       "⎝⎣1  0  1⎦  ⎣1  0  1⎦⎠"
      ]
     },
     "execution_count": 10,
     "metadata": {},
     "output_type": "execute_result"
    }
   ],
   "source": [
    "Ur*D*Vr.T, A  # validate our decomposing zombie brains"
   ]
  },
  {
   "cell_type": "code",
   "execution_count": 37,
   "metadata": {},
   "outputs": [
    {
     "data": {
      "text/latex": [
       "$\\displaystyle \\left[\\begin{matrix}\\frac{7}{3}\\\\- \\frac{1}{3}\\\\\\frac{8}{3}\\end{matrix}\\right]$"
      ],
      "text/plain": [
       "⎡7/3 ⎤\n",
       "⎢    ⎥\n",
       "⎢-1/3⎥\n",
       "⎢    ⎥\n",
       "⎣8/3 ⎦"
      ]
     },
     "execution_count": 37,
     "metadata": {},
     "output_type": "execute_result"
    }
   ],
   "source": [
    "# find least-squares solution and show it\n",
    "x_hat_ls = Vr*D.inv()*Ur.T*b\n",
    "x_hat_ls"
   ]
  },
  {
   "cell_type": "code",
   "execution_count": 12,
   "metadata": {},
   "outputs": [
    {
     "data": {
      "text/latex": [
       "$\\displaystyle \\left[\\begin{matrix}2\\\\2\\\\5\\\\5\\end{matrix}\\right]$"
      ],
      "text/plain": [
       "⎡2⎤\n",
       "⎢ ⎥\n",
       "⎢2⎥\n",
       "⎢ ⎥\n",
       "⎢5⎥\n",
       "⎢ ⎥\n",
       "⎣5⎦"
      ]
     },
     "execution_count": 12,
     "metadata": {},
     "output_type": "execute_result"
    }
   ],
   "source": [
    "# show orthogonal projection of b_hat of b onto colA\n",
    "Ur*Ur.T*b  # A*x_hat_ls"
   ]
  },
  {
   "cell_type": "code",
   "execution_count": 13,
   "metadata": {},
   "outputs": [
    {
     "data": {
      "text/latex": [
       "$\\displaystyle \\left[\\begin{matrix}2\\\\2\\\\5\\\\5\\end{matrix}\\right]$"
      ],
      "text/plain": [
       "⎡2⎤\n",
       "⎢ ⎥\n",
       "⎢2⎥\n",
       "⎢ ⎥\n",
       "⎢5⎥\n",
       "⎢ ⎥\n",
       "⎣5⎦"
      ]
     },
     "execution_count": 13,
     "metadata": {},
     "output_type": "execute_result"
    }
   ],
   "source": [
    "A*x_hat_ls # same as Ur*Ur.T*b above"
   ]
  },
  {
   "cell_type": "code",
   "execution_count": 39,
   "metadata": {},
   "outputs": [
    {
     "name": "stdout",
     "output_type": "stream",
     "text": [
      "Show our least squares solution as a summary: \n"
     ]
    },
    {
     "data": {
      "text/latex": [
       "$\\displaystyle \\left[\\begin{matrix}\\frac{7}{3}\\\\- \\frac{1}{3}\\\\\\frac{8}{3}\\end{matrix}\\right]$"
      ],
      "text/plain": [
       "⎡7/3 ⎤\n",
       "⎢    ⎥\n",
       "⎢-1/3⎥\n",
       "⎢    ⎥\n",
       "⎣8/3 ⎦"
      ]
     },
     "execution_count": 39,
     "metadata": {},
     "output_type": "execute_result"
    }
   ],
   "source": [
    "print('Show our least squares solution as a summary: ') \n",
    "x_hat_ls"
   ]
  },
  {
   "cell_type": "markdown",
   "metadata": {},
   "source": [
    "### Appendix 1. BIG PICTURE of linear algebra"
   ]
  },
  {
   "attachments": {
    "four_subspace.png": {
     "image/png": "[encoded data removed]"
    }
   },
   "cell_type": "markdown",
   "metadata": {},
   "source": [
    "![four_subspace.png](attachment:four_subspace.png)\n",
    "#### 4 subspaces\n",
    "    - rowspace\n",
    "    - nullspace\n",
    "    - columnspace\n",
    "    - leftnullspace"
   ]
  },
  {
   "cell_type": "code",
   "execution_count": 15,
   "metadata": {},
   "outputs": [
    {
     "data": {
      "text/latex": [
       "$\\displaystyle \\left( \\left[\\begin{matrix}1\\\\2\\\\3\\end{matrix}\\right], \\  \\left[\\begin{matrix}4\\\\5\\\\6\\end{matrix}\\right]\\right)$"
      ],
      "text/plain": [
       "⎛⎡1⎤  ⎡4⎤⎞\n",
       "⎜⎢ ⎥  ⎢ ⎥⎟\n",
       "⎜⎢2⎥, ⎢5⎥⎟\n",
       "⎜⎢ ⎥  ⎢ ⎥⎟\n",
       "⎝⎣3⎦  ⎣6⎦⎠"
      ]
     },
     "execution_count": 15,
     "metadata": {},
     "output_type": "execute_result"
    }
   ],
   "source": [
    "A = Matrix([[1,2,3],[4,5,6]])\n",
    "rowA = A.T.col(0), A.T.col(1)\n",
    "rowA # dim = r"
   ]
  },
  {
   "cell_type": "code",
   "execution_count": 16,
   "metadata": {},
   "outputs": [
    {
     "data": {
      "text/latex": [
       "$\\displaystyle \\left( \\left( \\left[\\begin{matrix}1 & 0 & -1\\\\0 & 1 & 2\\end{matrix}\\right], \\  \\left( 0, \\  1\\right)\\right), \\  \\left[\\begin{matrix}1\\\\-2\\\\1\\end{matrix}\\right], \\  \\left[ \\left[\\begin{matrix}1\\\\-2\\\\1\\end{matrix}\\right]\\right], \\  \\left[\\begin{matrix}0\\\\0\\end{matrix}\\right]\\right)$"
      ],
      "text/plain": [
       "⎛                      ⎡1 ⎤  ⎡⎡1 ⎤⎤     ⎞\n",
       "⎜⎛⎡1  0  -1⎤        ⎞  ⎢  ⎥  ⎢⎢  ⎥⎥  ⎡0⎤⎟\n",
       "⎜⎜⎢        ⎥, (0, 1)⎟, ⎢-2⎥, ⎢⎢-2⎥⎥, ⎢ ⎥⎟\n",
       "⎜⎝⎣0  1  2 ⎦        ⎠  ⎢  ⎥  ⎢⎢  ⎥⎥  ⎣0⎦⎟\n",
       "⎝                      ⎣1 ⎦  ⎣⎣1 ⎦⎦     ⎠"
      ]
     },
     "execution_count": 16,
     "metadata": {},
     "output_type": "execute_result"
    }
   ],
   "source": [
    "A.rref()# x1 - x3 = 0,  x2 + 2*x3 = 0, setting x3 == 1 yeilds, [1,-2,1]\n",
    "nulA = Matrix([1,-2,1]) # n dims\n",
    "A.rref(), nulA, A.nullspace(), A*nulA  # dim = n- r"
   ]
  },
  {
   "cell_type": "code",
   "execution_count": 17,
   "metadata": {},
   "outputs": [
    {
     "data": {
      "text/latex": [
       "$\\displaystyle \\left( 2, \\  \\left[ \\left[\\begin{matrix}1\\\\4\\end{matrix}\\right], \\  \\left[\\begin{matrix}2\\\\5\\end{matrix}\\right]\\right], \\  \\left[ \\left[\\begin{matrix}1\\\\4\\end{matrix}\\right], \\  \\left[\\begin{matrix}2\\\\5\\end{matrix}\\right]\\right]\\right)$"
      ],
      "text/plain": [
       "⎛   ⎡⎡1⎤  ⎡2⎤⎤  ⎡⎡1⎤  ⎡2⎤⎤⎞\n",
       "⎜2, ⎢⎢ ⎥, ⎢ ⎥⎥, ⎢⎢ ⎥, ⎢ ⎥⎥⎟\n",
       "⎝   ⎣⎣4⎦  ⎣5⎦⎦  ⎣⎣4⎦  ⎣5⎦⎦⎠"
      ]
     },
     "execution_count": 17,
     "metadata": {},
     "output_type": "execute_result"
    }
   ],
   "source": [
    "colA = [A.col(0),A.col(1)]\n",
    "A.rank(), colA, A.columnspace() # dim = r"
   ]
  },
  {
   "cell_type": "code",
   "execution_count": 18,
   "metadata": {},
   "outputs": [
    {
     "data": {
      "text/latex": [
       "$\\displaystyle \\left( \\left[\\begin{matrix}0\\\\0\\end{matrix}\\right], \\  \\left[ \\right]\\right)$"
      ],
      "text/plain": [
       "⎛⎡0⎤    ⎞\n",
       "⎜⎢ ⎥, []⎟\n",
       "⎝⎣0⎦    ⎠"
      ]
     },
     "execution_count": 18,
     "metadata": {},
     "output_type": "execute_result"
    }
   ],
   "source": [
    "A.T.rref() # spans R^2, thus nulAT is [0,0], or simply []\n",
    "nulAT = Matrix([0,0]) # m dims\n",
    "nulAT, A.T.nullspace() # dim = m-r"
   ]
  },
  {
   "cell_type": "markdown",
   "metadata": {},
   "source": [
    "### Appendix 2. Practice Problems"
   ]
  },
  {
   "cell_type": "code",
   "execution_count": 19,
   "metadata": {},
   "outputs": [
    {
     "data": {
      "text/latex": [
       "$\\displaystyle \\left( \\left[\\begin{matrix}1 & 2 & 3\\\\4 & 5 & 6\\\\7 & 8 & 9\\end{matrix}\\right], \\  \\left[\\begin{matrix}1 & 0 & 0\\\\0 & 0 & 0\\\\0 & 0 & 0\\end{matrix}\\right], \\  \\left[\\begin{matrix}1 & 0 & 0\\\\4 & 0 & 0\\\\7 & 0 & 0\\end{matrix}\\right]\\right)$"
      ],
      "text/plain": [
       "⎛⎡1  2  3⎤  ⎡1  0  0⎤  ⎡1  0  0⎤⎞\n",
       "⎜⎢       ⎥  ⎢       ⎥  ⎢       ⎥⎟\n",
       "⎜⎢4  5  6⎥, ⎢0  0  0⎥, ⎢4  0  0⎥⎟\n",
       "⎜⎢       ⎥  ⎢       ⎥  ⎢       ⎥⎟\n",
       "⎝⎣7  8  9⎦  ⎣0  0  0⎦  ⎣7  0  0⎦⎠"
      ]
     },
     "execution_count": 19,
     "metadata": {},
     "output_type": "execute_result"
    }
   ],
   "source": [
    "A = Matrix([[1,2,3],[4,5,6],[7,8,9]])\n",
    "In = sym.eye(3)\n",
    "In[2,2]=0\n",
    "In[1,1]=0\n",
    "\n",
    "A,In,A*In"
   ]
  },
  {
   "cell_type": "markdown",
   "metadata": {},
   "source": [
    "#### Lay Ex6.6.2\n",
    "Suppose we wish to approximate the data by an equation of the form $y_1=\\beta_0+\\beta_1 x_1+\\beta_2 x^{2}$.\n",
    "\n",
    "Describe the linear model that produces a \"least-squares fit\" of the data by the above equation."
   ]
  },
  {
   "cell_type": "markdown",
   "metadata": {},
   "source": [
    "The coordinate of data points $(x_k, y_k)$ must statisfy the equations of the form $y_k=\\beta_0+\\beta_1 x_k+\\beta_2 x^{2}_k+\\epsilon_k$."
   ]
  },
  {
   "cell_type": "code",
   "execution_count": 20,
   "metadata": {},
   "outputs": [
    {
     "data": {
      "text/latex": [
       "$y=X\\beta+\\epsilon$"
      ],
      "text/plain": [
       "<IPython.core.display.Latex object>"
      ]
     },
     "metadata": {},
     "output_type": "display_data"
    },
    {
     "data": {
      "text/latex": [
       "Where $y$ is 'observation vector', $X$ is the 'design matrix', $\\beta$ is the 'parameter vector' and $\\epsilon$ is the 'residual vector'."
      ],
      "text/plain": [
       "<IPython.core.display.Latex object>"
      ]
     },
     "metadata": {},
     "output_type": "display_data"
    },
    {
     "data": {
      "text/latex": [
       "$\\left[\\begin{matrix}y_{1}\\\\y_{2}\\\\y_{n}\\end{matrix}\\right]=\\left[\\begin{matrix}1 & x_{1} & x_{1}^{2} & x_{1}^{3}\\\\1 & x_{2} & x_{2}^{2} & x_{2}^{3}\\\\1 & x_{n} & x_{n}^{2} & x_{n}^{3}\\end{matrix}\\right]\\left[\\begin{matrix}\\beta_{0}\\\\\\beta_{1}\\\\\\beta_{2}\\\\\\beta_{3}\\end{matrix}\\right]+\\left[\\begin{matrix}\\epsilon_{1}\\\\\\epsilon_{2}\\\\\\epsilon_{n}\\end{matrix}\\right]$"
      ],
      "text/plain": [
       "<IPython.core.display.Latex object>"
      ]
     },
     "metadata": {},
     "output_type": "display_data"
    }
   ],
   "source": [
    "y = Matrix(sym.symbols('y1 y2 y_n'))\n",
    "beta = Matrix(sym.symbols('beta:4'))\n",
    "epsilon = Matrix(sym.symbols('epsilon1 epsilon2 epsilon_n'))\n",
    "x0 = sym.ones(1,3)\n",
    "x1 = sym.symbols('x1, x2, x_n')\n",
    "x2 = [e**2 for e in x1]\n",
    "x3 = [e**3 for e in x1]\n",
    "X = Matrix([x0,x1,x2,x3]).T\n",
    "y, X, beta, epsilon\n",
    "display(Latex('$y=X\\\\beta+\\\\epsilon$'))  # note use of '\\\\beta' to escape '\\' charactor\n",
    "display(Latex(\"Where $y$ is 'observation vector', $X$ is the 'design matrix', \\\n",
    "$\\\\beta$ is the 'parameter vector' and $\\\\epsilon$ is the 'residual vector'.\"))\n",
    "display(Latex(f'${sym.latex(y)}={sym.latex(X)}{sym.latex(beta)}+{sym.latex(epsilon)}$'))"
   ]
  }
 ],
 "metadata": {
  "kernelspec": {
   "display_name": "Python 3",
   "language": "python",
   "name": "python3"
  },
  "language_info": {
   "codemirror_mode": {
    "name": "ipython",
    "version": 3
   },
   "file_extension": ".py",
   "mimetype": "text/x-python",
   "name": "python",
   "nbconvert_exporter": "python",
   "pygments_lexer": "ipython3",
   "version": "3.8.10"
  }
 },
 "nbformat": 4,
 "nbformat_minor": 4
}
