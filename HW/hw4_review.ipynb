{
 "cells": [
  {
   "cell_type": "markdown",
   "metadata": {},
   "source": [
    "# Math 425 Computation Linear Algebra\n",
    "## HW4\n",
    "\n",
    "### Brent A. Thorne\n",
    "\n",
    "brentathorne@gmail.com\n",
    "\n",
    "##### Vector Spaces, Basis and Othogonality."
   ]
  },
  {
   "cell_type": "code",
   "execution_count": 1,
   "metadata": {},
   "outputs": [],
   "source": [
    "# environment setup, try to make it clear which library I'm using for what\n",
    "import numpy as np  # nice arrays and other stuff\n",
    "import sympy as sym # symbollic maths \n",
    "from sympy.matrices import Matrix # pretty matrices\n",
    "from sympy import Eq # pretty equations\n",
    "from sympy.physics.quantum.dagger import Dagger # we'll want this later...\n",
    "from math import e, pi, sqrt # Mathy math math\n",
    "from mpl_toolkits.mplot3d import Axes3D # we like 3d quivers for tutorials\n",
    "import matplotlib.pyplot as plt # old standby for plotting like a villian\n",
    "from IPython.display import display, Math, Latex # used to display formatted results in the console\n",
    "sym.init_printing()  # initialize pretty printing"
   ]
  },
  {
   "cell_type": "markdown",
   "metadata": {},
   "source": [
    "### 2. Let $A=\\begin{bmatrix}1&&-2&&0&&3\\\\2&&-3&&-1&&-4\\\\3&&-5&&-1&&-1\\end{bmatrix}$."
   ]
  },
  {
   "cell_type": "code",
   "execution_count": 2,
   "metadata": {},
   "outputs": [
    {
     "data": {
      "text/latex": [
       "$\\displaystyle \\left( \\left[\\begin{matrix}1 & 0 & -2 & -17\\\\0 & 1 & -1 & -10\\\\0 & 0 & 0 & 0\\end{matrix}\\right], \\  \\left( 0, \\  1\\right)\\right)$"
      ],
      "text/plain": [
       "⎛⎡1  0  -2  -17⎤        ⎞\n",
       "⎜⎢             ⎥        ⎟\n",
       "⎜⎢0  1  -1  -10⎥, (0, 1)⎟\n",
       "⎜⎢             ⎥        ⎟\n",
       "⎝⎣0  0  0    0 ⎦        ⎠"
      ]
     },
     "execution_count": 2,
     "metadata": {},
     "output_type": "execute_result"
    }
   ],
   "source": [
    "A = Matrix([[1,-2,0,3],[2,-3,-1,-4],[3,-5,-1,-1]])\n",
    "A.rref()"
   ]
  },
  {
   "cell_type": "markdown",
   "metadata": {},
   "source": [
    "#### (i) Find a basis for RowA and NulA."
   ]
  },
  {
   "cell_type": "code",
   "execution_count": 3,
   "metadata": {},
   "outputs": [
    {
     "data": {
      "text/latex": [
       "$\\displaystyle \\left( \\left[\\begin{matrix}1 & -2 & 0 & 3\\\\0 & 1 & -1 & -10\\\\0 & 0 & 0 & 0\\end{matrix}\\right], \\  \\left[\\begin{matrix}1 & 0 & 0\\\\-2 & 1 & 0\\\\0 & -1 & 0\\\\3 & -10 & 0\\end{matrix}\\right], \\  \\left[ \\left[\\begin{matrix}1 & -2 & 0 & 3\\end{matrix}\\right], \\  \\left[\\begin{matrix}0 & 1 & -1 & -10\\end{matrix}\\right]\\right]\\right)$"
      ],
      "text/plain": [
       "⎛                  ⎡1    0   0⎤                                  ⎞\n",
       "⎜⎡1  -2  0    3 ⎤  ⎢          ⎥                                  ⎟\n",
       "⎜⎢              ⎥  ⎢-2   1   0⎥                                  ⎟\n",
       "⎜⎢0  1   -1  -10⎥, ⎢          ⎥, [[1  -2  0  3], [0  1  -1  -10]]⎟\n",
       "⎜⎢              ⎥  ⎢0   -1   0⎥                                  ⎟\n",
       "⎜⎣0  0   0    0 ⎦  ⎢          ⎥                                  ⎟\n",
       "⎝                  ⎣3   -10  0⎦                                  ⎠"
      ]
     },
     "execution_count": 3,
     "metadata": {},
     "output_type": "execute_result"
    }
   ],
   "source": [
    "# RowA is the row reduced rows\n",
    "A.echelon_form(), A.echelon_form().T, A.rowspace()"
   ]
  },
  {
   "cell_type": "code",
   "execution_count": 4,
   "metadata": {},
   "outputs": [
    {
     "data": {
      "text/latex": [
       "$\\displaystyle \\left( \\left[\\begin{matrix}-17\\\\-10\\\\0\\\\-1\\end{matrix}\\right], \\  \\left[ \\left[\\begin{matrix}2\\\\1\\\\1\\\\0\\end{matrix}\\right], \\  \\left[\\begin{matrix}17\\\\10\\\\0\\\\1\\end{matrix}\\right]\\right]\\right)$"
      ],
      "text/plain": [
       "⎛⎡-17⎤  ⎡⎡2⎤  ⎡17⎤⎤⎞\n",
       "⎜⎢   ⎥  ⎢⎢ ⎥  ⎢  ⎥⎥⎟\n",
       "⎜⎢-10⎥  ⎢⎢1⎥  ⎢10⎥⎥⎟\n",
       "⎜⎢   ⎥, ⎢⎢ ⎥, ⎢  ⎥⎥⎟\n",
       "⎜⎢ 0 ⎥  ⎢⎢1⎥  ⎢0 ⎥⎥⎟\n",
       "⎜⎢   ⎥  ⎢⎢ ⎥  ⎢  ⎥⎥⎟\n",
       "⎝⎣-1 ⎦  ⎣⎣0⎦  ⎣1 ⎦⎦⎠"
      ]
     },
     "execution_count": 4,
     "metadata": {},
     "output_type": "execute_result"
    }
   ],
   "source": [
    "nulA = A.rref(pivots=False).col(-1).col_join(-sym.ones(1))\n",
    "nulA, A.nullspace()"
   ]
  },
  {
   "cell_type": "code",
   "execution_count": 15,
   "metadata": {},
   "outputs": [
    {
     "data": {
      "text/latex": [
       "$\\displaystyle \\left( \\left[\\begin{matrix}14 & -23\\\\-23 & 38\\end{matrix}\\right], \\  \\left[ \\left[\\begin{matrix}2\\\\1\\\\1\\\\0\\end{matrix}\\right], \\  \\left[\\begin{matrix}17\\\\10\\\\0\\\\1\\end{matrix}\\right]\\right], \\  \\left[\\begin{matrix}1 & -2 & 0 & 3\\\\2 & -3 & -1 & -4\\\\3 & -5 & -1 & -1\\end{matrix}\\right], \\  \\left[\\begin{matrix}1 & 0 & -2 & -17\\\\0 & 1 & -1 & -10\\\\0 & 0 & 0 & 0\\end{matrix}\\right]\\right)$"
      ],
      "text/plain": [
       "⎛            ⎡⎡2⎤  ⎡17⎤⎤                                  ⎞\n",
       "⎜            ⎢⎢ ⎥  ⎢  ⎥⎥  ⎡1  -2  0   3 ⎤  ⎡1  0  -2  -17⎤⎟\n",
       "⎜⎡14   -23⎤  ⎢⎢1⎥  ⎢10⎥⎥  ⎢             ⎥  ⎢             ⎥⎟\n",
       "⎜⎢        ⎥, ⎢⎢ ⎥, ⎢  ⎥⎥, ⎢2  -3  -1  -4⎥, ⎢0  1  -1  -10⎥⎟\n",
       "⎜⎣-23  38 ⎦  ⎢⎢1⎥  ⎢0 ⎥⎥  ⎢             ⎥  ⎢             ⎥⎟\n",
       "⎜            ⎢⎢ ⎥  ⎢  ⎥⎥  ⎣3  -5  -1  -1⎦  ⎣0  0  0    0 ⎦⎟\n",
       "⎝            ⎣⎣0⎦  ⎣1 ⎦⎦                                  ⎠"
      ]
     },
     "execution_count": 15,
     "metadata": {},
     "output_type": "execute_result"
    }
   ],
   "source": [
    "colA = Matrix([A.columnspace()])\n",
    "colA.T*colA, A.nullspace(), A, A.rref(pivots=False)"
   ]
  },
  {
   "cell_type": "code",
   "execution_count": 23,
   "metadata": {},
   "outputs": [
    {
     "data": {
      "text/latex": [
       "$\\displaystyle \\left[ \\left[\\begin{matrix}14\\\\-23\\\\-5\\\\-8\\end{matrix}\\right], \\  \\left[\\begin{matrix}-23\\\\38\\\\8\\\\11\\end{matrix}\\right], \\  \\left[\\begin{matrix}-5\\\\8\\\\2\\\\5\\end{matrix}\\right], \\  \\left[\\begin{matrix}-8\\\\11\\\\5\\\\26\\end{matrix}\\right]\\right]$"
      ],
      "text/plain": [
       "⎡⎡14 ⎤  ⎡-23⎤  ⎡-5⎤  ⎡-8⎤⎤\n",
       "⎢⎢   ⎥  ⎢   ⎥  ⎢  ⎥  ⎢  ⎥⎥\n",
       "⎢⎢-23⎥  ⎢38 ⎥  ⎢8 ⎥  ⎢11⎥⎥\n",
       "⎢⎢   ⎥, ⎢   ⎥, ⎢  ⎥, ⎢  ⎥⎥\n",
       "⎢⎢-5 ⎥  ⎢ 8 ⎥  ⎢2 ⎥  ⎢5 ⎥⎥\n",
       "⎢⎢   ⎥  ⎢   ⎥  ⎢  ⎥  ⎢  ⎥⎥\n",
       "⎣⎣-8 ⎦  ⎣11 ⎦  ⎣5 ⎦  ⎣26⎦⎦"
      ]
     },
     "execution_count": 23,
     "metadata": {},
     "output_type": "execute_result"
    }
   ],
   "source": [
    "[A.T*A.col(i) for i in range(A.shape[1])]"
   ]
  },
  {
   "cell_type": "code",
   "execution_count": 28,
   "metadata": {},
   "outputs": [
    {
     "data": {
      "text/latex": [
       "$\\displaystyle \\left[ \\left( 0, \\  2, \\  \\left[ \\left[\\begin{matrix}2\\\\1\\\\1\\\\0\\end{matrix}\\right], \\  \\left[\\begin{matrix}17\\\\10\\\\0\\\\1\\end{matrix}\\right]\\right]\\right), \\  \\left( 40 - 2 \\sqrt{97}, \\  1, \\  \\left[ \\left[\\begin{matrix}- \\frac{73}{141} + \\frac{10 \\sqrt{97}}{141}\\\\\\frac{110}{141} - \\frac{17 \\sqrt{97}}{141}\\\\\\frac{12}{47} - \\frac{\\sqrt{97}}{47}\\\\1\\end{matrix}\\right]\\right]\\right), \\  \\left( 2 \\sqrt{97} + 40, \\  1, \\  \\left[ \\left[\\begin{matrix}- \\frac{10 \\sqrt{97}}{141} - \\frac{73}{141}\\\\\\frac{110}{141} + \\frac{17 \\sqrt{97}}{141}\\\\\\frac{\\sqrt{97}}{47} + \\frac{12}{47}\\\\1\\end{matrix}\\right]\\right]\\right)\\right]$"
      ],
      "text/plain": [
       "⎡                     ⎛               ⎡⎡   73   10⋅√97⎤⎤⎞  ⎛               ⎡⎡ \n",
       "⎢                     ⎜               ⎢⎢- ─── + ──────⎥⎥⎟  ⎜               ⎢⎢-\n",
       "⎢                     ⎜               ⎢⎢  141    141  ⎥⎥⎟  ⎜               ⎢⎢ \n",
       "⎢⎛      ⎡⎡2⎤  ⎡17⎤⎤⎞  ⎜               ⎢⎢              ⎥⎥⎟  ⎜               ⎢⎢ \n",
       "⎢⎜      ⎢⎢ ⎥  ⎢  ⎥⎥⎟  ⎜               ⎢⎢ 110   17⋅√97 ⎥⎥⎟  ⎜               ⎢⎢ \n",
       "⎢⎜      ⎢⎢1⎥  ⎢10⎥⎥⎟  ⎜               ⎢⎢ ─── - ────── ⎥⎥⎟  ⎜               ⎢⎢ \n",
       "⎢⎜0, 2, ⎢⎢ ⎥, ⎢  ⎥⎥⎟, ⎜40 - 2⋅√97, 1, ⎢⎢ 141    141   ⎥⎥⎟, ⎜2⋅√97 + 40, 1, ⎢⎢ \n",
       "⎢⎜      ⎢⎢1⎥  ⎢0 ⎥⎥⎟  ⎜               ⎢⎢              ⎥⎥⎟  ⎜               ⎢⎢ \n",
       "⎢⎜      ⎢⎢ ⎥  ⎢  ⎥⎥⎟  ⎜               ⎢⎢   12   √97   ⎥⎥⎟  ⎜               ⎢⎢ \n",
       "⎢⎝      ⎣⎣0⎦  ⎣1 ⎦⎦⎠  ⎜               ⎢⎢   ── - ───   ⎥⎥⎟  ⎜               ⎢⎢ \n",
       "⎢                     ⎜               ⎢⎢   47    47   ⎥⎥⎟  ⎜               ⎢⎢ \n",
       "⎢                     ⎜               ⎢⎢              ⎥⎥⎟  ⎜               ⎢⎢ \n",
       "⎣                     ⎝               ⎣⎣      1       ⎦⎦⎠  ⎝               ⎣⎣ \n",
       "\n",
       " 10⋅√97    73⎤⎤⎞⎤\n",
       " ────── - ───⎥⎥⎟⎥\n",
       "  141     141⎥⎥⎟⎥\n",
       "             ⎥⎥⎟⎥\n",
       "110   17⋅√97 ⎥⎥⎟⎥\n",
       "─── + ────── ⎥⎥⎟⎥\n",
       "141    141   ⎥⎥⎟⎥\n",
       "             ⎥⎥⎟⎥\n",
       "  √97   12   ⎥⎥⎟⎥\n",
       "  ─── + ──   ⎥⎥⎟⎥\n",
       "   47   47   ⎥⎥⎟⎥\n",
       "             ⎥⎥⎟⎥\n",
       "     1       ⎦⎦⎠⎦"
      ]
     },
     "execution_count": 28,
     "metadata": {},
     "output_type": "execute_result"
    }
   ],
   "source": [
    "ATAvects = (A.T*A).eigenvects()\n",
    "ATAvects"
   ]
  },
  {
   "cell_type": "code",
   "execution_count": 43,
   "metadata": {},
   "outputs": [
    {
     "data": {
      "image/png": "[encoded data removed]",
      "text/latex": [
       "$\\displaystyle 44 - 44 \\sqrt{6}$"
      ],
      "text/plain": [
       "44 - 44⋅√6"
      ]
     },
     "execution_count": 43,
     "metadata": {},
     "output_type": "execute_result"
    }
   ],
   "source": [
    "len(ATAvects)\n",
    "lambdas = [v[0] for v in ATAvects]\n",
    "\n",
    "v = [v[2] for v in ATAvects]\n",
    "lambdas,v\n",
    "V=Matrix([v[0]])\n",
    "V.col(0).dot(V.col(1))\n",
    "v1 = Matrix(v[0][0])\n",
    "v2 = Matrix(v[0][1])\n",
    "v2 = v2 - v1*v2.dot(v1)/v1.norm()\n",
    "v3 = v[1]\n",
    "v4 = v[2]\n",
    "v1.dot(v2)"
   ]
  },
  {
   "cell_type": "code",
   "execution_count": 44,
   "metadata": {},
   "outputs": [
    {
     "data": {
      "text/latex": [
       "$\\displaystyle \\left[ \\left( 0, \\  1, \\  \\left[ \\left[\\begin{matrix}\\frac{1}{3}\\\\1\\end{matrix}\\right]\\right]\\right), \\  \\left( 90, \\  1, \\  \\left[ \\left[\\begin{matrix}-3\\\\1\\end{matrix}\\right]\\right]\\right)\\right]$"
      ],
      "text/plain": [
       "⎡⎛      ⎡⎡1/3⎤⎤⎞  ⎛       ⎡⎡-3⎤⎤⎞⎤\n",
       "⎢⎜0, 1, ⎢⎢   ⎥⎥⎟, ⎜90, 1, ⎢⎢  ⎥⎥⎟⎥\n",
       "⎣⎝      ⎣⎣ 1 ⎦⎦⎠  ⎝       ⎣⎣1 ⎦⎦⎠⎦"
      ]
     },
     "execution_count": 44,
     "metadata": {},
     "output_type": "execute_result"
    }
   ],
   "source": [
    "A = Matrix([[-3,1],[6,-2],[6,-2]])  # find SVD\n",
    "# simpler to do A.T*A\n",
    "ATA = A.T*A\n",
    "ATA.eigenvects() "
   ]
  },
  {
   "cell_type": "code",
   "execution_count": 69,
   "metadata": {},
   "outputs": [
    {
     "data": {
      "text/latex": [
       "$\\displaystyle \\left( \\left[\\begin{matrix}- \\frac{3 \\sqrt{10}}{10} & \\frac{\\sqrt{10}}{10}\\\\\\frac{\\sqrt{10}}{10} & \\frac{3 \\sqrt{10}}{10}\\end{matrix}\\right], \\  \\left[\\begin{matrix}3 \\sqrt{10} & 0\\\\0 & 0\\end{matrix}\\right]\\right)$"
      ],
      "text/plain": [
       "⎛⎡-3⋅√10    √10 ⎤            ⎞\n",
       "⎜⎢───────   ─── ⎥            ⎟\n",
       "⎜⎢   10      10 ⎥  ⎡3⋅√10  0⎤⎟\n",
       "⎜⎢              ⎥, ⎢        ⎥⎟\n",
       "⎜⎢  √10    3⋅√10⎥  ⎣  0    0⎦⎟\n",
       "⎜⎢  ───    ─────⎥            ⎟\n",
       "⎝⎣   10      10 ⎦            ⎠"
      ]
     },
     "execution_count": 69,
     "metadata": {},
     "output_type": "execute_result"
    }
   ],
   "source": [
    "v = [v[2][0] for v in ATA.eigenvects() ]\n",
    "V = Matrix([v])\n",
    "v1 = V.col(1) #manually order\n",
    "v2 = V.col(0)\n",
    "v1, v2\n",
    "v1 = v1/v1.norm()\n",
    "v2 = v2/v2.norm()\n",
    "v1,v2\n",
    "s = [sym.sqrt(s[0]) for s in ATA.eigenvects() ]\n",
    "s1 = s[1] # manually reorder\n",
    "s2 = s[0]\n",
    "\n",
    "V = Matrix([v1.T, v2.T]).T\n",
    "V, sym.diag(s1,s2)"
   ]
  },
  {
   "cell_type": "markdown",
   "metadata": {},
   "source": [
    "#### (ii) Find the inner product of each vector in the basis of RowA with each vector in basis of NulA."
   ]
  }
 ],
 "metadata": {
  "kernelspec": {
   "display_name": "Python 3",
   "language": "python",
   "name": "python3"
  },
  "language_info": {
   "codemirror_mode": {
    "name": "ipython",
    "version": 3
   },
   "file_extension": ".py",
   "mimetype": "text/x-python",
   "name": "python",
   "nbconvert_exporter": "python",
   "pygments_lexer": "ipython3",
   "version": "3.8.10"
  }
 },
 "nbformat": 4,
 "nbformat_minor": 4
}
