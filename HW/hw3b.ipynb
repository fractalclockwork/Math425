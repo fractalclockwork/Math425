{
 "cells": [
  {
   "cell_type": "markdown",
   "metadata": {},
   "source": [
    "# Math 425 Computation Linear Algebra\n",
    "## HW3, Part B (Question 9)\n",
    "\n",
    "### Brent A. Thorne\n",
    "\n",
    "brentathorne@gmail.com\n",
    "\n",
    "##### Linear transformations, plotting, and Python classes."
   ]
  },
  {
   "cell_type": "code",
   "execution_count": 1,
   "metadata": {},
   "outputs": [],
   "source": [
    "# environment setup, try to make it clear which library I'm using for what\n",
    "import numpy as np  # nice arrays and other stuff\n",
    "import sympy as sym # symbollic maths \n",
    "from sympy.matrices import Matrix # pretty matrices\n",
    "from sympy import Eq # pretty equations\n",
    "from sympy.physics.quantum.dagger import Dagger # we'll want this later...\n",
    "from math import e, pi, sqrt # Mathy math math\n",
    "from mpl_toolkits.mplot3d import Axes3D # we like 3d quivers for tutorials\n",
    "import matplotlib.pyplot as plt # old standby for plotting like a villian\n",
    "from IPython.display import display, Math, Latex # used to display formatted results in the console\n",
    "sym.init_printing()  # initialize pretty printing"
   ]
  },
  {
   "cell_type": "markdown",
   "metadata": {},
   "source": [
    "### 9.  Find the $ 3 \\times 3$ matrices that produce the described composite 2D transformations, using homogeneous coordinates. Apply the transformations to the 'letter N' data, ``letterN.pny\" and submit the corresponding plots as well."
   ]
  },
  {
   "cell_type": "code",
   "execution_count": 2,
   "metadata": {},
   "outputs": [
    {
     "data": {
      "text/latex": [
       "$T=\\left[\\begin{matrix}0.8 & -0.6 & 0\\\\-0.6 & -0.8 & 0\\\\0 & 0 & 1.0\\end{matrix}\\right]$"
      ],
      "text/plain": [
       "<IPython.core.display.Latex object>"
      ]
     },
     "metadata": {},
     "output_type": "display_data"
    },
    {
     "data": {
      "text/latex": [
       "$TD=\\left[\\begin{matrix}0.8 & -0.6 & 0\\\\-0.6 & -0.8 & 0\\\\0 & 0 & 1.0\\end{matrix}\\right]        \\left[\\begin{matrix}0 & 0.5 & 0.5 & 6.0 & 6.0 & 5.5 & 5.5 & 0 & 0\\\\0 & 0 & 6.4 & 0 & 8.0 & 8.0 & 1.6 & 8.0 & 0\\\\1.0 & 1.0 & 1.0 & 1.0 & 1.0 & 1.0 & 1.0 & 1.0 & 1.0\\end{matrix}\\right]$"
      ],
      "text/plain": [
       "<IPython.core.display.Latex object>"
      ]
     },
     "metadata": {},
     "output_type": "display_data"
    },
    {
     "data": {
      "text/latex": [
       "$TD^*=\\left[\\begin{matrix}0 & 0.4 & -3.5 & 4.8 & 0 & -0.4 & 3.5 & -4.8 & 0\\\\0 & -0.3 & -5.4 & -3.6 & -10.0 & -9.7 & -4.6 & -6.4 & 0\\\\1.0 & 1.0 & 1.0 & 1.0 & 1.0 & 1.0 & 1.0 & 1.0 & 1.0\\end{matrix}\\right]        $ $^*TD$ rounded to two decimal points"
      ],
      "text/plain": [
       "<IPython.core.display.Latex object>"
      ]
     },
     "metadata": {},
     "output_type": "display_data"
    },
    {
     "data": {
      "image/png": "[encoded data removed]",
      "text/plain": [
       "<Figure size 432x288 with 1 Axes>"
      ]
     },
     "metadata": {
      "needs_background": "light"
     },
     "output_type": "display_data"
    }
   ],
   "source": [
    "class letter:  # totally overkill\n",
    "    \"\"\"\n",
    "    import numpy data and return letter object\n",
    "    provides functions transform and plot\n",
    "    assumes numpy data is 2-rows (2xm)\n",
    "    recall: An m×n matrix has m rows and n columns.    \n",
    "    \"\"\"\n",
    "    def __init__(self, filename):\n",
    "        assert isinstance(filename, str)\n",
    "        self.filename = filename\n",
    "        self.T = sym.eye(3)  # consider feature to set transform on creation\n",
    "        self.D = Matrix(np.load(filename))\n",
    "        self.D = self.D.col_join(sym.ones(1,self.D.cols))\n",
    "        \n",
    "    def eye(self):\n",
    "        self.T = sym.eye(3)\n",
    "    \n",
    "    def plot(self, title = 'Letter Plot'):\n",
    "        lim=15 # consider feature to set limits based on origin and average points\n",
    "        DD = self.T * self.D  # do inner product at plotting\n",
    "        plt.title(f\"{title}\"); plt.xlabel(\"X axis\"); plt.ylabel(\"Y axis\")\n",
    "        plt.scatter(list(DD.row(0)), list(DD.row(1)), color =\"red\")\n",
    "        plt.plot(list(DD.row(0)), list(DD.row(1)), color =\"blue\")\n",
    "        plt.xlim(-lim,lim); plt.ylim(-lim,lim)\n",
    "        plt.grid(); plt.gca().set_aspect(\"equal\") # square grids are pretty\n",
    "        plt.axhline(0, color='black', linestyle='--')\n",
    "        plt.axvline(0, color='black', linestyle='--')\n",
    "                \n",
    "    def show(self):\n",
    "        plt.show()\n",
    "        \n",
    "    def __mul__(self, other): # dot the transform\n",
    "        if isinstance(other, Matrix):\n",
    "            self.T = other * self.T\n",
    "        else:\n",
    "            return NotImplemented\n",
    "        \n",
    "    def dot(self, other): # dot yourself\n",
    "        return self.__mul__(other)\n",
    "    \n",
    "    def mirror(self, a,b,c): # mirror on line formed by f(a,b,c)= ax+by-c=0\n",
    "        self.T = 1/(a**2+b**2)*Matrix([\\\n",
    "        [b**2-a**2,    -2*a*b, -2*a*c],\\\n",
    "        [   -2*a*b, a**2-b**2, -2*b*c],\\\n",
    "        [        0,         0, a**2+b**2]])\n",
    "    \n",
    "    def report(self): # so pretty\n",
    "        display(Latex(f'$TD={sym.latex(self.T)}\\\n",
    "        {sym.latex(self.D.n(2))}$')) \n",
    "        display(Latex(f'$TD^*={sym.latex(Matrix(self.T*self.D).n(2))}\\\n",
    "        $ $^*TD$ rounded to two decimal points')) \n",
    "\n",
    "N = letter('letterN.npy')\n",
    "#N.mirror(1,3,0) # mirror on line formed by f(a,b,c): ax+by-c==0\n",
    "N.plot('N Graph (untransformed)')\n",
    "N.mirror(1,3,0) # mirror on line formed by f(a,b,c): ax+by-c==0\n",
    "N.plot(f'N Graph (mirrored on line, x+3y=0)')\n",
    "display(Latex(f'$T={sym.latex(N.T)}$'))\n",
    "N.report()\n",
    "N.show()"
   ]
  },
  {
   "cell_type": "markdown",
   "metadata": {},
   "source": [
    "#### (a) Translate by $(-2, 3)$, and then scale the $x$-coordinate by $0.8$ and the $y$-coordinate by $1.2$"
   ]
  },
  {
   "cell_type": "code",
   "execution_count": 3,
   "metadata": {},
   "outputs": [
    {
     "data": {
      "text/latex": [
       "$T=\\left[\\begin{matrix}0.8 & 0 & 0\\\\0 & 1.2 & 0\\\\0 & 0 & 1\\end{matrix}\\right]\\left[\\begin{matrix}1 & 0 & -2\\\\0 & 1 & 3\\\\0 & 0 & 1\\end{matrix}\\right]=\\left[\\begin{matrix}0.8 & 0 & -1.6\\\\0 & 1.2 & 3.6\\\\0 & 0 & 1\\end{matrix}\\right]$"
      ],
      "text/plain": [
       "<IPython.core.display.Latex object>"
      ]
     },
     "metadata": {},
     "output_type": "display_data"
    },
    {
     "data": {
      "text/latex": [
       "$TD=\\left[\\begin{matrix}0.8 & 0 & -1.6\\\\0 & 1.2 & 3.6\\\\0 & 0 & 1\\end{matrix}\\right]        \\left[\\begin{matrix}0 & 0.5 & 0.5 & 6.0 & 6.0 & 5.5 & 5.5 & 0 & 0\\\\0 & 0 & 6.4 & 0 & 8.0 & 8.0 & 1.6 & 8.0 & 0\\\\1.0 & 1.0 & 1.0 & 1.0 & 1.0 & 1.0 & 1.0 & 1.0 & 1.0\\end{matrix}\\right]$"
      ],
      "text/plain": [
       "<IPython.core.display.Latex object>"
      ]
     },
     "metadata": {},
     "output_type": "display_data"
    },
    {
     "data": {
      "text/latex": [
       "$TD^*=\\left[\\begin{matrix}-1.6 & -1.2 & -1.2 & 3.2 & 3.2 & 2.8 & 2.8 & -1.6 & -1.6\\\\3.6 & 3.6 & 11.0 & 3.6 & 13.0 & 13.0 & 5.5 & 13.0 & 3.6\\\\1.0 & 1.0 & 1.0 & 1.0 & 1.0 & 1.0 & 1.0 & 1.0 & 1.0\\end{matrix}\\right]        $ $^*TD$ rounded to two decimal points"
      ],
      "text/plain": [
       "<IPython.core.display.Latex object>"
      ]
     },
     "metadata": {},
     "output_type": "display_data"
    },
    {
     "data": {
      "image/png": "[encoded data removed]",
      "text/plain": [
       "<Figure size 432x288 with 1 Axes>"
      ]
     },
     "metadata": {
      "needs_background": "light"
     },
     "output_type": "display_data"
    }
   ],
   "source": [
    "# see also: Ch2.7 P4E in Lay text\n",
    "T1 = Matrix([[1,0,-2],[0,1,3],[0,0,1]])\n",
    "T2 = Matrix([[0.8,0,0],[0,1.2,0],[0,0,1]])\n",
    "\n",
    "N.eye() # clear transforms\n",
    "N.dot(T1)\n",
    "N.dot(T2)\n",
    "N.plot('N-Graph (shift and stretch)')\n",
    "display(Latex(f'$T={sym.latex(T2)}{sym.latex(T1)}={sym.latex(T2*T1)}$'))\n",
    "N.report()"
   ]
  },
  {
   "cell_type": "markdown",
   "metadata": {},
   "source": [
    "#### (b) Rotate points $\\frac{\\pi}{6}$, and then reflect through the $x$-axis."
   ]
  },
  {
   "cell_type": "code",
   "execution_count": 4,
   "metadata": {},
   "outputs": [
    {
     "data": {
      "text/latex": [
       "$T=\\left[\\begin{matrix}1 & 0 & 0\\\\0 & -1 & 0\\\\0 & 0 & 1\\end{matrix}\\right]\\left[\\begin{matrix}\\frac{\\sqrt{3}}{2} & - \\frac{1}{2} & 0\\\\\\frac{1}{2} & \\frac{\\sqrt{3}}{2} & 0\\\\0 & 0 & 1\\end{matrix}\\right]=\\left[\\begin{matrix}\\frac{\\sqrt{3}}{2} & - \\frac{1}{2} & 0\\\\- \\frac{1}{2} & - \\frac{\\sqrt{3}}{2} & 0\\\\0 & 0 & 1\\end{matrix}\\right]$"
      ],
      "text/plain": [
       "<IPython.core.display.Latex object>"
      ]
     },
     "metadata": {},
     "output_type": "display_data"
    },
    {
     "data": {
      "text/latex": [
       "$TD=\\left[\\begin{matrix}\\frac{\\sqrt{3}}{2} & - \\frac{1}{2} & 0\\\\- \\frac{1}{2} & - \\frac{\\sqrt{3}}{2} & 0\\\\0 & 0 & 1\\end{matrix}\\right]        \\left[\\begin{matrix}0 & 0.5 & 0.5 & 6.0 & 6.0 & 5.5 & 5.5 & 0 & 0\\\\0 & 0 & 6.4 & 0 & 8.0 & 8.0 & 1.6 & 8.0 & 0\\\\1.0 & 1.0 & 1.0 & 1.0 & 1.0 & 1.0 & 1.0 & 1.0 & 1.0\\end{matrix}\\right]$"
      ],
      "text/plain": [
       "<IPython.core.display.Latex object>"
      ]
     },
     "metadata": {},
     "output_type": "display_data"
    },
    {
     "data": {
      "text/latex": [
       "$TD^*=\\left[\\begin{matrix}0 & 0.43 & -2.8 & 5.2 & 1.2 & 0.76 & 4.0 & -4.0 & 0\\\\0 & -0.25 & -5.8 & -3.0 & -9.9 & -9.7 & -4.1 & -6.9 & 0\\\\1.0 & 1.0 & 1.0 & 1.0 & 1.0 & 1.0 & 1.0 & 1.0 & 1.0\\end{matrix}\\right]        $ $^*TD$ rounded to two decimal points"
      ],
      "text/plain": [
       "<IPython.core.display.Latex object>"
      ]
     },
     "metadata": {},
     "output_type": "display_data"
    },
    {
     "data": {
      "image/png": "[encoded data removed]",
      "text/plain": [
       "<Figure size 432x288 with 1 Axes>"
      ]
     },
     "metadata": {
      "needs_background": "light"
     },
     "output_type": "display_data"
    }
   ],
   "source": [
    "# use syms to make pretty\n",
    "theta = sym.pi/6\n",
    "T1 = Matrix([[sym.cos(theta), -sym.sin(theta),0],\\\n",
    "             [sym.sin(theta), sym.cos(theta),0],\\\n",
    "             [0,0,1]]) #rot\n",
    "T2 = Matrix([[1,0,0],[0,-1,0],[0,0,1]]) # flip y\n",
    "\n",
    "N.eye() # clear transforms\n",
    "N.dot(T1) # stack on a transform\n",
    "N.dot(T2) # and again\n",
    "N.plot('N-Graph (rotate and mirror)')\n",
    "display(Latex(f'$T={sym.latex(T2)}{sym.latex(T1)}={sym.latex(T2*T1)}$'))\n",
    "N.report()"
   ]
  },
  {
   "cell_type": "code",
   "execution_count": 31,
   "metadata": {},
   "outputs": [
    {
     "data": {
      "image/png": "[encoded data removed]",
      "text/latex": [
       "$\\displaystyle 2.54647908947033$"
      ],
      "text/plain": [
       "2.54647908947033"
      ]
     },
     "execution_count": 31,
     "metadata": {},
     "output_type": "execute_result"
    }
   ],
   "source": [
    "import cmath\n",
    "N.eye()\n",
    "#N.plot()\n",
    "#N.show()\n",
    "#N.report()\n",
    "#N.T, N.D\n",
    "z = (N.D.col(2)[0]+1j*N.D.col(2)[1])\n",
    "\n",
    "C = 2*max(max(N.D.row(0)), max(N.D.row(1)))\n",
    "R = C/(2*pi) # radius of sphere\n",
    "\n",
    "r,theta = cmath.polar(z)\n",
    "z,r,theta\n"
   ]
  },
  {
   "cell_type": "markdown",
   "metadata": {},
   "source": [
    "### Appendix 0. The Matrix Alphabet\n",
    "sym    |matrix| |sym    |matrix\n",
    "------:|:-----|-|------:|:-----\n",
    "A|Any Matrix|   |P|Permutation Matrix\n",
    "B|Basis Matrix|   |P|Projection Matrix\n",
    "C|Cofactor Matrix|   |Q|Orthogonal Matrix\n",
    "D|Diagonal Matrix|   |R|Upper Triangular Matrix \n",
    "E|Elimination Matrix|   |R|Reduced Echelon Matrix\n",
    "F|Fourier Matrix|   |S|Symmetric Matrix\n",
    "H|Hadamard Matrix|   |T|Linear Transformation\n",
    "I|Identity Matrix|   |U|Upper Triangular Matrix\n",
    "J|Jordan Matrix|   |U|Left Singular Vectors\n",
    "K|Stiffness Matrix|   |V|Right Singular Vectors \n",
    "L|Lower Triangular Matrix|   |X|Eigenvector Matrix\n",
    "M|Markov Matrix|   |Λ|Eigenvalue Matrix\n",
    "N|Nullspace Matrix|   |Σ|Singular Value Matrix\n",
    "\n",
    "##### *Linear Algebra by Gilbert Strang"
   ]
  }
 ],
 "metadata": {
  "kernelspec": {
   "display_name": "Python 3",
   "language": "python",
   "name": "python3"
  },
  "language_info": {
   "codemirror_mode": {
    "name": "ipython",
    "version": 3
   },
   "file_extension": ".py",
   "mimetype": "text/x-python",
   "name": "python",
   "nbconvert_exporter": "python",
   "pygments_lexer": "ipython3",
   "version": "3.8.10"
  }
 },
 "nbformat": 4,
 "nbformat_minor": 4
}
