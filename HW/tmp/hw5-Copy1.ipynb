{
 "cells": [
  {
   "cell_type": "markdown",
   "metadata": {},
   "source": [
    "# Math 425 Computation Linear Algebra\n",
    "## HW5\n",
    "\n",
    "### Brent A. Thorne\n",
    "\n",
    "brentathorne@gmail.com\n",
    "\n",
    "##### Basis, Othogonality, Projection, Least-squares, Factorization, and SVG."
   ]
  },
  {
   "cell_type": "code",
   "execution_count": 1,
   "metadata": {},
   "outputs": [],
   "source": [
    "# environment setup, try to make it clear which library I'm using for what\n",
    "import numpy as np  # nice arrays and other stuff\n",
    "import scipy as sci # like numpy but nicer\n",
    "import sympy as sym # symbollic maths \n",
    "from sympy.matrices import Matrix # pretty matrices\n",
    "from sympy import Eq # pretty equations\n",
    "from sympy.physics.quantum.dagger import Dagger # we'll want this later...\n",
    "from math import e, pi, sqrt # Mathy math math\n",
    "from mpl_toolkits.mplot3d import Axes3D # we like 3d quivers for tutorials\n",
    "import matplotlib.pyplot as plt # old standby for plotting like a villian\n",
    "from IPython.display import display, Math, Latex # used to display formatted results in the console\n",
    "sym.init_printing()  # initialize pretty printing"
   ]
  },
  {
   "cell_type": "markdown",
   "metadata": {},
   "source": [
    "### 1. Find an orthogonal basis for the column space of matrix $A = \\begin{bmatrix}-1&&6&&6\\\\ 3&&-8&&3\\\\ 1&&-2&&6\\\\ 1&&-4&&-3 \\end{bmatrix}$."
   ]
  },
  {
   "cell_type": "code",
   "execution_count": 2,
   "metadata": {},
   "outputs": [
    {
     "name": "stdout",
     "output_type": "stream",
     "text": [
      "Show columns are independent:\n"
     ]
    },
    {
     "data": {
      "text/latex": [
       "$\\displaystyle \\left( \\left[\\begin{matrix}1 & 0 & 0\\\\0 & 1 & 0\\\\0 & 0 & 1\\\\0 & 0 & 0\\end{matrix}\\right], \\  \\left( 0, \\  1, \\  2\\right)\\right)$"
      ],
      "text/plain": [
       "⎛⎡1  0  0⎤           ⎞\n",
       "⎜⎢       ⎥           ⎟\n",
       "⎜⎢0  1  0⎥           ⎟\n",
       "⎜⎢       ⎥, (0, 1, 2)⎟\n",
       "⎜⎢0  0  1⎥           ⎟\n",
       "⎜⎢       ⎥           ⎟\n",
       "⎝⎣0  0  0⎦           ⎠"
      ]
     },
     "execution_count": 2,
     "metadata": {},
     "output_type": "execute_result"
    }
   ],
   "source": [
    "A = Matrix([[-1,6,6],[3,-8,3],[1,-2,6],[1,-4,-3]])\n",
    "print(\"Show columns are independent:\")\n",
    "A.rref() # columns are independent"
   ]
  },
  {
   "cell_type": "code",
   "execution_count": 3,
   "metadata": {},
   "outputs": [
    {
     "name": "stdout",
     "output_type": "stream",
     "text": [
      "Show our semi-manual result:\n"
     ]
    },
    {
     "data": {
      "text/latex": [
       "$\\displaystyle \\left( \\left[\\begin{matrix}-1\\\\3\\\\1\\\\1\\end{matrix}\\right], \\  \\left[\\begin{matrix}3\\\\1\\\\1\\\\-1\\end{matrix}\\right], \\  \\left[\\begin{matrix}-1\\\\-1\\\\3\\\\-1\\end{matrix}\\right]\\right)$"
      ],
      "text/plain": [
       "⎛⎡-1⎤  ⎡3 ⎤  ⎡-1⎤⎞\n",
       "⎜⎢  ⎥  ⎢  ⎥  ⎢  ⎥⎟\n",
       "⎜⎢3 ⎥  ⎢1 ⎥  ⎢-1⎥⎟\n",
       "⎜⎢  ⎥, ⎢  ⎥, ⎢  ⎥⎟\n",
       "⎜⎢1 ⎥  ⎢1 ⎥  ⎢3 ⎥⎟\n",
       "⎜⎢  ⎥  ⎢  ⎥  ⎢  ⎥⎟\n",
       "⎝⎣1 ⎦  ⎣-1⎦  ⎣-1⎦⎠"
      ]
     },
     "execution_count": 3,
     "metadata": {},
     "output_type": "execute_result"
    }
   ],
   "source": [
    "# do it semi-manually\n",
    "v1 = A.col(0)\n",
    "v2 = A.col(1) - v1*A.col(1).dot(v1)/v1.dot(v1)\n",
    "v3 = A.col(2) - v1*A.col(2).dot(v1)/v1.dot(v1) - v2*A.col(2).dot(v2)/v2.dot(v2)\n",
    "print(\"Show our semi-manual result:\")\n",
    "v1,v2,v3"
   ]
  },
  {
   "cell_type": "code",
   "execution_count": 4,
   "metadata": {},
   "outputs": [
    {
     "name": "stdout",
     "output_type": "stream",
     "text": [
      "Show sympy result:\n"
     ]
    },
    {
     "data": {
      "text/latex": [
       "$\\displaystyle \\left[ \\left[\\begin{matrix}-1\\\\3\\\\1\\\\1\\end{matrix}\\right], \\  \\left[\\begin{matrix}3\\\\1\\\\1\\\\-1\\end{matrix}\\right], \\  \\left[\\begin{matrix}-1\\\\-1\\\\3\\\\-1\\end{matrix}\\right]\\right]$"
      ],
      "text/plain": [
       "⎡⎡-1⎤  ⎡3 ⎤  ⎡-1⎤⎤\n",
       "⎢⎢  ⎥  ⎢  ⎥  ⎢  ⎥⎥\n",
       "⎢⎢3 ⎥  ⎢1 ⎥  ⎢-1⎥⎥\n",
       "⎢⎢  ⎥, ⎢  ⎥, ⎢  ⎥⎥\n",
       "⎢⎢1 ⎥  ⎢1 ⎥  ⎢3 ⎥⎥\n",
       "⎢⎢  ⎥  ⎢  ⎥  ⎢  ⎥⎥\n",
       "⎣⎣1 ⎦  ⎣-1⎦  ⎣-1⎦⎦"
      ]
     },
     "execution_count": 4,
     "metadata": {},
     "output_type": "execute_result"
    }
   ],
   "source": [
    "# show sympy results\n",
    "print(\"Show sympy result:\")\n",
    "sym.GramSchmidt([A.col(0),A.col(1),A.col(2)])"
   ]
  },
  {
   "cell_type": "markdown",
   "metadata": {},
   "source": [
    "### 2. Find an orthonormal basis for the column space of the matix $A= \\begin{bmatrix} 3&&-3&&0\\\\ -4&&14&&10\\\\ 5&&-7&&-2 \\end{bmatrix}$."
   ]
  },
  {
   "cell_type": "code",
   "execution_count": 5,
   "metadata": {},
   "outputs": [
    {
     "name": "stdout",
     "output_type": "stream",
     "text": [
      "Show columns are NOT independent:\n"
     ]
    },
    {
     "data": {
      "text/latex": [
       "$\\displaystyle \\left( \\left[\\begin{matrix}3 & -3 & 0\\\\-4 & 14 & 10\\\\5 & -7 & -2\\end{matrix}\\right], \\  \\left( \\left[\\begin{matrix}1 & 0 & 1\\\\0 & 1 & 1\\\\0 & 0 & 0\\end{matrix}\\right], \\  \\left( 0, \\  1\\right)\\right)\\right)$"
      ],
      "text/plain": [
       "⎛⎡3   -3  0 ⎤  ⎛⎡1  0  1⎤        ⎞⎞\n",
       "⎜⎢          ⎥  ⎜⎢       ⎥        ⎟⎟\n",
       "⎜⎢-4  14  10⎥, ⎜⎢0  1  1⎥, (0, 1)⎟⎟\n",
       "⎜⎢          ⎥  ⎜⎢       ⎥        ⎟⎟\n",
       "⎝⎣5   -7  -2⎦  ⎝⎣0  0  0⎦        ⎠⎠"
      ]
     },
     "execution_count": 5,
     "metadata": {},
     "output_type": "execute_result"
    }
   ],
   "source": [
    "print('Show columns are NOT independent:')\n",
    "A = Matrix([[3,-3,0],[-4,14,10],[5,-7,-2]])\n",
    "A, A.rref()"
   ]
  },
  {
   "cell_type": "code",
   "execution_count": 6,
   "metadata": {},
   "outputs": [
    {
     "name": "stdout",
     "output_type": "stream",
     "text": [
      "Show our semi-manual orthoginal result:\n"
     ]
    },
    {
     "data": {
      "text/latex": [
       "$\\displaystyle \\left( \\left[\\begin{matrix}3\\\\-4\\\\5\\end{matrix}\\right], \\  \\left[\\begin{matrix}3\\\\6\\\\3\\end{matrix}\\right]\\right)$"
      ],
      "text/plain": [
       "⎛⎡3 ⎤  ⎡3⎤⎞\n",
       "⎜⎢  ⎥  ⎢ ⎥⎟\n",
       "⎜⎢-4⎥, ⎢6⎥⎟\n",
       "⎜⎢  ⎥  ⎢ ⎥⎟\n",
       "⎝⎣5 ⎦  ⎣3⎦⎠"
      ]
     },
     "execution_count": 6,
     "metadata": {},
     "output_type": "execute_result"
    }
   ],
   "source": [
    "# do it semi-manually\n",
    "v1 = A.col(0)\n",
    "v2 = A.col(1) - v1*A.col(1).dot(v1)/v1.dot(v1)\n",
    "print('Show our semi-manual orthoginal result:')\n",
    "v1,v2"
   ]
  },
  {
   "cell_type": "code",
   "execution_count": 7,
   "metadata": {},
   "outputs": [
    {
     "name": "stdout",
     "output_type": "stream",
     "text": [
      "Show the orthonormal result:\n"
     ]
    },
    {
     "data": {
      "text/latex": [
       "$\\displaystyle \\left( \\left[\\begin{matrix}\\frac{3 \\sqrt{2}}{10}\\\\- \\frac{2 \\sqrt{2}}{5}\\\\\\frac{\\sqrt{2}}{2}\\end{matrix}\\right], \\  \\left[\\begin{matrix}\\frac{\\sqrt{6}}{6}\\\\\\frac{\\sqrt{6}}{3}\\\\\\frac{\\sqrt{6}}{6}\\end{matrix}\\right]\\right)$"
      ],
      "text/plain": [
       "⎛⎡ 3⋅√2 ⎤  ⎡√6⎤⎞\n",
       "⎜⎢ ──── ⎥  ⎢──⎥⎟\n",
       "⎜⎢  10  ⎥  ⎢6 ⎥⎟\n",
       "⎜⎢      ⎥  ⎢  ⎥⎟\n",
       "⎜⎢-2⋅√2 ⎥  ⎢√6⎥⎟\n",
       "⎜⎢──────⎥, ⎢──⎥⎟\n",
       "⎜⎢  5   ⎥  ⎢3 ⎥⎟\n",
       "⎜⎢      ⎥  ⎢  ⎥⎟\n",
       "⎜⎢  √2  ⎥  ⎢√6⎥⎟\n",
       "⎜⎢  ──  ⎥  ⎢──⎥⎟\n",
       "⎝⎣  2   ⎦  ⎣6 ⎦⎠"
      ]
     },
     "execution_count": 7,
     "metadata": {},
     "output_type": "execute_result"
    }
   ],
   "source": [
    "print('Show the orthonormal result:')\n",
    "v1/sym.sqrt(v1.dot(v1)), v2/sym.sqrt(v2.dot(v2))"
   ]
  },
  {
   "cell_type": "code",
   "execution_count": 8,
   "metadata": {},
   "outputs": [
    {
     "name": "stdout",
     "output_type": "stream",
     "text": [
      "Show sympy orthonormal result:\n"
     ]
    },
    {
     "data": {
      "text/latex": [
       "$\\displaystyle \\left[ \\left[\\begin{matrix}\\frac{3 \\sqrt{2}}{10}\\\\- \\frac{2 \\sqrt{2}}{5}\\\\\\frac{\\sqrt{2}}{2}\\end{matrix}\\right], \\  \\left[\\begin{matrix}\\frac{\\sqrt{6}}{6}\\\\\\frac{\\sqrt{6}}{3}\\\\\\frac{\\sqrt{6}}{6}\\end{matrix}\\right]\\right]$"
      ],
      "text/plain": [
       "⎡⎡ 3⋅√2 ⎤  ⎡√6⎤⎤\n",
       "⎢⎢ ──── ⎥  ⎢──⎥⎥\n",
       "⎢⎢  10  ⎥  ⎢6 ⎥⎥\n",
       "⎢⎢      ⎥  ⎢  ⎥⎥\n",
       "⎢⎢-2⋅√2 ⎥  ⎢√6⎥⎥\n",
       "⎢⎢──────⎥, ⎢──⎥⎥\n",
       "⎢⎢  5   ⎥  ⎢3 ⎥⎥\n",
       "⎢⎢      ⎥  ⎢  ⎥⎥\n",
       "⎢⎢  √2  ⎥  ⎢√6⎥⎥\n",
       "⎢⎢  ──  ⎥  ⎢──⎥⎥\n",
       "⎣⎣  2   ⎦  ⎣6 ⎦⎦"
      ]
     },
     "execution_count": 8,
     "metadata": {},
     "output_type": "execute_result"
    }
   ],
   "source": [
    "print(\"Show sympy orthonormal result:\")\n",
    "sym.GramSchmidt([A.col(0),A.col(1)], orthonormal=True)"
   ]
  },
  {
   "cell_type": "markdown",
   "metadata": {},
   "source": [
    "### 3. Let $u_1,...,u_p$ be an orthogonal basis for the subspace $W$ of $\\mathbb{R^n}$, and let $T:\\mathbb{R^n}\\rightarrow\\mathbb{R^n}$ be defined by $T(x)=proj_Wx$.\n",
    "#### Show that $T$ is a linear transformation. "
   ]
  },
  {
   "cell_type": "markdown",
   "metadata": {},
   "source": [
    "If {$u_1,...,u_p$} is and orthogonal basis for the subspace $W$ of $\\mathbb{R^n}$, then each $x$ in $W$\n",
    "can be form as a linear combination of each basis vector.\n",
    "\n",
    "$x = c_1 u_1 + c_2 u_2 + ... + c_p u_p$\n",
    "\n",
    "From the above we see that the weights of the constants are given by,\n",
    "\n",
    "$c_j = \\frac{x\\circ u_j}{u_j\\circ u_j}$ $(j=1,...,p)$, which by construction is $proj_Wx_j$.\n",
    "\n",
    "defining another linear combination $y$ as,\n",
    "\n",
    "$y = b_1 v_1 + b_2 v_2 + ... + b_p v_p$\n",
    "\n",
    "...we can clearly see $T(cx+y)=cT(x)+T(y)$, thus proving $T$ is a linear tranformation."
   ]
  },
  {
   "cell_type": "markdown",
   "metadata": {},
   "source": [
    "### 4. Let $A = \\begin{bmatrix} 1&&2\\\\-1&&4\\\\ 1&&2 \\end{bmatrix}$ and $b = \\begin{bmatrix} 3\\\\-1\\\\5 \\end{bmatrix}$.\n",
    "#### Find (a) the orthogonal projection of $b$ onto $ColA$ and (b) a least-squares solution of $Ax=b$."
   ]
  },
  {
   "cell_type": "code",
   "execution_count": 9,
   "metadata": {},
   "outputs": [
    {
     "name": "stdout",
     "output_type": "stream",
     "text": [
      "(a) Show b projected on ColA:\n"
     ]
    },
    {
     "data": {
      "text/latex": [
       "$\\displaystyle \\left[\\begin{matrix}4\\\\-1\\\\4\\end{matrix}\\right]$"
      ],
      "text/plain": [
       "⎡4 ⎤\n",
       "⎢  ⎥\n",
       "⎢-1⎥\n",
       "⎢  ⎥\n",
       "⎣4 ⎦"
      ]
     },
     "execution_count": 9,
     "metadata": {},
     "output_type": "execute_result"
    }
   ],
   "source": [
    "A = Matrix([[1,2],[-1,4],[1,2]])\n",
    "b = Matrix([3,-1,5])\n",
    "A,b\n",
    "a1, a2 = A.columnspace()\n",
    "a1 = Matrix(a1)\n",
    "a2 = Matrix(a2)\n",
    "b_hat = a1*b.dot(a1)/a1.dot(a1) + a2*b.dot(a2)/a2.dot(a2)\n",
    "print('(a) Show b projected on ColA:')\n",
    "b_hat"
   ]
  },
  {
   "cell_type": "code",
   "execution_count": 10,
   "metadata": {},
   "outputs": [
    {
     "name": "stdout",
     "output_type": "stream",
     "text": [
      "(b) Recall A.T*Ax = A.Tb (least squares):\n"
     ]
    },
    {
     "data": {
      "text/latex": [
       "$\\displaystyle \\left( \\left[\\begin{matrix}3 & 0\\\\0 & 24\\end{matrix}\\right], \\  \\left[\\begin{matrix}9\\\\12\\end{matrix}\\right], \\  \\left[\\begin{matrix}3 & 0 & 9\\\\0 & 24 & 12\\end{matrix}\\right], \\  \\left( \\left[\\begin{matrix}1 & 0 & 3\\\\0 & 1 & \\frac{1}{2}\\end{matrix}\\right], \\  \\left( 0, \\  1\\right)\\right)\\right)$"
      ],
      "text/plain": [
       "⎛⎡3  0 ⎤  ⎡9 ⎤  ⎡3  0   9 ⎤  ⎛⎡1  0   3 ⎤        ⎞⎞\n",
       "⎜⎢     ⎥, ⎢  ⎥, ⎢         ⎥, ⎜⎢         ⎥, (0, 1)⎟⎟\n",
       "⎝⎣0  24⎦  ⎣12⎦  ⎣0  24  12⎦  ⎝⎣0  1  1/2⎦        ⎠⎠"
      ]
     },
     "execution_count": 10,
     "metadata": {},
     "output_type": "execute_result"
    }
   ],
   "source": [
    "print('(b) Recall A.T*Ax = A.Tb (least squares):')\n",
    "A.T*A, A.T*b, (A.T*A).row_join(A.T*b), (A.T*A).row_join(A.T*b).rref()"
   ]
  },
  {
   "cell_type": "code",
   "execution_count": 11,
   "metadata": {},
   "outputs": [
    {
     "name": "stdout",
     "output_type": "stream",
     "text": [
      "(b) continued...\n",
      "Show x as the least-squares solution: (also show that Ax=b, as seen above)\n"
     ]
    },
    {
     "data": {
      "text/latex": [
       "$\\displaystyle \\left( \\left[\\begin{matrix}3\\\\\\frac{1}{2}\\end{matrix}\\right], \\  \\left[\\begin{matrix}4\\\\-1\\\\4\\end{matrix}\\right]\\right)$"
      ],
      "text/plain": [
       "⎛       ⎡4 ⎤⎞\n",
       "⎜⎡ 3 ⎤  ⎢  ⎥⎟\n",
       "⎜⎢   ⎥, ⎢-1⎥⎟\n",
       "⎜⎣1/2⎦  ⎢  ⎥⎟\n",
       "⎝       ⎣4 ⎦⎠"
      ]
     },
     "execution_count": 11,
     "metadata": {},
     "output_type": "execute_result"
    }
   ],
   "source": [
    "print('(b) continued...')\n",
    "print('Show x as the least-squares solution: (also show that Ax=b, as seen above)')\n",
    "x = (A.T*A).row_join(A.T*b).rref(pivots=False).col(-1) # yes, ugly but we're just messing about\n",
    "x, A*x"
   ]
  },
  {
   "cell_type": "markdown",
   "metadata": {},
   "source": [
    "### 5. Let $A = \\begin{bmatrix} 2&&1\\\\ -2&&0\\\\ 2&&3\\end{bmatrix}$ and $b = \\begin{bmatrix} -5\\\\8\\\\1\\end{bmatrix}$.  Find the least-square solution of $Ax=b$."
   ]
  },
  {
   "cell_type": "code",
   "execution_count": 12,
   "metadata": {},
   "outputs": [
    {
     "name": "stdout",
     "output_type": "stream",
     "text": [
      "Recall A.T*Ax = A.Tb (least squares)...\n",
      "Show least squares solution:\n"
     ]
    },
    {
     "data": {
      "text/latex": [
       "$\\displaystyle \\left[\\begin{matrix}-4\\\\3\\end{matrix}\\right]$"
      ],
      "text/plain": [
       "⎡-4⎤\n",
       "⎢  ⎥\n",
       "⎣3 ⎦"
      ]
     },
     "execution_count": 12,
     "metadata": {},
     "output_type": "execute_result"
    }
   ],
   "source": [
    "A = Matrix([[2,1],[-2,0],[2,3]])\n",
    "b = Matrix([-5,8,1])\n",
    "print('Recall A.T*Ax = A.Tb (least squares)...')\n",
    "A.T*A, A.T*b, (A.T*A).row_join(A.T*b), (A.T*A).row_join(A.T*b).rref()\n",
    "A,b\n",
    "print('Show least squares solution:')\n",
    "(A.T*A).row_join(A.T*b).rref(pivots=False).col(-1) # we're mirroring how it's done on paper"
   ]
  },
  {
   "cell_type": "code",
   "execution_count": 13,
   "metadata": {},
   "outputs": [
    {
     "name": "stdout",
     "output_type": "stream",
     "text": [
      "Show a simpler method since we are using a computer:\n"
     ]
    },
    {
     "data": {
      "text/latex": [
       "$\\displaystyle \\left[\\begin{matrix}-4\\\\3\\end{matrix}\\right]$"
      ],
      "text/plain": [
       "⎡-4⎤\n",
       "⎢  ⎥\n",
       "⎣3 ⎦"
      ]
     },
     "execution_count": 13,
     "metadata": {},
     "output_type": "execute_result"
    }
   ],
   "source": [
    "print('Show a simpler method since we are using a computer:')\n",
    "(A.T*A).inv()*A.T*b"
   ]
  },
  {
   "cell_type": "markdown",
   "metadata": {},
   "source": [
    "### 6. Let $A = \\begin{bmatrix} 1&&1&&0\\\\ 1&&1&&0\\\\ 1&&1&&0\\\\ 1&&0&&1\\\\ 1&&0&&1\\\\ 1&&0&&1\\\\ \\end{bmatrix}$ and $b = \\begin{bmatrix} 7\\\\2\\\\3\\\\6\\\\5\\\\4\\end{bmatrix}$.\n",
    "#### Describe all least-squares solutions of the equation $Ax=b$."
   ]
  },
  {
   "cell_type": "code",
   "execution_count": 14,
   "metadata": {},
   "outputs": [
    {
     "name": "stdout",
     "output_type": "stream",
     "text": [
      "Show columns of A are dependent: (thus all solutions are approximate and have rank =2 so 4 free varibles)\n"
     ]
    },
    {
     "data": {
      "text/latex": [
       "$\\displaystyle \\left( \\left[\\begin{matrix}1 & 1 & 0\\\\1 & 1 & 0\\\\1 & 1 & 0\\\\1 & 0 & 1\\\\1 & 0 & 1\\\\1 & 0 & 1\\end{matrix}\\right], \\  \\left( \\left[\\begin{matrix}1 & 0 & 1\\\\0 & 1 & -1\\\\0 & 0 & 0\\\\0 & 0 & 0\\\\0 & 0 & 0\\\\0 & 0 & 0\\end{matrix}\\right], \\  \\left( 0, \\  1\\right)\\right), \\  4\\right)$"
      ],
      "text/plain": [
       "⎛⎡1  1  0⎤  ⎛⎡1  0  1 ⎤        ⎞   ⎞\n",
       "⎜⎢       ⎥  ⎜⎢        ⎥        ⎟   ⎟\n",
       "⎜⎢1  1  0⎥  ⎜⎢0  1  -1⎥        ⎟   ⎟\n",
       "⎜⎢       ⎥  ⎜⎢        ⎥        ⎟   ⎟\n",
       "⎜⎢1  1  0⎥  ⎜⎢0  0  0 ⎥        ⎟   ⎟\n",
       "⎜⎢       ⎥, ⎜⎢        ⎥, (0, 1)⎟, 4⎟\n",
       "⎜⎢1  0  1⎥  ⎜⎢0  0  0 ⎥        ⎟   ⎟\n",
       "⎜⎢       ⎥  ⎜⎢        ⎥        ⎟   ⎟\n",
       "⎜⎢1  0  1⎥  ⎜⎢0  0  0 ⎥        ⎟   ⎟\n",
       "⎜⎢       ⎥  ⎜⎢        ⎥        ⎟   ⎟\n",
       "⎝⎣1  0  1⎦  ⎝⎣0  0  0 ⎦        ⎠   ⎠"
      ]
     },
     "execution_count": 14,
     "metadata": {},
     "output_type": "execute_result"
    }
   ],
   "source": [
    "A = Matrix([[1,1,1,1,1,1],[1,1,1,0,0,0],[0,0,0,1,1,1]]).T\n",
    "b = Matrix([7,2,3,6,5,4])\n",
    "print('Show columns of A are dependent: (thus all solutions are approximate and have rank =2 so 4 free varibles)')\n",
    "A, A.rref(), len(A.T.nullspace()) # think about a better way to 'describe' the form of these solutions "
   ]
  },
  {
   "cell_type": "code",
   "execution_count": 15,
   "metadata": {},
   "outputs": [
    {
     "name": "stdout",
     "output_type": "stream",
     "text": [
      "Show our approximate solution:\n"
     ]
    },
    {
     "data": {
      "text/latex": [
       "$\\hat{x}=$$\\left[\\begin{matrix}5\\\\-1\\end{matrix}\\right]$"
      ],
      "text/plain": [
       "<IPython.core.display.Latex object>"
      ]
     },
     "metadata": {},
     "output_type": "display_data"
    }
   ],
   "source": [
    "print('Show our approximate solution:')\n",
    "Q = Matrix([A.columnspace()])  # think about this, a bit more\n",
    "x_hat = (Q.T*Q).inv()*Q.T*b\n",
    "Q* x_hat\n",
    "display(Latex('$\\\\hat{x}=$' + f'${sym.latex(x_hat)}$'))"
   ]
  },
  {
   "cell_type": "markdown",
   "metadata": {},
   "source": [
    "### 7. Let $A = \\begin{bmatrix} 1&&-1\\\\1&&4\\\\1&&-1\\\\1&&4\\end{bmatrix} = \\begin{bmatrix} \\frac{1}{2}&&-\\frac{1}{2}\\\\ \\frac{1}{2}&&\\frac{1}{2}\\\\ \\frac{1}{2}&&-\\frac{1}{2}\\\\ \\frac{1}{2}&&\\frac{1}{2}\\\\ \\end{bmatrix} \\begin{bmatrix} 2&&3\\\\0&&5\\end{bmatrix}$.\n",
    "#### Use the $QR$ factorization to find the least-squares solution of $Ax=b$."
   ]
  },
  {
   "cell_type": "code",
   "execution_count": 16,
   "metadata": {},
   "outputs": [
    {
     "name": "stdout",
     "output_type": "stream",
     "text": [
      "Show some truth:\n"
     ]
    },
    {
     "data": {
      "text/latex": [
       "$\\displaystyle \\left( \\left[\\begin{matrix}1 & -1\\\\1 & 4\\\\1 & -1\\\\1 & 4\\end{matrix}\\right], \\  \\left[\\begin{matrix}\\frac{1}{2} & - \\frac{1}{2}\\\\\\frac{1}{2} & \\frac{1}{2}\\\\\\frac{1}{2} & - \\frac{1}{2}\\\\\\frac{1}{2} & \\frac{1}{2}\\end{matrix}\\right], \\  \\left[\\begin{matrix}2 & 3\\\\0 & 5\\end{matrix}\\right], \\  \\left[\\begin{matrix}2 & 3\\\\0 & 5\\end{matrix}\\right]\\right)$"
      ],
      "text/plain": [
       "⎛⎡1  -1⎤  ⎡1/2  -1/2⎤                ⎞\n",
       "⎜⎢     ⎥  ⎢         ⎥                ⎟\n",
       "⎜⎢1  4 ⎥  ⎢1/2  1/2 ⎥  ⎡2  3⎤  ⎡2  3⎤⎟\n",
       "⎜⎢     ⎥, ⎢         ⎥, ⎢    ⎥, ⎢    ⎥⎟\n",
       "⎜⎢1  -1⎥  ⎢1/2  -1/2⎥  ⎣0  5⎦  ⎣0  5⎦⎟\n",
       "⎜⎢     ⎥  ⎢         ⎥                ⎟\n",
       "⎝⎣1  4 ⎦  ⎣1/2  1/2 ⎦                ⎠"
      ]
     },
     "execution_count": 16,
     "metadata": {},
     "output_type": "execute_result"
    }
   ],
   "source": [
    "A = Matrix([[1,-1],[1,4],[1,-1],[1,4]])\n",
    "Q = sym.Rational(1,2) * Matrix([[1,-1],[1,1],[1,-1],[1,1]])\n",
    "R = Matrix([[2,3],[0,5]])\n",
    "print('Show some truth:')\n",
    "A,Q,R, Q.T*A"
   ]
  },
  {
   "cell_type": "code",
   "execution_count": 17,
   "metadata": {},
   "outputs": [
    {
     "name": "stdout",
     "output_type": "stream",
     "text": [
      "Recall: R*x=Q.T*b\n"
     ]
    },
    {
     "data": {
      "text/latex": [
       "Thus, $\\hat{x}= R^{-1}Q^T b=$$\\left[\\begin{matrix}\\frac{1}{2} & - \\frac{3}{10}\\\\0 & \\frac{1}{5}\\end{matrix}\\right] *              \\left[\\begin{matrix}\\frac{1}{2} & \\frac{1}{2} & \\frac{1}{2} & \\frac{1}{2}\\\\- \\frac{1}{2} & \\frac{1}{2} & - \\frac{1}{2} & \\frac{1}{2}\\end{matrix}\\right] * \\left[\\begin{matrix}b_{1}\\\\b_{2}\\\\b_{3}\\\\b_{4}\\end{matrix}\\right] =              \\left[\\begin{matrix}\\frac{2 b_{1}}{5} + \\frac{b_{2}}{10} + \\frac{2 b_{3}}{5} + \\frac{b_{4}}{10}\\\\- \\frac{b_{1}}{10} + \\frac{b_{2}}{10} - \\frac{b_{3}}{10} + \\frac{b_{4}}{10}\\end{matrix}\\right]$"
      ],
      "text/plain": [
       "<IPython.core.display.Latex object>"
      ]
     },
     "metadata": {},
     "output_type": "display_data"
    }
   ],
   "source": [
    "print('Recall: R*x=Q.T*b')\n",
    "b = Matrix([sym.symbols('b1 b2 b3 b4')]).T\n",
    "R.inv()*Q.T, b, R.inv()*Q.T *b\n",
    "display(Latex('Thus, $\\hat{x}= R^{-1}Q^T b=$' + \\\n",
    "             f'${sym.latex(R.inv())} * \\\n",
    "             {sym.latex(Q.T)} * {sym.latex(b)} = \\\n",
    "             {sym.latex(R.inv()*Q.T *b)}$'))"
   ]
  },
  {
   "cell_type": "markdown",
   "metadata": {},
   "source": [
    "### 8. A healthy child's systolic blood pressure $p$ (in millimeter of mercury) and weight $w$ (in pounds) are approximately related by the equation\n",
    "### $\\beta_0+\\beta_1 \\text{ ln } w=p$\n",
    "#### Use the following experimental data to estimate the systolic blood pressure of a healthy child weighting 100 pounds.\n",
    "w |ln w|p |\n",
    "--|----|--\n",
    "44|3.78|91\n",
    "61|4.11|98\n",
    "81|4.41|103\n",
    "113|4.73|110\n",
    "131|4.88|112\n"
   ]
  },
  {
   "cell_type": "code",
   "execution_count": 18,
   "metadata": {},
   "outputs": [
    {
     "data": {
      "text/latex": [
       "Recall: $X\\beta=y$"
      ],
      "text/plain": [
       "<IPython.core.display.Latex object>"
      ]
     },
     "metadata": {},
     "output_type": "display_data"
    },
    {
     "data": {
      "text/latex": [
       "Thus, $X^TX\\beta=X^Ty$"
      ],
      "text/plain": [
       "<IPython.core.display.Latex object>"
      ]
     },
     "metadata": {},
     "output_type": "display_data"
    },
    {
     "data": {
      "text/latex": [
       "Or, $\\beta = (X^TX)^{-1}X^Ty$$= \\left[\\begin{matrix}13.0\\\\-0.0211\\\\20.9\\end{matrix}\\right]$"
      ],
      "text/plain": [
       "<IPython.core.display.Latex object>"
      ]
     },
     "metadata": {},
     "output_type": "display_data"
    }
   ],
   "source": [
    "p = Matrix([91,98,103,110,112])\n",
    "w = [44,61,81,113,131]\n",
    "ln_w = [3.78,4.11,4.41,4.73,4.88]\n",
    "\n",
    "# cast into familar form\n",
    "y = p\n",
    "X = Matrix([sym.ones(1,5), w, ln_w]).T\n",
    "y,X\n",
    "display(Latex('Recall: $X\\\\beta=y$'))\n",
    "display(Latex('Thus, $X^TX\\\\beta=X^Ty$'))\n",
    "\n",
    "beta = ((X.T*X).inv() * X.T*y)\n",
    "display(Latex('Or, $\\\\beta = (X^TX)^{-1}X^Ty$' + \\\n",
    "              f'$= {sym.latex(beta.n(3))}$'))"
   ]
  },
  {
   "cell_type": "code",
   "execution_count": 19,
   "metadata": {},
   "outputs": [
    {
     "name": "stdout",
     "output_type": "stream",
     "text": [
      "Test our results on a known results: (looks good)\n"
     ]
    },
    {
     "data": {
      "text/latex": [
       "$\\displaystyle \\left[\\begin{matrix}91.1\\\\97.6\\\\103.0\\\\110.0\\\\112.0\\end{matrix}\\right]$"
      ],
      "text/plain": [
       "⎡91.1 ⎤\n",
       "⎢     ⎥\n",
       "⎢97.6 ⎥\n",
       "⎢     ⎥\n",
       "⎢103.0⎥\n",
       "⎢     ⎥\n",
       "⎢110.0⎥\n",
       "⎢     ⎥\n",
       "⎣112.0⎦"
      ]
     },
     "execution_count": 19,
     "metadata": {},
     "output_type": "execute_result"
    }
   ],
   "source": [
    "print('Test our results on a known results: (looks good)')\n",
    "(X*beta).n(3)"
   ]
  },
  {
   "cell_type": "code",
   "execution_count": 20,
   "metadata": {},
   "outputs": [
    {
     "name": "stdout",
     "output_type": "stream",
     "text": [
      "Show estimated systolic blood pressure of a 100lb child: (with design matrix, x)\n"
     ]
    },
    {
     "data": {
      "text/latex": [
       "$\\displaystyle \\left( \\left[\\begin{matrix}1 & 100 & \\log{\\left(100 \\right)}\\end{matrix}\\right], \\  \\left[\\begin{matrix}107.0\\end{matrix}\\right]\\right)$"
      ],
      "text/plain": [
       "([1  100  log(100)], [107.0])"
      ]
     },
     "execution_count": 20,
     "metadata": {},
     "output_type": "execute_result"
    }
   ],
   "source": [
    "print('Show estimated systolic blood pressure of a 100lb child: (with design matrix, x)')\n",
    "x = Matrix([1,100, sym.ln(100)]).T\n",
    "x, (x*beta).n(3)"
   ]
  },
  {
   "cell_type": "markdown",
   "metadata": {},
   "source": [
    "### 9. To measure the takeoff performance of an airplane, the horizontal position of the plane was measured every second, from $t=0$ to $t=12$.  The positions (in feet) were: 0, 8.8, 29.9, 62.0, 104.7, 159.1, 222.0, 294.5, 380.4, 471.1, 571.7, 686.8, 809.2.\n",
    "#### (a) Find the least-squares cubic curve $y=\\beta_0+\\beta_1t+\\beta_2t^2+\\beta_3t^3$ for these data.\n",
    "#### (b) Use the result of (a) to estimate the velocity of the plane when $t=4.5$ seconds."
   ]
  },
  {
   "cell_type": "code",
   "execution_count": 21,
   "metadata": {},
   "outputs": [
    {
     "data": {
      "text/latex": [
       "(a) Recall: $X\\beta=y$"
      ],
      "text/plain": [
       "<IPython.core.display.Latex object>"
      ]
     },
     "metadata": {},
     "output_type": "display_data"
    },
    {
     "data": {
      "text/latex": [
       "Thus, $X^TX\\beta=X^Ty$"
      ],
      "text/plain": [
       "<IPython.core.display.Latex object>"
      ]
     },
     "metadata": {},
     "output_type": "display_data"
    },
    {
     "data": {
      "text/latex": [
       "Or, $\\beta = (X^TX)^{-1}X^Ty$$= \\left[\\begin{matrix}-0.856\\\\4.7\\\\5.56\\\\-0.0274\\end{matrix}\\right]$"
      ],
      "text/plain": [
       "<IPython.core.display.Latex object>"
      ]
     },
     "metadata": {},
     "output_type": "display_data"
    }
   ],
   "source": [
    "t = range(12+1)\n",
    "p = [0, 8.8, 29.9, 62.0, 104.7, 159.1, 222.0, 294.5, 380.4, 471.1, 571.7, 686.8, 809.2]\n",
    "\n",
    "# design our matrix\n",
    "x0 = sym.ones(1,len(t))\n",
    "x1 = [e for e in t]\n",
    "x2 = [e**2 for e in x1]\n",
    "x3 = [e**3 for e in x1]\n",
    "X = Matrix([x0,x1,x2,x3]).T\n",
    "\n",
    "# cast vresults to a familar form\n",
    "y = Matrix(p)\n",
    "\n",
    "display(Latex('(a) Recall: $X\\\\beta=y$'))\n",
    "display(Latex('Thus, $X^TX\\\\beta=X^Ty$'))\n",
    "\n",
    "beta = ((X.T*X).inv() * X.T*y)\n",
    "display(Latex('Or, $\\\\beta = (X^TX)^{-1}X^Ty$' + \\\n",
    "              f'$= {sym.latex(beta.n(3))}$'))"
   ]
  },
  {
   "cell_type": "code",
   "execution_count": 22,
   "metadata": {},
   "outputs": [
    {
     "data": {
      "text/latex": [
       "(b) Test our results on a known results: $y=\\left[\\begin{matrix}0\\\\8.8\\\\29.9\\\\62.0\\\\104.7\\\\159.1\\\\222.0\\\\294.5\\\\380.4\\\\471.1\\\\571.7\\\\686.8\\\\809.2\\end{matrix}\\right] ≈ \\left[\\begin{matrix}-0.856\\\\9.38\\\\30.6\\\\62.5\\\\105.0\\\\158.0\\\\221.0\\\\295.0\\\\378.0\\\\472.0\\\\574.0\\\\687.0\\\\808.0\\end{matrix}\\right]$ * checks out!"
      ],
      "text/plain": [
       "<IPython.core.display.Latex object>"
      ]
     },
     "metadata": {},
     "output_type": "display_data"
    },
    {
     "data": {
      "text/latex": [
       "Now find velocity at $t=4.5$:"
      ],
      "text/plain": [
       "<IPython.core.display.Latex object>"
      ]
     },
     "metadata": {},
     "output_type": "display_data"
    },
    {
     "data": {
      "text/latex": [
       " Our position at $t=4.5$ is $130.3$ft, thus our averge velocity is $29.0$$\\frac{ft}{s}$ and our instantanious velocity is $53.0$$\\frac{ft}{s}$. *"
      ],
      "text/plain": [
       "<IPython.core.display.Latex object>"
      ]
     },
     "metadata": {},
     "output_type": "display_data"
    },
    {
     "data": {
      "text/latex": [
       "* Displayed results rounded to one decimal point."
      ],
      "text/plain": [
       "<IPython.core.display.Latex object>"
      ]
     },
     "metadata": {},
     "output_type": "display_data"
    }
   ],
   "source": [
    "display(Latex(f'(b) Test our results on a known results: \\\n",
    "$y={sym.latex(y)} ≈ {sym.latex((X*beta).n(3))}$ \\\n",
    "* checks out!')) \n",
    "\n",
    "display(Latex(f'Now find velocity at $t=4.5$:'))\n",
    "epsilon = 0.001 # estimation interval\n",
    "t0 = 4.5\n",
    "t1 = t0 + epsilon\n",
    "x0 = Matrix([1, t0, t0**2, t0**3]).T\n",
    "x1 = Matrix([1, t1, t1**2, t1**3]).T\n",
    "\n",
    "d0 = (x0*beta)[0]\n",
    "d1 = (x1*beta)[0]\n",
    "v_avg = d0/t0\n",
    "v_inst = (d1-d0)/(t1-t0) # velocity for our interval \n",
    "\n",
    "display(Latex(f' Our position at $t={t0}$ is ${sym.latex(round(d0,1))}$ft, \\\n",
    "thus our averge velocity is ${sym.latex(round(v_avg,1))}$' + '$\\\\frac{ft}{s}$ \\\n",
    "and our instantanious velocity is ' + f'${sym.latex(round(v_inst,1))}$' + '$\\\\frac{ft}{s}$. *'))\n",
    "display(Latex('* Displayed results rounded to one decimal point.'))"
   ]
  },
  {
   "cell_type": "markdown",
   "metadata": {},
   "source": [
    "### 10. Find the singular values of the matrix $\\begin{bmatrix} -5&&0\\\\0&&0\\end{bmatrix}$."
   ]
  },
  {
   "cell_type": "code",
   "execution_count": 23,
   "metadata": {},
   "outputs": [
    {
     "data": {
      "text/latex": [
       "$\\displaystyle \\left( \\left[\\begin{matrix}-5 & 0\\\\0 & 0\\end{matrix}\\right], \\  1, \\  \\left[\\begin{matrix}25 & 0\\\\0 & 0\\end{matrix}\\right], \\  \\left[ \\left( 0, \\  1, \\  \\left[ \\left[\\begin{matrix}0\\\\1\\end{matrix}\\right]\\right]\\right), \\  \\left( 25, \\  1, \\  \\left[ \\left[\\begin{matrix}1\\\\0\\end{matrix}\\right]\\right]\\right)\\right]\\right)$"
      ],
      "text/plain": [
       "⎛⎡-5  0⎤     ⎡25  0⎤  ⎡⎛      ⎡⎡0⎤⎤⎞  ⎛       ⎡⎡1⎤⎤⎞⎤⎞\n",
       "⎜⎢     ⎥, 1, ⎢     ⎥, ⎢⎜0, 1, ⎢⎢ ⎥⎥⎟, ⎜25, 1, ⎢⎢ ⎥⎥⎟⎥⎟\n",
       "⎝⎣0   0⎦     ⎣0   0⎦  ⎣⎝      ⎣⎣1⎦⎦⎠  ⎝       ⎣⎣0⎦⎦⎠⎦⎠"
      ]
     },
     "execution_count": 23,
     "metadata": {},
     "output_type": "execute_result"
    }
   ],
   "source": [
    "A = Matrix([[-5,0],[0,0]])\n",
    "A, A.rank(), A.T*A, (A.T*A).eigenvects()\n",
    "#help(Matrix.eigenvects)"
   ]
  },
  {
   "cell_type": "code",
   "execution_count": 24,
   "metadata": {},
   "outputs": [
    {
     "name": "stdout",
     "output_type": "stream",
     "text": [
      "Show semi-manual process to find SVD:\n"
     ]
    },
    {
     "data": {
      "text/latex": [
       "$A=U\\Sigma V^T= \\left[\\begin{matrix}-1 & 0\\\\0 & 0\\end{matrix}\\right]\\left[\\begin{matrix}5 & 0\\\\0 & 0\\end{matrix}\\right]\\left[\\begin{matrix}1 & 0\\\\0 & 1\\end{matrix}\\right]=\\left[\\begin{matrix}-5 & 0\\\\0 & 0\\end{matrix}\\right]$ * Where the non-zero $\\Sigma$ are the singular values."
      ],
      "text/plain": [
       "<IPython.core.display.Latex object>"
      ]
     },
     "metadata": {},
     "output_type": "display_data"
    },
    {
     "data": {
      "text/latex": [
       "$A=\\left[\\begin{matrix}-5 & 0\\\\0 & 0\\end{matrix}\\right]$, *checks out!"
      ],
      "text/plain": [
       "<IPython.core.display.Latex object>"
      ]
     },
     "metadata": {},
     "output_type": "display_data"
    }
   ],
   "source": [
    "print('Show semi-manual process to find SVD:')\n",
    "V = Matrix([[1,0],[0,1]]) # order our eigenvects\n",
    "\n",
    "m,n = A.shape\n",
    "sigma = sym.zeros(m,n) # our matrix for sigma is the same shape as A\n",
    "sigma_1 = sym.sqrt(25) # made our sigmi\n",
    "sigma_2 = 0\n",
    "sigma[0] = sigma_1\n",
    "\n",
    "u1 = 1/sigma_1*A*V.col(0) # Av_k\n",
    "u2 = sym.zeros(m,1) # simga_2 is 0 so just cook up a zero vector\n",
    "U = Matrix([u1.T,u2.T]).T # U is our non-zero Av_k vectors\n",
    "\n",
    "A, U*sigma*V.T  # validate our result\n",
    "display(Latex(f'$A=U\\\\Sigma V^T= \\\n",
    "{sym.latex(U)}{sym.latex(sigma)}{sym.latex(V.T)}=\\\n",
    "{sym.latex(U*sigma*V.T)}$ * Where the non-zero $\\Sigma$ are the singular values.'))\n",
    "display(Latex(f'$A={sym.latex(A)}$, *checks out!'))  # think about this, the sigma are our singular values"
   ]
  },
  {
   "cell_type": "markdown",
   "metadata": {},
   "source": [
    "### 11. Suppose the factorization below is an SVD of a matrix $A$, with the entries in $U$ and $V$ rounded to two decimal places.\n",
    "#### $A = \\begin{bmatrix} -0.86 & -0.11 & -0.50\\\\~~0.31 & ~~0.68 & -0.67\\\\~~0.41 & -0.73 & -0.55 \\end{bmatrix}  \\begin{bmatrix} 12.48 & 0 & 0 & 0\\\\ 0 & 6.34 & 0 & 0 \\\\ 0 & 0 & 0 & 0\\end{bmatrix} \\begin{bmatrix} ~~0.66 & -0.03 & -0.35 & ~~0.66\\\\ -0.13 & -0.90 & -0.39 & -0.13 \\\\ ~~0.65 & ~~0.08 & -0.16 & -0.73 \\\\ -0.34 & ~~0.42 & -0.84 & -0.08\\end{bmatrix}$\n",
    "#### (a) What is the rank of $A$?\n",
    "#### (b) Use this decomposition of $A$, with no calculations, to write a basis for Col $A$ and a basis for Nul $A$."
   ]
  },
  {
   "cell_type": "markdown",
   "metadata": {},
   "source": [
    "(a) The rank is 2 based on the Diagonal matrix in $\\Sigma$.\n",
    "\n",
    "(b) The basis of $A$ is the first two columns of $U$, $\\begin{Bmatrix}\\begin{bmatrix} -0.86 & -0.11\\\\~~0.31 & ~~0.68\\\\~~0.41 & -0.73\\end{bmatrix}\\end{Bmatrix}$.  \n",
    "\n",
    "The basis for the Nul $A$ is the last two rows of the $V^T$, $\\begin{bmatrix}~~0.65 & ~~0.08 & -0.16 & -0.73 \\\\ -0.34 & ~~0.42 & -0.84 & -0.08\\end{bmatrix}$ or rather more clearly stated, the last two columns of V,\n",
    "\n",
    "\n",
    "$\\begin{Bmatrix}\\begin{bmatrix}~~0.65 \\\\ ~~0.08 \\\\ -0.16 \\\\ -0.73\\end{bmatrix} \\begin{bmatrix}-0.34 \\\\ ~~0.42 \\\\ -0.84 \\\\ -0.08\\end{bmatrix}\\end{Bmatrix}$."
   ]
  },
  {
   "cell_type": "code",
   "execution_count": 25,
   "metadata": {},
   "outputs": [
    {
     "name": "stdout",
     "output_type": "stream",
     "text": [
      "Show the calculation to valid our results: (we are expecting floating point error)\n"
     ]
    },
    {
     "data": {
      "text/latex": [
       "sympy.Matrix.rank() correctly displays the rank as 2."
      ],
      "text/plain": [
       "<IPython.core.display.Latex object>"
      ]
     },
     "metadata": {},
     "output_type": "display_data"
    },
    {
     "data": {
      "text/latex": [
       "$A^TA.eigenval()$ shows two very small eigenvalues, $\\left\\{ -2.13039473560594 \\cdot 10^{-15} : 1, \\  -2.00925079369198 \\cdot 10^{-63} : 1, \\  40.3241537771784 : 1, \\  155.493056575486 : 1\\right\\}$, which provides further evidence that the rank is indeed $(4-2)=2$."
      ],
      "text/plain": [
       "<IPython.core.display.Latex object>"
      ]
     },
     "metadata": {},
     "output_type": "display_data"
    },
    {
     "data": {
      "text/latex": [
       "Show $UU^T, VV^T$: *Here we are demostrating U and V are orthonormal basises by rounding."
      ],
      "text/plain": [
       "<IPython.core.display.Latex object>"
      ]
     },
     "metadata": {},
     "output_type": "display_data"
    },
    {
     "data": {
      "text/latex": [
       "$\\displaystyle \\left( \\left[\\begin{matrix}1.0 & 0 & 0\\\\0 & 1.0 & 0\\\\0 & 0 & 1.0\\end{matrix}\\right], \\  \\left[\\begin{matrix}1.0 & 0 & 0 & 0\\\\0 & 1.0 & 0 & 0\\\\0 & 0 & 1.0 & 0\\\\0 & 0 & 0 & 1.0\\end{matrix}\\right]\\right)$"
      ],
      "text/plain": [
       "⎛                 ⎡1.0   0    0    0 ⎤⎞\n",
       "⎜⎡1.0   0    0 ⎤  ⎢                  ⎥⎟\n",
       "⎜⎢             ⎥  ⎢ 0   1.0   0    0 ⎥⎟\n",
       "⎜⎢ 0   1.0   0 ⎥, ⎢                  ⎥⎟\n",
       "⎜⎢             ⎥  ⎢ 0    0   1.0   0 ⎥⎟\n",
       "⎜⎣ 0    0   1.0⎦  ⎢                  ⎥⎟\n",
       "⎝                 ⎣ 0    0    0   1.0⎦⎠"
      ]
     },
     "execution_count": 25,
     "metadata": {},
     "output_type": "execute_result"
    }
   ],
   "source": [
    "print('Show the calculation to valid our results: (we are expecting floating point error)')\n",
    "U = Matrix([[-0.86, -0.11, -0.50],[0.31,0.68,-0.67],[0.41,-0.73,-0.55]])\n",
    "sigma = Matrix([[12.48,0,0,0],[0,6.34,0,0],[0,0,0,0]])\n",
    "V = Matrix([[0.66,-0.03,-0.35,0.66],[-0.13,-0.90,-0.39,-0.13],[0.65,0.08,-0.16,-0.73],[-0.34,0.42,-0.84,-0.08]]).T\n",
    "A = U*sigma*V.T\n",
    "\n",
    "display(Latex(f'sympy.Matrix.rank() correctly displays the rank as {sym.latex(A.rank())}.'))\n",
    "display(Latex(f'$A^TA.eigenval()$ shows two very small eigenvalues, \\\n",
    "${sym.latex((A.T*A).eigenvals())}$, which provides further evidence that the rank is indeed $(4-2)=2$.'))\n",
    "\n",
    "v1 = A.col(0)\n",
    "v2 = A.col(1) - v1 * A.col(1).dot(v1)/v1.dot(v1)\n",
    "v1 = v1/v1.norm()\n",
    "v2 = v2/v2.norm()\n",
    "v1,v2  \n",
    "\n",
    "display(Latex('Show $UU^T, VV^T$: *Here we are demostrating U and V are orthonormal basises by rounding.'))\n",
    "(U*U.T).applyfunc(lambda x: round(x,1)), (V*V.T).applyfunc(lambda x: round(x,1))# A.col(0)/A.col(0).norm(), A.col(1)/A.col().norm()"
   ]
  },
  {
   "cell_type": "markdown",
   "metadata": {},
   "source": [
    "### 12. Suppose $A$ is square and invertible.  Find the singular value decomposition of $A^{-1}$."
   ]
  },
  {
   "cell_type": "markdown",
   "metadata": {},
   "source": [
    "Recall: $A=U\\Sigma\\ V^T$ \n",
    "\n",
    "also recall: $A^{-1}=V\\Sigma^{-1}U^T$, where $\\Sigma^{-1}= diag( \\frac{1}{\\sigma_1}, \\frac{1}{\\sigma_2}, ..., \\frac{1}{\\sigma_n})$\n",
    "\n",
    "Working backwards see can see this is correct:\n",
    "\n",
    "$A^{-1}A = (V\\Sigma^{-1}U^T)(U\\Sigma V^T)$\n",
    "\n",
    "$= V\\Sigma^{-1}(U^TU)\\Sigma V^T)$\n",
    "\n",
    "$= V(\\Sigma^{-1}\\Sigma)V^T)$\n",
    "\n",
    "$= VV^T$\n",
    "\n",
    "$= I$\n",
    "\n",
    "To the Mathematician it ought to be obvious how this might be made into a proof, being a pedantic lot maybe we should just do this. Here we go...\n",
    "\n",
    "Proof:\n",
    "\n",
    "$A^{-1}=(U\\Sigma V^T)^{-1}$\n",
    "\n",
    "$=(V^T)^{-1}\\Sigma^{-1}U^{-1}$, ($U$ and $V$ are orthonormal, thus $(V^T)^{-1} = V$ and $U^{-1} = U^T$)\n",
    "\n",
    "$=V\\Sigma^{-1}U^T$, where $\\Sigma^{-1}= diag( \\frac{1}{\\sigma_1}, \\frac{1}{\\sigma_2}, ..., \\frac{1}{\\sigma_n})$. \n",
    "\n",
    "∎\n",
    "\n",
    "'Ah! Never to escape from Being and Number!'\n",
    "\n",
    "-Charles Baudelaire, The Void\n",
    "\n",
    "* see also: Moore-Penrose inverse (pseudoinverse) where, $A^†=V_r\\Sigma^{-1}U^T_r$\n",
    "* see also Lay, Ex 7.4.7"
   ]
  },
  {
   "cell_type": "markdown",
   "metadata": {},
   "source": [
    "### 13. Show that if $A$ is square, then $|detA|$ is the product of the singular values of $A$."
   ]
  },
  {
   "cell_type": "markdown",
   "metadata": {},
   "source": [
    "Recall: $A=U\\Sigma\\ V^T$\n",
    "\n",
    "Also recall for a square matrix: \n",
    "\n",
    "$\\Sigma= diag( {\\sigma_1}, {\\sigma_2}, ..., {\\sigma_n})$, where $\\sigma_i=\\sqrt{\\lambda_i}$.  \n",
    "These $\\lambda_i$ are our eigenvalues given by our characteristic polynomial of $A$.\n",
    "\n",
    "We also know that $U$ and $V^{-1}$ are orthonormal thus are rotations that will not scale $\\Sigma$.  Further we can note the determinate of an orthonormal basis is $1$.  This property means U and V are unitary.\n",
    "\n",
    "Thus by construction, \n",
    "\n",
    "$|detA| = \\Sigma \\circ \\Sigma^{T}$\n",
    "\n",
    "$= diag( {\\sigma_1}^2, {\\sigma_2}^2, ..., {\\sigma_n}^2)$\n",
    "\n",
    "$= diag( {\\lambda_1}, {\\lambda_2}, ..., {\\lambda_n})$\n",
    "\n",
    "∎"
   ]
  },
  {
   "cell_type": "markdown",
   "metadata": {},
   "source": [
    "### 14. Find the $\\textit{minimal length}$ least-squares solution of the equation $A\\bf x=\\bf b$, where\n",
    "$A = \\begin{bmatrix} 1 & 1 & 0\\\\1 & 1 & 0\\\\1 & 0 & 1\\\\ 1 & 0 & 1\\end{bmatrix}, ~~{\\bf b} = \\begin{bmatrix} 1\\\\3\\\\8\\\\2\\end{bmatrix}$."
   ]
  },
  {
   "cell_type": "code",
   "execution_count": 26,
   "metadata": {},
   "outputs": [
    {
     "data": {
      "text/latex": [
       "Recall: $A^TAx=A^Tb$"
      ],
      "text/plain": [
       "<IPython.core.display.Latex object>"
      ]
     },
     "metadata": {},
     "output_type": "display_data"
    },
    {
     "data": {
      "text/latex": [
       "Thus, $\\hat{x}=(A^TA)^{-1}A^Tb$, We've been setup! A.T*A is not invertible."
      ],
      "text/plain": [
       "<IPython.core.display.Latex object>"
      ]
     },
     "metadata": {},
     "output_type": "display_data"
    },
    {
     "data": {
      "text/latex": [
       "$\\hat{x}=$$\\left[\\begin{matrix}1\\\\-1\\\\0\\end{matrix}\\right],\\left[\\begin{matrix}5\\\\-3\\\\0\\end{matrix}\\right]$"
      ],
      "text/plain": [
       "<IPython.core.display.Latex object>"
      ]
     },
     "metadata": {},
     "output_type": "display_data"
    },
    {
     "data": {
      "text/latex": [
       "$\\hat{b}=$$\\left[\\begin{matrix}0\\\\0\\\\1\\\\1\\end{matrix}\\right],\\left[\\begin{matrix}2\\\\2\\\\5\\\\5\\end{matrix}\\right]$"
      ],
      "text/plain": [
       "<IPython.core.display.Latex object>"
      ]
     },
     "metadata": {},
     "output_type": "display_data"
    },
    {
     "name": "stdout",
     "output_type": "stream",
     "text": [
      "Think about this result!\n"
     ]
    },
    {
     "data": {
      "text/latex": [
       "$\\hat{x}=$$\\left[\\begin{matrix}5\\\\-3\\\\0\\end{matrix}\\right]$ minimized the length of $b-\\hat{b}$."
      ],
      "text/plain": [
       "<IPython.core.display.Latex object>"
      ]
     },
     "metadata": {},
     "output_type": "display_data"
    }
   ],
   "source": [
    "display(Latex('Recall: $A^TAx=A^Tb$'))\n",
    "display(Latex(\"Thus, $\\\\hat{x}=(A^TA)^{-1}A^Tb$, We've been setup! A.T*A is not invertible.\"))\n",
    "A = Matrix([[1,1,1,1],[1,1,0,0],[0,0,1,1]]).T # Transposed to make it easiler to type\n",
    "b = Matrix([1,3,8,2])\n",
    "#x_hat = (A.T*A).inv() * A.T*b  # we've been setup, A.T*A is not invertible\n",
    "x_hat = ((A.T*A).row_join(A.T*b)).rref(pivots=False)\n",
    "A, x_hat, A*x_hat.col(-1)  # FIXME!!! Think about this result!\n",
    "display(Latex('$\\\\hat{x}=$'+f'${sym.latex(x_hat.col(-2))},{sym.latex(x_hat.col(-1))}$'))\n",
    "display(Latex('$\\\\hat{b}=$'+f'${sym.latex(A*x_hat.col(-2))},{sym.latex(A*x_hat.col(-1))}$'))\n",
    "print('Think about this result!')\n",
    "z1 = b-A*x_hat.col(-2)\n",
    "z2 = b-A*x_hat.col(-1)\n",
    "display(Latex('$\\\\hat{x}=$'+f'${sym.latex(x_hat.col(-1))}$'+' minimized the length of $b-\\\\hat{b}$.'))"
   ]
  },
  {
   "cell_type": "code",
   "execution_count": 27,
   "metadata": {},
   "outputs": [
    {
     "name": "stdout",
     "output_type": "stream",
     "text": [
      "More thoughts...\n"
     ]
    },
    {
     "data": {
      "text/latex": [
       "$\\displaystyle \\left( 2, \\  \\left[ \\left[\\begin{matrix}-1\\\\1\\\\1\\end{matrix}\\right]\\right], \\  \\left[ \\left( 0, \\  1, \\  \\left[ \\left[\\begin{matrix}-1\\\\1\\\\1\\end{matrix}\\right]\\right]\\right), \\  \\left( 2, \\  1, \\  \\left[ \\left[\\begin{matrix}0\\\\-1\\\\1\\end{matrix}\\right]\\right]\\right), \\  \\left( 6, \\  1, \\  \\left[ \\left[\\begin{matrix}2\\\\1\\\\1\\end{matrix}\\right]\\right]\\right)\\right], \\  \\left[\\begin{matrix}2 & 2 & 1 & 1\\\\2 & 2 & 1 & 1\\\\1 & 1 & 2 & 2\\\\1 & 1 & 2 & 2\\end{matrix}\\right]\\right)$"
      ],
      "text/plain": [
       "⎛                                                            ⎡2  2  1  1⎤⎞\n",
       "⎜   ⎡⎡-1⎤⎤  ⎡⎛      ⎡⎡-1⎤⎤⎞  ⎛      ⎡⎡0 ⎤⎤⎞  ⎛      ⎡⎡2⎤⎤⎞⎤  ⎢          ⎥⎟\n",
       "⎜   ⎢⎢  ⎥⎥  ⎢⎜      ⎢⎢  ⎥⎥⎟  ⎜      ⎢⎢  ⎥⎥⎟  ⎜      ⎢⎢ ⎥⎥⎟⎥  ⎢2  2  1  1⎥⎟\n",
       "⎜2, ⎢⎢1 ⎥⎥, ⎢⎜0, 1, ⎢⎢1 ⎥⎥⎟, ⎜2, 1, ⎢⎢-1⎥⎥⎟, ⎜6, 1, ⎢⎢1⎥⎥⎟⎥, ⎢          ⎥⎟\n",
       "⎜   ⎢⎢  ⎥⎥  ⎢⎜      ⎢⎢  ⎥⎥⎟  ⎜      ⎢⎢  ⎥⎥⎟  ⎜      ⎢⎢ ⎥⎥⎟⎥  ⎢1  1  2  2⎥⎟\n",
       "⎜   ⎣⎣1 ⎦⎦  ⎣⎝      ⎣⎣1 ⎦⎦⎠  ⎝      ⎣⎣1 ⎦⎦⎠  ⎝      ⎣⎣1⎦⎦⎠⎦  ⎢          ⎥⎟\n",
       "⎝                                                            ⎣1  1  2  2⎦⎠"
      ]
     },
     "execution_count": 27,
     "metadata": {},
     "output_type": "execute_result"
    }
   ],
   "source": [
    "print('More thoughts...') # A.T*A is our correlation matrix\n",
    "A.rank(), A.nullspace(), (A.T*A).eigenvects(), A*A.T"
   ]
  },
  {
   "cell_type": "markdown",
   "metadata": {},
   "source": [
    "### Appendix 1. Practice Problems"
   ]
  },
  {
   "cell_type": "code",
   "execution_count": 28,
   "metadata": {},
   "outputs": [
    {
     "data": {
      "text/latex": [
       "$\\displaystyle \\left( \\left[\\begin{matrix}1 & 2 & 3\\\\4 & 5 & 6\\\\7 & 8 & 9\\end{matrix}\\right], \\  \\left[\\begin{matrix}1 & 0 & 0\\\\0 & 0 & 0\\\\0 & 0 & 0\\end{matrix}\\right], \\  \\left[\\begin{matrix}1 & 0 & 0\\\\4 & 0 & 0\\\\7 & 0 & 0\\end{matrix}\\right]\\right)$"
      ],
      "text/plain": [
       "⎛⎡1  2  3⎤  ⎡1  0  0⎤  ⎡1  0  0⎤⎞\n",
       "⎜⎢       ⎥  ⎢       ⎥  ⎢       ⎥⎟\n",
       "⎜⎢4  5  6⎥, ⎢0  0  0⎥, ⎢4  0  0⎥⎟\n",
       "⎜⎢       ⎥  ⎢       ⎥  ⎢       ⎥⎟\n",
       "⎝⎣7  8  9⎦  ⎣0  0  0⎦  ⎣7  0  0⎦⎠"
      ]
     },
     "execution_count": 28,
     "metadata": {},
     "output_type": "execute_result"
    }
   ],
   "source": [
    "A = Matrix([[1,2,3],[4,5,6],[7,8,9]])\n",
    "In = sym.eye(3)\n",
    "In[2,2]=0\n",
    "In[1,1]=0\n",
    "\n",
    "A,In,A*In"
   ]
  },
  {
   "cell_type": "markdown",
   "metadata": {},
   "source": [
    "#### Lay Ex6.6.2\n",
    "Suppose we wish to approximate the data by an equation of the form $y_1=\\beta_0+\\beta_1 x_1+\\beta_2 x^{2}$.\n",
    "\n",
    "Describe the linear model that produces a \"least-squares fit\" of the data by the above equation."
   ]
  },
  {
   "cell_type": "markdown",
   "metadata": {},
   "source": [
    "The coordinate of data points $(x_k, y_k)$ must statisfy the equations of the form $y_k=\\beta_0+\\beta_1 x_k+\\beta_2 x^{2}_k+\\epsilon_k$."
   ]
  },
  {
   "cell_type": "code",
   "execution_count": 29,
   "metadata": {},
   "outputs": [
    {
     "data": {
      "text/latex": [
       "$y=X\\beta+\\epsilon$"
      ],
      "text/plain": [
       "<IPython.core.display.Latex object>"
      ]
     },
     "metadata": {},
     "output_type": "display_data"
    },
    {
     "data": {
      "text/latex": [
       "Where $y$ is 'observation vector', $X$ is the 'design matrix', $\\beta$ is the 'parameter vector' and $\\epsilon$ is the 'residual vector'."
      ],
      "text/plain": [
       "<IPython.core.display.Latex object>"
      ]
     },
     "metadata": {},
     "output_type": "display_data"
    },
    {
     "data": {
      "text/latex": [
       "$\\left[\\begin{matrix}y_{1}\\\\y_{2}\\\\y_{n}\\end{matrix}\\right]=\\left[\\begin{matrix}1 & x_{1} & x_{1}^{2} & x_{1}^{3}\\\\1 & x_{2} & x_{2}^{2} & x_{2}^{3}\\\\1 & x_{n} & x_{n}^{2} & x_{n}^{3}\\end{matrix}\\right]\\left[\\begin{matrix}\\beta_{0}\\\\\\beta_{1}\\\\\\beta_{2}\\\\\\beta_{3}\\end{matrix}\\right]+\\left[\\begin{matrix}\\epsilon_{1}\\\\\\epsilon_{2}\\\\\\epsilon_{n}\\end{matrix}\\right]$"
      ],
      "text/plain": [
       "<IPython.core.display.Latex object>"
      ]
     },
     "metadata": {},
     "output_type": "display_data"
    }
   ],
   "source": [
    "y = Matrix(sym.symbols('y1 y2 y_n'))\n",
    "beta = Matrix(sym.symbols('beta:4'))\n",
    "epsilon = Matrix(sym.symbols('epsilon1 epsilon2 epsilon_n'))\n",
    "x0 = sym.ones(1,3)\n",
    "x1 = sym.symbols('x1, x2, x_n')\n",
    "x2 = [e**2 for e in x1]\n",
    "x3 = [e**3 for e in x1]\n",
    "X = Matrix([x0,x1,x2,x3]).T\n",
    "y, X, beta, epsilon\n",
    "display(Latex('$y=X\\\\beta+\\\\epsilon$'))  # note use of '\\\\beta' to escape '\\' charactor\n",
    "display(Latex(\"Where $y$ is 'observation vector', $X$ is the 'design matrix', \\\n",
    "$\\\\beta$ is the 'parameter vector' and $\\\\epsilon$ is the 'residual vector'.\"))\n",
    "display(Latex(f'${sym.latex(y)}={sym.latex(X)}{sym.latex(beta)}+{sym.latex(epsilon)}$'))"
   ]
  }
 ],
 "metadata": {
  "kernelspec": {
   "display_name": "Python 3",
   "language": "python",
   "name": "python3"
  },
  "language_info": {
   "codemirror_mode": {
    "name": "ipython",
    "version": 3
   },
   "file_extension": ".py",
   "mimetype": "text/x-python",
   "name": "python",
   "nbconvert_exporter": "python",
   "pygments_lexer": "ipython3",
   "version": "3.8.10"
  }
 },
 "nbformat": 4,
 "nbformat_minor": 4
}
