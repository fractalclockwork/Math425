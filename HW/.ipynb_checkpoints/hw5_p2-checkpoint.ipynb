{
 "cells": [
  {
   "cell_type": "markdown",
   "metadata": {},
   "source": [
    "# Math 425 Computation Linear Algebra\n",
    "## HW5\n",
    "\n",
    "### Brent A. Thorne\n",
    "\n",
    "brentathorne@gmail.com\n",
    "\n",
    "##### Basis, Othogonality, Projection, Least-squares, Factorization, and SVG."
   ]
  },
  {
   "cell_type": "code",
   "execution_count": 1,
   "metadata": {},
   "outputs": [],
   "source": [
    "# environment setup, try to make it clear which library I'm using for what\n",
    "import numpy as np  # nice arrays and other stuff\n",
    "import scipy as sci # like numpy but nicer\n",
    "import sympy as sym # symbollic maths \n",
    "from sympy.matrices import Matrix # pretty matrices\n",
    "from sympy import Eq # pretty equations\n",
    "from sympy.physics.quantum.dagger import Dagger # we'll want this later...\n",
    "from math import e, pi, sqrt # Mathy math math\n",
    "from mpl_toolkits.mplot3d import Axes3D # we like 3d quivers for tutorials\n",
    "import matplotlib.pyplot as plt # old standby for plotting like a villian\n",
    "from IPython.display import display, Math, Latex # used to display formatted results in the console\n",
    "sym.init_printing()  # initialize pretty printing"
   ]
  },
  {
   "cell_type": "markdown",
   "metadata": {},
   "source": [
    "### 2. Find an orthonormal basis for the column space of the matix $A= \\begin{bmatrix} 3&&-3&&0\\\\ -4&&14&&10\\\\ 5&&-7&&-2 \\end{bmatrix}$."
   ]
  },
  {
   "cell_type": "code",
   "execution_count": 5,
   "metadata": {},
   "outputs": [
    {
     "name": "stdout",
     "output_type": "stream",
     "text": [
      "Show columns are NOT independent:\n"
     ]
    },
    {
     "data": {
      "text/latex": [
       "$\\displaystyle \\left( \\left[\\begin{matrix}3 & -3 & 0\\\\-4 & 14 & 10\\\\5 & -7 & -2\\end{matrix}\\right], \\  \\left( \\left[\\begin{matrix}1 & 0 & 1\\\\0 & 1 & 1\\\\0 & 0 & 0\\end{matrix}\\right], \\  \\left( 0, \\  1\\right)\\right)\\right)$"
      ],
      "text/plain": [
       "⎛⎡3   -3  0 ⎤  ⎛⎡1  0  1⎤        ⎞⎞\n",
       "⎜⎢          ⎥  ⎜⎢       ⎥        ⎟⎟\n",
       "⎜⎢-4  14  10⎥, ⎜⎢0  1  1⎥, (0, 1)⎟⎟\n",
       "⎜⎢          ⎥  ⎜⎢       ⎥        ⎟⎟\n",
       "⎝⎣5   -7  -2⎦  ⎝⎣0  0  0⎦        ⎠⎠"
      ]
     },
     "execution_count": 5,
     "metadata": {},
     "output_type": "execute_result"
    }
   ],
   "source": [
    "print('Show columns are NOT independent:')\n",
    "A = Matrix([[3,-3,0],[-4,14,10],[5,-7,-2]])\n",
    "A, A.rref()"
   ]
  },
  {
   "cell_type": "code",
   "execution_count": 6,
   "metadata": {},
   "outputs": [
    {
     "name": "stdout",
     "output_type": "stream",
     "text": [
      "Show our semi-manual orthoginal result:\n"
     ]
    },
    {
     "data": {
      "text/latex": [
       "$\\displaystyle \\left( \\left[\\begin{matrix}3\\\\-4\\\\5\\end{matrix}\\right], \\  \\left[\\begin{matrix}3\\\\6\\\\3\\end{matrix}\\right]\\right)$"
      ],
      "text/plain": [
       "⎛⎡3 ⎤  ⎡3⎤⎞\n",
       "⎜⎢  ⎥  ⎢ ⎥⎟\n",
       "⎜⎢-4⎥, ⎢6⎥⎟\n",
       "⎜⎢  ⎥  ⎢ ⎥⎟\n",
       "⎝⎣5 ⎦  ⎣3⎦⎠"
      ]
     },
     "execution_count": 6,
     "metadata": {},
     "output_type": "execute_result"
    }
   ],
   "source": [
    "# do it semi-manually\n",
    "v1 = A.col(0)\n",
    "v2 = A.col(1) - v1*A.col(1).dot(v1)/v1.dot(v1)\n",
    "print('Show our semi-manual orthoginal result:')\n",
    "v1,v2"
   ]
  },
  {
   "cell_type": "code",
   "execution_count": 7,
   "metadata": {},
   "outputs": [
    {
     "name": "stdout",
     "output_type": "stream",
     "text": [
      "Show the orthonormal result:\n"
     ]
    },
    {
     "data": {
      "text/latex": [
       "$\\displaystyle \\left( \\left[\\begin{matrix}\\frac{3 \\sqrt{2}}{10}\\\\- \\frac{2 \\sqrt{2}}{5}\\\\\\frac{\\sqrt{2}}{2}\\end{matrix}\\right], \\  \\left[\\begin{matrix}\\frac{\\sqrt{6}}{6}\\\\\\frac{\\sqrt{6}}{3}\\\\\\frac{\\sqrt{6}}{6}\\end{matrix}\\right]\\right)$"
      ],
      "text/plain": [
       "⎛⎡ 3⋅√2 ⎤  ⎡√6⎤⎞\n",
       "⎜⎢ ──── ⎥  ⎢──⎥⎟\n",
       "⎜⎢  10  ⎥  ⎢6 ⎥⎟\n",
       "⎜⎢      ⎥  ⎢  ⎥⎟\n",
       "⎜⎢-2⋅√2 ⎥  ⎢√6⎥⎟\n",
       "⎜⎢──────⎥, ⎢──⎥⎟\n",
       "⎜⎢  5   ⎥  ⎢3 ⎥⎟\n",
       "⎜⎢      ⎥  ⎢  ⎥⎟\n",
       "⎜⎢  √2  ⎥  ⎢√6⎥⎟\n",
       "⎜⎢  ──  ⎥  ⎢──⎥⎟\n",
       "⎝⎣  2   ⎦  ⎣6 ⎦⎠"
      ]
     },
     "execution_count": 7,
     "metadata": {},
     "output_type": "execute_result"
    }
   ],
   "source": [
    "print('Show the orthonormal result:')\n",
    "v1/sym.sqrt(v1.dot(v1)), v2/sym.sqrt(v2.dot(v2))"
   ]
  }
 ],
 "metadata": {
  "kernelspec": {
   "display_name": "Python 3 (ipykernel)",
   "language": "python",
   "name": "python3"
  },
  "language_info": {
   "codemirror_mode": {
    "name": "ipython",
    "version": 3
   },
   "file_extension": ".py",
   "mimetype": "text/x-python",
   "name": "python",
   "nbconvert_exporter": "python",
   "pygments_lexer": "ipython3",
   "version": "3.10.4"
  }
 },
 "nbformat": 4,
 "nbformat_minor": 4
}
