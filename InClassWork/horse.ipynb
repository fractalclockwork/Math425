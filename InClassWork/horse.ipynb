{
 "cells": [
  {
   "cell_type": "code",
   "execution_count": 4,
   "metadata": {},
   "outputs": [],
   "source": [
    "# environment setup, try to make it clear which library I'm using for what\n",
    "import numpy as np  # nice arrays and other stuff\n",
    "import sympy as sym # symbollic maths \n",
    "from sympy.matrices import Matrix # pretty matrices\n",
    "from sympy import Eq # pretty equations\n",
    "from sympy.solvers.solveset import linsolve\n",
    "from sympy.physics.quantum.dagger import Dagger # we'll want this later...\n",
    "from math import e, pi, sqrt # Mathy math math\n",
    "from mpl_toolkits.mplot3d import Axes3D # we like 3d quivers for tutorials\n",
    "import matplotlib.pyplot as plt # old standby for plotting like a villian\n",
    "from IPython.display import display, Math, Latex # used to display formatted results in the console\n",
    "sym.init_printing()  # initialize pretty printing\n"
   ]
  },
  {
   "cell_type": "code",
   "execution_count": 5,
   "metadata": {},
   "outputs": [
    {
     "name": "stdout",
     "output_type": "stream",
     "text": [
      "[[ 0.6883  0.6865  0.6847 ... -0.5879 -0.5897 -0.3719]\n",
      " [ 0.867   0.867   0.867  ... -0.859  -0.859  -0.867 ]]\n"
     ]
    },
    {
     "data": {
      "text/plain": [
       "'\\nhorse = Transformations(data)   \\nhorse.stretch(1.2, 1.2)   \\nhorse.rotate(np.pi/2)\\nplt.subplot(121),horse.display()\\n\\nhorse = Transformations(data)   \\nhorse.compose_stretch_rotate(1.2,1.2,np.pi/2)\\nplt.subplot(122),horse.display()\\n'"
      ]
     },
     "execution_count": 5,
     "metadata": {},
     "output_type": "execute_result"
    },
    {
     "data": {
      "image/png": "[encoded data removed]",
      "text/plain": [
       "<Figure size 432x288 with 1 Axes>"
      ]
     },
     "metadata": {
      "needs_background": "light"
     },
     "output_type": "display_data"
    }
   ],
   "source": [
    "# Load the array from the .npy file\n",
    "data = np.load(\"horse.npy\")\n",
    "print(data)\n",
    "# Plot the x row against the y row with black pixels\n",
    "#plt.plot(data[0], data[1], 'k,')\n",
    "\n",
    "# Set the window limits to [-1,1] by [-1,1] and make the window square\n",
    "#plt.axis([-1,1,-1,1])\n",
    "#plt.gca().set_aspect(\"equal\")\n",
    "#plt.show\n",
    "\n",
    "class Transformations:\n",
    "    def __init__(self,data):\n",
    "        self.x = data[0]\n",
    "        self.y = data[1]\n",
    "        self.T = eye(2)\n",
    "        self.mean = (0,0) #FIXME, to set a mean/max/min for die achse\n",
    "        \n",
    "    def display(self):\n",
    "        plt.plot(self.x, self.y, 'k,')\n",
    "        plt.axis([-1,1,-1,1])\n",
    "        plt.gca().set_aspect(\"equal\")\n",
    "        plt.axhline(0, color='black', linestyle='--')\n",
    "        plt.axvline(0, color='black', linestyle='--')\n",
    "        plt.show\n",
    "        \n",
    "    def stretch(self,a,b):\n",
    "        self.x = a*self.x\n",
    "        self.y = b*self.y\n",
    "        \n",
    "    def shear(self,a,b):\n",
    "        tempx = self.x\n",
    "        self.x += a*self.y\n",
    "        self.y += b*tempx \n",
    "        \n",
    "    def reflect(self,a,b):\n",
    "        tempx  = self.x\n",
    "        a2     = a*a\n",
    "        b2     = b*b  \n",
    "        ra2pb2 = 1.0/(a2+b2)        \n",
    "        ra2b2  = (a2-b2)*ra2pb2\n",
    "        rtab   = -2.0*a*b*ra2pb2\n",
    "        self.x = -ra2b2*self.x + rtab*self.y\n",
    "        self.y = rtab*tempx + ra2b2*self.y\n",
    "        \n",
    "    def rotate(self,theta):\n",
    "        cth    = np.cos(theta)\n",
    "        sth    = np.sin(theta)\n",
    "        tempx  = self.x\n",
    "        self.x = cth*self.x - sth*self.y\n",
    "        self.y = sth*tempx  + cth*self.y\n",
    "        \n",
    "    def translate(self,a,b):\n",
    "        self.x += a\n",
    "        self.y += b\n",
    "        \n",
    "    def compose_stretch_rotate(self,a,b,theta):\n",
    "        cth    = np.cos(theta)\n",
    "        sth    = np.sin(theta)\n",
    "        tempx  = self.x\n",
    "        self.x = a*cth*self.x - b*sth*self.y\n",
    "        self.y = a*sth*tempx  + b*cth*self.y\n",
    "\n",
    "horse = Transformations(data)   \n",
    "#horse.stretch(0.5, 1.2)   \n",
    "#horse.shear(0.5,0)  \n",
    "#horse.reflect(0,1)\n",
    "#horse.rotate(np.pi/2)\n",
    "#horse.translate(0.75, 0.5)\n",
    "horse.display()\n",
    "\n",
    "\n",
    "\n",
    "\"\"\"\n",
    "horse = Transformations(data)   \n",
    "horse.stretch(1.2, 1.2)   \n",
    "horse.rotate(np.pi/2)\n",
    "plt.subplot(121),horse.display()\n",
    "\n",
    "horse = Transformations(data)   \n",
    "horse.compose_stretch_rotate(1.2,1.2,np.pi/2)\n",
    "plt.subplot(122),horse.display()\n",
    "\"\"\"\n"
   ]
  },
  {
   "cell_type": "code",
   "execution_count": 32,
   "metadata": {},
   "outputs": [
    {
     "data": {
      "application/vnd.jupyter.widget-view+json": {
       "model_id": "d98638406aed4520ae959eadb0b1cd76",
       "version_major": 2,
       "version_minor": 0
      },
      "text/plain": [
       "interactive(children=(FloatSlider(value=0.0, description='x', max=3.141592653589793, min=-3.141592653589793, s…"
      ]
     },
     "metadata": {},
     "output_type": "display_data"
    },
    {
     "data": {
      "text/plain": [
       "<function __main__.f(x)>"
      ]
     },
     "execution_count": 32,
     "metadata": {},
     "output_type": "execute_result"
    }
   ],
   "source": [
    "from __future__ import print_function\n",
    "from ipywidgets import interact, interactive, fixed, interact_manual\n",
    "import ipywidgets as widgets\n",
    "\n",
    "def f(x):\n",
    "    horse.rotate(x)  # this actually dots transfrom, not what we want\n",
    "    horse.display()\n",
    "interact(f, x=(-np.pi,np.pi,np.pi/6))\n",
    "#interact(f,x=widgets.IntSlider(min=-(np.pi), max=np.pi, step=.1, value=0.0)) # slider "
   ]
  }
 ],
 "metadata": {
  "kernelspec": {
   "display_name": "Python 3",
   "language": "python",
   "name": "python3"
  },
  "language_info": {
   "codemirror_mode": {
    "name": "ipython",
    "version": 3
   },
   "file_extension": ".py",
   "mimetype": "text/x-python",
   "name": "python",
   "nbconvert_exporter": "python",
   "pygments_lexer": "ipython3",
   "version": "3.8.10"
  }
 },
 "nbformat": 4,
 "nbformat_minor": 4
}
