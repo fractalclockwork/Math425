{
 "cells": [
  {
   "cell_type": "markdown",
   "metadata": {},
   "source": [
    "# Math 425 Computation Linear Algebra\n",
    "## In Class Problems - April 07\n",
    "\n",
    "### Brent A. Thorne\n",
    "\n",
    "brentathorne@gmail.com\n",
    "\n",
    "##### Basis, Othogonality, Projection, Least-squares, Factorization, and SVG."
   ]
  },
  {
   "cell_type": "code",
   "execution_count": 1,
   "metadata": {},
   "outputs": [],
   "source": [
    "# environment setup, try to make it clear which library I'm using for what\n",
    "import numpy as np  # nice arrays and other stuff\n",
    "import scipy as sci # like numpy but nicer\n",
    "import sympy as sym # symbollic maths \n",
    "from sympy.matrices import Matrix # pretty matrices\n",
    "from sympy import Eq # pretty equations\n",
    "from sympy.physics.quantum.dagger import Dagger # we'll want this later...\n",
    "from math import e, pi, sqrt # Mathy math math\n",
    "from mpl_toolkits.mplot3d import Axes3D # we like 3d quivers for tutorials\n",
    "import matplotlib.pyplot as plt # old standby for plotting like a villian\n",
    "from IPython.display import display, Math, Latex # used to display formatted results in the console\n",
    "sym.init_printing()  # initialize pretty printing"
   ]
  },
  {
   "cell_type": "markdown",
   "metadata": {},
   "source": [
    "### 10. Find equation $y=\\beta_0+\\beta_1x$"
   ]
  },
  {
   "cell_type": "code",
   "execution_count": 2,
   "metadata": {},
   "outputs": [
    {
     "data": {
      "text/plain": [
       "<matplotlib.lines.Line2D at 0x7f96e73d6fa0>"
      ]
     },
     "execution_count": 2,
     "metadata": {},
     "output_type": "execute_result"
    },
    {
     "data": {
      "image/png": "[encoded data removed]",
      "text/plain": [
       "<Figure size 432x288 with 1 Axes>"
      ]
     },
     "metadata": {
      "needs_background": "light"
     },
     "output_type": "display_data"
    }
   ],
   "source": [
    "M = Matrix([[0,1],[1,1],[2,2],[3,2]]).T\n",
    "M\n",
    "plt.scatter(M.row(0), M.row(1))\n",
    "plt.plot(list(M.row(0)), list(M.row(1)))\n",
    "plt.grid(); plt.gca().set_aspect(\"equal\") # square grids are pretty\n",
    "plt.axhline(0, color='black', linestyle='--')\n",
    "plt.axvline(0, color='black', linestyle='--')"
   ]
  },
  {
   "cell_type": "code",
   "execution_count": 3,
   "metadata": {},
   "outputs": [
    {
     "ename": "NameError",
     "evalue": "name 'beta' is not defined",
     "output_type": "error",
     "traceback": [
      "\u001b[0;31m---------------------------------------------------------------------------\u001b[0m",
      "\u001b[0;31mNameError\u001b[0m                                 Traceback (most recent call last)",
      "\u001b[0;32m<ipython-input-3-5f9645ac4340>\u001b[0m in \u001b[0;36m<module>\u001b[0;34m\u001b[0m\n\u001b[1;32m      6\u001b[0m \u001b[0mX\u001b[0m \u001b[0;34m=\u001b[0m \u001b[0mMatrix\u001b[0m\u001b[0;34m(\u001b[0m\u001b[0;34m[\u001b[0m\u001b[0mx1\u001b[0m\u001b[0;34m,\u001b[0m\u001b[0mx2\u001b[0m\u001b[0;34m]\u001b[0m\u001b[0;34m)\u001b[0m\u001b[0;34m.\u001b[0m\u001b[0mT\u001b[0m\u001b[0;34m\u001b[0m\u001b[0;34m\u001b[0m\u001b[0m\n\u001b[1;32m      7\u001b[0m \u001b[0;34m\u001b[0m\u001b[0m\n\u001b[0;32m----> 8\u001b[0;31m \u001b[0mX\u001b[0m\u001b[0;34m,\u001b[0m \u001b[0mbeta\u001b[0m\u001b[0;34m,\u001b[0m \u001b[0;34m(\u001b[0m\u001b[0mX\u001b[0m\u001b[0;34m.\u001b[0m\u001b[0mT\u001b[0m\u001b[0;34m*\u001b[0m\u001b[0mX\u001b[0m\u001b[0;34m)\u001b[0m\u001b[0;34m.\u001b[0m\u001b[0minv\u001b[0m\u001b[0;34m(\u001b[0m\u001b[0;34m)\u001b[0m \u001b[0;34m*\u001b[0m \u001b[0mX\u001b[0m\u001b[0;34m.\u001b[0m\u001b[0mT\u001b[0m\u001b[0;34m*\u001b[0m\u001b[0my\u001b[0m\u001b[0;34m\u001b[0m\u001b[0;34m\u001b[0m\u001b[0m\n\u001b[0m",
      "\u001b[0;31mNameError\u001b[0m: name 'beta' is not defined"
     ]
    }
   ],
   "source": [
    "x= M.row(0)\n",
    "y= M.row(1).T\n",
    "\n",
    "x1 = sym.ones(x.shape[1],1).T\n",
    "x2 = x\n",
    "X = Matrix([x1,x2]).T\n",
    "\n",
    "X, beta, (X.T*X).inv() * X.T*y"
   ]
  },
  {
   "cell_type": "code",
   "execution_count": null,
   "metadata": {},
   "outputs": [],
   "source": [
    "(X.T*X).row_join(X.T*y).rref()"
   ]
  },
  {
   "cell_type": "code",
   "execution_count": null,
   "metadata": {},
   "outputs": [],
   "source": [
    "yy= X*x_hat\n",
    "\n",
    "M,yy,x2.T\n",
    "M = Matrix([x2,yy.T])\n",
    "M\n",
    "#M = Matrix(x1,yy)\n",
    "\n",
    " "
   ]
  },
  {
   "cell_type": "markdown",
   "metadata": {},
   "source": [
    "### 11."
   ]
  },
  {
   "cell_type": "code",
   "execution_count": null,
   "metadata": {},
   "outputs": [],
   "source": [
    "M = Matrix([[1,1.8],[2,2.7],[3,3.4],[4,3.8],[5,3.9]])\n",
    "x = M.col(0)\n",
    "y = M.col(1)\n",
    "x,y\n",
    "\n",
    "x0 = sym.ones(x.shape[0],1)\n",
    "x1 = x\n",
    "x2 = x.applyfunc(lambda x: x**2)\n",
    "\n",
    "X = Matrix([x0.T,x1.T,x2.T]).T\n",
    "x_hat = (X.T*X).inv() * X.T*y\n",
    "xx_hat = Matrix([0,1.76,-0.199])\n",
    "X, y, (x_hat).applyfunc(lambda x: round(x,2)), (X*x_hat).applyfunc(lambda x: round(x,1)), y\n",
    "# Think about how xx_hat was developed.\n",
    "X, x_hat, X *x_hat, y"
   ]
  },
  {
   "cell_type": "code",
   "execution_count": null,
   "metadata": {},
   "outputs": [],
   "source": [
    "A = np.array([1,1,1,1,2,4,1,3,9,1,4,16,1,5,25]) # water\n",
    "y = np.array([1.8,2.7,3.4,3.8,3.9])\n",
    "A.shape = (5,3) # this is the shape of water\n",
    "u,s,vh = np.linalg.svd(A, full_matrices=False) \n",
    "#u*s*vh"
   ]
  },
  {
   "cell_type": "code",
   "execution_count": null,
   "metadata": {},
   "outputs": [],
   "source": [
    "plt.scatter(x, y)\n",
    "plt.plot(x,y)\n",
    "plt.grid(); plt.gca().set_aspect(\"equal\") # square grids are pretty\n",
    "#plt.axhline(0, color='black', linestyle='--')\n",
    "#plt.axvline(0, color='black', linestyle='--')\n",
    "\n",
    "plt.scatter(x, y, color = 'green')\n",
    "plt.plot(x,y, color = 'green')\n",
    "len(list(x)), len(list(X*x_hat))\n",
    "\n",
    "plt.scatter(x, list(X*x_hat), color = 'blue', alpha=0.5)\n",
    "plt.plot(x, list(X*x_hat), color = 'blue', alpha=0.5,linestyle='--')\n",
    "plt.scatter(x, list(X*xx_hat), color = 'red')\n",
    "plt.plot(x, list(X*xx_hat), color = 'red')"
   ]
  },
  {
   "cell_type": "code",
   "execution_count": 5,
   "metadata": {},
   "outputs": [
    {
     "data": {
      "text/latex": [
       "$\\displaystyle \\left( \\left[\\begin{matrix}2 & 0\\\\0 & \\sqrt{2}\\end{matrix}\\right], \\  \\left[\\begin{matrix}1 & -1\\\\1 & 1\\end{matrix}\\right]\\right)$"
      ],
      "text/plain": [
       "⎛⎡2  0 ⎤  ⎡1  -1⎤⎞\n",
       "⎜⎢     ⎥, ⎢     ⎥⎟\n",
       "⎝⎣0  √2⎦  ⎣1  1 ⎦⎠"
      ]
     },
     "execution_count": 5,
     "metadata": {},
     "output_type": "execute_result"
    }
   ],
   "source": [
    "A = Matrix([[3,1],[1,3]])\n",
    "A.eigenvects()\n",
    "D = Matrix([[sym.sqrt(4),0],[0,sym.sqrt(2)]])\n",
    "V = Matrix([[1,1],[-1,1]]).T\n",
    "D,V\n",
    "\n",
    "#u1 = (1/D[0,0])*A.dot(V.col(0).T)\n",
    "\n",
    "#u1, D[0,0], D[1,1]"
   ]
  },
  {
   "cell_type": "code",
   "execution_count": 8,
   "metadata": {},
   "outputs": [
    {
     "data": {
      "text/latex": [
       "$\\displaystyle \\left[\\begin{matrix}36 & 28\\\\28 & 36\\end{matrix}\\right]$"
      ],
      "text/plain": [
       "⎡36  28⎤\n",
       "⎢      ⎥\n",
       "⎣28  36⎦"
      ]
     },
     "execution_count": 8,
     "metadata": {},
     "output_type": "execute_result"
    }
   ],
   "source": [
    "y= Matrix([2,8])\n",
    "A**3"
   ]
  },
  {
   "cell_type": "code",
   "execution_count": 10,
   "metadata": {},
   "outputs": [
    {
     "data": {
      "text/latex": [
       "$\\displaystyle \\left[ \\left( -2, \\  1, \\  \\left[ \\left[\\begin{matrix}-1\\\\- \\frac{1}{2}\\\\1\\end{matrix}\\right]\\right]\\right), \\  \\left( 7, \\  2, \\  \\left[ \\left[\\begin{matrix}- \\frac{1}{2}\\\\1\\\\0\\end{matrix}\\right], \\  \\left[\\begin{matrix}1\\\\0\\\\1\\end{matrix}\\right]\\right]\\right)\\right]$"
      ],
      "text/plain": [
       "⎡⎛       ⎡⎡ -1 ⎤⎤⎞  ⎛      ⎡⎡-1/2⎤  ⎡1⎤⎤⎞⎤\n",
       "⎢⎜       ⎢⎢    ⎥⎥⎟  ⎜      ⎢⎢    ⎥  ⎢ ⎥⎥⎟⎥\n",
       "⎢⎜-2, 1, ⎢⎢-1/2⎥⎥⎟, ⎜7, 2, ⎢⎢ 1  ⎥, ⎢0⎥⎥⎟⎥\n",
       "⎢⎜       ⎢⎢    ⎥⎥⎟  ⎜      ⎢⎢    ⎥  ⎢ ⎥⎥⎟⎥\n",
       "⎣⎝       ⎣⎣ 1  ⎦⎦⎠  ⎝      ⎣⎣ 0  ⎦  ⎣1⎦⎦⎠⎦"
      ]
     },
     "execution_count": 10,
     "metadata": {},
     "output_type": "execute_result"
    }
   ],
   "source": [
    "A = Matrix([[3,-2,4],[-2,6,2],[4,2,3]])\n",
    "A.eigenvects()"
   ]
  }
 ],
 "metadata": {
  "kernelspec": {
   "display_name": "Python 3",
   "language": "python",
   "name": "python3"
  },
  "language_info": {
   "codemirror_mode": {
    "name": "ipython",
    "version": 3
   },
   "file_extension": ".py",
   "mimetype": "text/x-python",
   "name": "python",
   "nbconvert_exporter": "python",
   "pygments_lexer": "ipython3",
   "version": "3.8.10"
  }
 },
 "nbformat": 4,
 "nbformat_minor": 4
}
