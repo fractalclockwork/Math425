{
 "cells": [
  {
   "cell_type": "markdown",
   "metadata": {},
   "source": [
    "## Math 425 Computation Linear Algebra\n",
    "#### Quiz, Week of April 3rd\n",
    "\n",
    "Brent A. Thorne brentathorne@gmail.com"
   ]
  },
  {
   "cell_type": "code",
   "execution_count": 1,
   "metadata": {},
   "outputs": [],
   "source": [
    "# environment setup, try to make it clear which library I'm using for what\n",
    "import numpy as np  # nice arrays and other stuff\n",
    "import sympy as sym # symbollic maths \n",
    "from sympy.matrices import Matrix # pretty matrices\n",
    "from sympy import Eq # pretty equations\n",
    "from sympy.physics.quantum.dagger import Dagger # we'll want this later...\n",
    "from math import e, pi, sqrt # Mathy math math\n",
    "from mpl_toolkits.mplot3d import Axes3D # we like 3d quivers for tutorials\n",
    "import matplotlib.pyplot as plt # old standby for plotting like a villian\n",
    "from IPython.display import display, Math, Latex # used to display formatted results in the console\n",
    "sym.init_printing()  # initialize pretty printing"
   ]
  },
  {
   "cell_type": "code",
   "execution_count": 2,
   "metadata": {},
   "outputs": [
    {
     "data": {
      "text/latex": [
       "$\\displaystyle \\left( \\left[\\begin{matrix}u_{1}\\\\u_{2}\\\\u_{3}\\end{matrix}\\right], \\  \\left[\\begin{matrix}3 & 4 & 0\\end{matrix}\\right], \\  \\left[\\begin{matrix}0.6 & 0.8 & 0\\end{matrix}\\right]\\right)$"
      ],
      "text/plain": [
       "⎛⎡u₁⎤                          ⎞\n",
       "⎜⎢  ⎥                          ⎟\n",
       "⎜⎢u₂⎥, [3  4  0], [0.6  0.8  0]⎟\n",
       "⎜⎢  ⎥                          ⎟\n",
       "⎝⎣u₃⎦                          ⎠"
      ]
     },
     "execution_count": 2,
     "metadata": {},
     "output_type": "execute_result"
    }
   ],
   "source": [
    "#P1\n",
    "u = Matrix([sym.symbols('u1 u2 u3')]).T\n",
    "v = Matrix([3,4,0]).T\n",
    "u,v, (v/sym.sqrt(v.dot(v))).n()"
   ]
  },
  {
   "cell_type": "code",
   "execution_count": 3,
   "metadata": {
    "scrolled": true
   },
   "outputs": [
    {
     "data": {
      "text/latex": [
       "$\\displaystyle \\left( \\left[\\begin{matrix}12\\\\3\\\\-5\\end{matrix}\\right], \\  \\left[\\begin{matrix}2\\\\-3\\\\3\\end{matrix}\\right], \\  0\\right)$"
      ],
      "text/plain": [
       "⎛⎡12⎤  ⎡2 ⎤   ⎞\n",
       "⎜⎢  ⎥  ⎢  ⎥   ⎟\n",
       "⎜⎢3 ⎥, ⎢-3⎥, 0⎟\n",
       "⎜⎢  ⎥  ⎢  ⎥   ⎟\n",
       "⎝⎣-5⎦  ⎣3 ⎦   ⎠"
      ]
     },
     "execution_count": 3,
     "metadata": {},
     "output_type": "execute_result"
    }
   ],
   "source": [
    "#P2\n",
    "a1 = Matrix([3,2,-5,0])\n",
    "a2 = Matrix([-4,1,-2,6])\n",
    "a1, a2, a1.dot(a2)\n",
    "\n",
    "b1 = Matrix([8,-5])\n",
    "b2 = Matrix([-2,-2])\n",
    "b1, b2, b1.dot(b2)\n",
    "\n",
    "c1 = Matrix([-3,7,4,0])\n",
    "c2 = Matrix([1,-8,15,-7])\n",
    "c1, c2, c1.dot(c2)\n",
    "\n",
    "d1 = Matrix([12,3,-5])\n",
    "d2 = Matrix([2,-3,3])\n",
    "d1, d2, d1.dot(d2)"
   ]
  },
  {
   "cell_type": "code",
   "execution_count": 4,
   "metadata": {},
   "outputs": [
    {
     "data": {
      "text/latex": [
       "Write $y$ as the sum of two orthogonal vectors, such that $y=\\hat{y}+z$."
      ],
      "text/plain": [
       "<IPython.core.display.Latex object>"
      ]
     },
     "metadata": {},
     "output_type": "display_data"
    },
    {
     "data": {
      "text/latex": [
       "$\\displaystyle \\left( \\left[\\begin{matrix}-0.8\\\\1.4\\end{matrix}\\right], \\  \\left[\\begin{matrix}2.8\\\\1.6\\end{matrix}\\right]\\right)$"
      ],
      "text/plain": [
       "⎛⎡-0.8⎤  ⎡2.8⎤⎞\n",
       "⎜⎢    ⎥, ⎢   ⎥⎟\n",
       "⎝⎣1.4 ⎦  ⎣1.6⎦⎠"
      ]
     },
     "execution_count": 4,
     "metadata": {},
     "output_type": "execute_result"
    }
   ],
   "source": [
    "#P3\n",
    "y = Matrix([2,3])\n",
    "u = Matrix([4,-7])\n",
    "display(Latex('Write $y$ as the sum of two orthogonal vectors, such that $y=\\hat{y}+z$.'))\n",
    "\n",
    "y_hat = (y.dot(u)/(u.dot(u)))*u\n",
    "z = y - y_hat\n",
    "\n",
    "#y, y_hat, z, y_hat+z, y_hat.dot(z)\n",
    "y_hat.n(), z.n()"
   ]
  },
  {
   "cell_type": "code",
   "execution_count": 5,
   "metadata": {},
   "outputs": [
    {
     "data": {
      "text/latex": [
       "Find the orthogonal projection of y onto Span {u1, u2}."
      ],
      "text/plain": [
       "<IPython.core.display.Latex object>"
      ]
     },
     "metadata": {},
     "output_type": "display_data"
    },
    {
     "data": {
      "text/latex": [
       "$y=\\left[\\begin{matrix}6\\\\3\\\\-2\\end{matrix}\\right]=\\left[\\begin{matrix}6\\\\3\\\\0\\end{matrix}\\right]+\\left[\\begin{matrix}0\\\\0\\\\-2\\end{matrix}\\right]$"
      ],
      "text/plain": [
       "<IPython.core.display.Latex object>"
      ]
     },
     "metadata": {},
     "output_type": "display_data"
    },
    {
     "data": {
      "text/latex": [
       "$\\displaystyle \\left( \\left[\\begin{matrix}6\\\\3\\\\-2\\end{matrix}\\right], \\  \\left[\\begin{matrix}3\\\\4\\\\0\\end{matrix}\\right], \\  \\left[\\begin{matrix}-4\\\\3\\\\0\\end{matrix}\\right]\\right)$"
      ],
      "text/plain": [
       "⎛⎡6 ⎤  ⎡3⎤  ⎡-4⎤⎞\n",
       "⎜⎢  ⎥  ⎢ ⎥  ⎢  ⎥⎟\n",
       "⎜⎢3 ⎥, ⎢4⎥, ⎢3 ⎥⎟\n",
       "⎜⎢  ⎥  ⎢ ⎥  ⎢  ⎥⎟\n",
       "⎝⎣-2⎦  ⎣0⎦  ⎣0 ⎦⎠"
      ]
     },
     "execution_count": 5,
     "metadata": {},
     "output_type": "execute_result"
    }
   ],
   "source": [
    "#P4\n",
    "y = Matrix([6,3,-2])\n",
    "u1 = Matrix([3,4,0])\n",
    "u2 = Matrix([-4,3,0])\n",
    "display(Latex('Find the orthogonal projection of y onto Span {u1, u2}.'))\n",
    "\n",
    "W = u1.row_join(u2)\n",
    "W.rref() # yes, Span{u1,u2} is an orthogonal basis for W\n",
    "\n",
    "y_hat = (y.dot(u1)/u1.dot(u1))*u1 + (y.dot(u2)/u2.dot(u2))*u2\n",
    "z = y-y_hat\n",
    "display(Latex(f'$y={sym.latex(y)}={sym.latex(y_hat)}+{sym.latex(y-y_hat)}$'))\n",
    "#W,y, W.norm()\n",
    "#W.columnspace()\n",
    "y_hat, z, y_hat+z, y, y_hat.dot(z)\n",
    "y,u1,u2"
   ]
  },
  {
   "cell_type": "code",
   "execution_count": 6,
   "metadata": {},
   "outputs": [
    {
     "data": {
      "text/latex": [
       "$\\displaystyle \\left( \\left[\\begin{matrix}-2\\\\1\\end{matrix}\\right], \\  \\left[\\begin{matrix}1\\\\7\\end{matrix}\\right], \\  0\\right)$"
      ],
      "text/plain": [
       "⎛⎡-2⎤  ⎡1⎤   ⎞\n",
       "⎜⎢  ⎥, ⎢ ⎥, 0⎟\n",
       "⎝⎣1 ⎦  ⎣7⎦   ⎠"
      ]
     },
     "execution_count": 6,
     "metadata": {},
     "output_type": "execute_result"
    }
   ],
   "source": [
    "#P5\n",
    "y = Matrix([1,7])\n",
    "u = Matrix([-4,2])\n",
    "y,u  \n",
    "y_hat = (y.dot(u)/u.dot(u)) * u\n",
    "z = y - y_hat\n",
    "y_hat, y, y_hat.dot(z)"
   ]
  },
  {
   "cell_type": "code",
   "execution_count": 7,
   "metadata": {},
   "outputs": [
    {
     "data": {
      "text/latex": [
       "$y=\\left[\\begin{matrix}3\\\\-1\\\\1\\\\13\\end{matrix}\\right]=\\left[\\begin{matrix}-1\\\\-5\\\\-3\\\\9\\end{matrix}\\right]+\\left[\\begin{matrix}4\\\\4\\\\4\\\\4\\end{matrix}\\right]$"
      ],
      "text/plain": [
       "<IPython.core.display.Latex object>"
      ]
     },
     "metadata": {},
     "output_type": "display_data"
    },
    {
     "data": {
      "text/latex": [
       "$\\displaystyle \\left( \\left[\\begin{matrix}4\\\\4\\\\4\\\\4\\end{matrix}\\right], \\  8, \\  8\\right)$"
      ],
      "text/plain": [
       "⎛⎡4⎤      ⎞\n",
       "⎜⎢ ⎥      ⎟\n",
       "⎜⎢4⎥      ⎟\n",
       "⎜⎢ ⎥, 8, 8⎟\n",
       "⎜⎢4⎥      ⎟\n",
       "⎜⎢ ⎥      ⎟\n",
       "⎝⎣4⎦      ⎠"
      ]
     },
     "execution_count": 7,
     "metadata": {},
     "output_type": "execute_result"
    }
   ],
   "source": [
    "#P6\n",
    "y = Matrix([3,-1,1,13])\n",
    "u1 = Matrix([1,-2,-1,2])\n",
    "u2 = Matrix([-4,1,0,3])\n",
    "\n",
    "W = u1.row_join(u2)\n",
    "W.rref() # yes, Span{u1,u2} is an orthogonal basis for W\n",
    "\n",
    "y_hat = (y.dot(u1)/u1.dot(u1))*u1 + (y.dot(u2)/u2.dot(u2))*u2\n",
    "z = y-y_hat\n",
    "display(Latex(f'$y={sym.latex(y)}={sym.latex(y_hat)}+{sym.latex(y-y_hat)}$'))\n",
    "#W,y, W.norm()\n",
    "#W.columnspace()\n",
    "y_hat, z, y_hat+z, y, y_hat.dot(z)\n",
    "\n",
    "z, z.norm(), sym.sqrt(z.dot(z))"
   ]
  },
  {
   "cell_type": "markdown",
   "metadata": {},
   "source": [
    "### Appendix. Least-squares\n",
    "Let $A$ be an $m$x$n$ matrix.  The following statements are logically equivalent:\n",
    "\n",
    "a. The equation $Ax=b$ has a unique least-squares solution for each $b$ in $\\mathbb{R^m}$.\n",
    "\n",
    "b. The columns of $A$ are linearly independent.\n",
    "\n",
    "c. The matrix $A^TA$ is invertible.\n",
    "When these statement are ture, the least-squares solution $\\hat{x}$ is given by\n",
    "\n",
    "#### $\\hat{x}=(A^TA)^{-1}A^Tb$"
   ]
  },
  {
   "cell_type": "code",
   "execution_count": 8,
   "metadata": {},
   "outputs": [
    {
     "data": {
      "text/latex": [
       "b_hat=$\\left[\\begin{matrix}21\\\\34\\end{matrix}\\right]$"
      ],
      "text/plain": [
       "<IPython.core.display.Latex object>"
      ]
     },
     "metadata": {},
     "output_type": "display_data"
    },
    {
     "data": {
      "text/latex": [
       "Solve $A\\hat{x}=b$, $\\left[\\begin{matrix}4\\\\-1\\end{matrix}\\right]$"
      ],
      "text/plain": [
       "<IPython.core.display.Latex object>"
      ]
     },
     "metadata": {},
     "output_type": "display_data"
    },
    {
     "data": {
      "text/latex": [
       "$\\displaystyle \\hat{x}$"
      ],
      "text/plain": [
       "<IPython.core.display.Math object>"
      ]
     },
     "metadata": {},
     "output_type": "display_data"
    },
    {
     "data": {
      "text/latex": [
       "$\\hat{x}$moo"
      ],
      "text/plain": [
       "<IPython.core.display.Latex object>"
      ]
     },
     "metadata": {},
     "output_type": "display_data"
    }
   ],
   "source": [
    "A = Matrix([[2,3],[2,4],[1,1]])\n",
    "b = Matrix([7,3,1])\n",
    "Au = A.row_join(b)\n",
    "Au, Au.rref()\n",
    "\n",
    "display(Latex(f'b_hat=${sym.latex(A.T*b)}$'))\n",
    "\n",
    "display(Latex('Solve $A\\hat{x}=b$' + f', ${sym.latex((A.T*A).inv()*A.T*b)}$'))\n",
    "\n",
    "display(Math('\\hat{x}'))\n",
    "display(Latex('$\\hat{x}$'+'moo'))"
   ]
  },
  {
   "cell_type": "code",
   "execution_count": 9,
   "metadata": {
    "scrolled": true
   },
   "outputs": [
    {
     "data": {
      "text/latex": [
       "$\\displaystyle \\left( \\left[\\begin{matrix}1 & 0 & 4\\\\0 & 1 & -1\\end{matrix}\\right], \\  \\left( 0, \\  1\\right)\\right)$"
      ],
      "text/plain": [
       "⎛⎡1  0  4 ⎤        ⎞\n",
       "⎜⎢        ⎥, (0, 1)⎟\n",
       "⎝⎣0  1  -1⎦        ⎠"
      ]
     },
     "execution_count": 9,
     "metadata": {},
     "output_type": "execute_result"
    }
   ],
   "source": [
    "A = Matrix([[2,3],[2,4],[1,1]])\n",
    "b = Matrix([7,3,1])\n",
    "x_hat= (A.T*A).inv()*A.T*b\n",
    "A*x_hat\n",
    "\n",
    "u1 = A.col(0)\n",
    "u2 = A.col(1)\n",
    "\n",
    "v1 = u1\n",
    "v2 = u2 - (u2.dot(v1)/v1.dot(v1))*v1\n",
    "\n",
    "v1 = v1/sym.sqrt(v1.dot(v1))\n",
    "v2 = v2/sym.sqrt(v2.dot(v2))\n",
    "v1,v2, v1.dot(v1),v2.dot(v2), v1.dot(v2)\n",
    "\n",
    "U = Matrix([v1.T,v2.T]).T\n",
    "b_hat = (b.dot(v1)/v1.dot(v1))*v1 + (b.dot(v2)/v2.dot(v2))*v2\n",
    "z = b - b_hat \n",
    "z, b_hat\n",
    "A.row_join(b_hat).rref(), \n",
    "\n",
    "(A.T*A).row_join(A.T*b).rref()"
   ]
  },
  {
   "cell_type": "code",
   "execution_count": 10,
   "metadata": {},
   "outputs": [
    {
     "data": {
      "text/latex": [
       "$\\displaystyle \\left[\\begin{matrix}0\\\\- \\frac{2}{5}\\\\\\frac{4}{5}\\end{matrix}\\right]$"
      ],
      "text/plain": [
       "⎡ 0  ⎤\n",
       "⎢    ⎥\n",
       "⎢-2/5⎥\n",
       "⎢    ⎥\n",
       "⎣4/5 ⎦"
      ]
     },
     "execution_count": 10,
     "metadata": {},
     "output_type": "execute_result"
    }
   ],
   "source": [
    "#P8\n",
    "u1 = Matrix([1,1,-2])\n",
    "u2 = Matrix([5,-1,2])\n",
    "u3 = Matrix([0,0,1])\n",
    "\n",
    "v1 = u1\n",
    "v2 = u2 - (u2.dot(v1)/v1.dot(v1))*v1\n",
    "\n",
    "v1, v2\n",
    "\n",
    "u1*u3.dot(u1)/u1.dot(u1) + u2*u3.dot(u2)/u2.dot(u2)"
   ]
  },
  {
   "cell_type": "code",
   "execution_count": 21,
   "metadata": {},
   "outputs": [
    {
     "data": {
      "text/plain": [
       "<matplotlib.lines.Line2D at 0x7f304a5c48b0>"
      ]
     },
     "execution_count": 21,
     "metadata": {},
     "output_type": "execute_result"
    },
    {
     "data": {
      "image/png": "[encoded data removed]",
      "text/plain": [
       "<Figure size 432x288 with 1 Axes>"
      ]
     },
     "metadata": {
      "needs_background": "light"
     },
     "output_type": "display_data"
    }
   ],
   "source": [
    "M = Matrix([[0,1],[1,1],[2,2],[3,2]]).T\n",
    "M\n",
    "plt.scatter(M.row(0), M.row(1))\n",
    "plt.plot(list(M.row(0)), list(M.row(1)))\n",
    "plt.grid(); plt.gca().set_aspect(\"equal\") # square grids are pretty\n",
    "plt.axhline(0, color='black', linestyle='--')\n",
    "plt.axvline(0, color='black', linestyle='--')"
   ]
  }
 ],
 "metadata": {
  "kernelspec": {
   "display_name": "Python 3",
   "language": "python",
   "name": "python3"
  },
  "language_info": {
   "codemirror_mode": {
    "name": "ipython",
    "version": 3
   },
   "file_extension": ".py",
   "mimetype": "text/x-python",
   "name": "python",
   "nbconvert_exporter": "python",
   "pygments_lexer": "ipython3",
   "version": "3.8.10"
  }
 },
 "nbformat": 4,
 "nbformat_minor": 4
}
