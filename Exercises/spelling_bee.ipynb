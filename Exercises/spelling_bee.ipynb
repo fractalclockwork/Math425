{
 "cells": [
  {
   "cell_type": "code",
   "execution_count": 1,
   "metadata": {},
   "outputs": [
    {
     "name": "stdout",
     "output_type": "stream",
     "text": [
      "236736\n"
     ]
    }
   ],
   "source": [
    "import re\n",
    "import nltk\n",
    "from nltk.corpus import words\n",
    "import string\n",
    "#nltk.download()\n",
    "\n",
    "word_list = words.words()\n",
    "print(len(word_list)) # prints 236736"
   ]
  },
  {
   "cell_type": "code",
   "execution_count": 2,
   "metadata": {},
   "outputs": [
    {
     "data": {
      "text/plain": [
       "['ceile',\n",
       " 'celiocele',\n",
       " 'cello',\n",
       " 'ciconine',\n",
       " 'cilice',\n",
       " 'cinel',\n",
       " 'cinene',\n",
       " 'cineole',\n",
       " 'cineolic',\n",
       " 'cinnoline',\n",
       " 'cline',\n",
       " 'clinic',\n",
       " 'clone',\n",
       " 'clonic',\n",
       " 'cnicin',\n",
       " 'cocci',\n",
       " 'cocco',\n",
       " 'cocoon',\n",
       " 'coelin',\n",
       " 'coeline',\n",
       " 'coenoecic',\n",
       " 'coincline',\n",
       " 'colic',\n",
       " 'colin',\n",
       " 'colleen',\n",
       " 'collie',\n",
       " 'collin',\n",
       " 'colline',\n",
       " 'colocolic',\n",
       " 'colon',\n",
       " 'colonel',\n",
       " 'colonic',\n",
       " 'concile',\n",
       " 'coneen',\n",
       " 'coneine',\n",
       " 'conic',\n",
       " 'coniceine',\n",
       " 'conicine',\n",
       " 'conicle',\n",
       " 'conin',\n",
       " 'conine',\n",
       " 'connex',\n",
       " 'connexion',\n",
       " 'cooee',\n",
       " 'coolen',\n",
       " 'coolie',\n",
       " 'ecole',\n",
       " 'encell',\n",
       " 'encinillo',\n",
       " 'encoil',\n",
       " 'ennoic',\n",
       " 'enolic',\n",
       " 'excel',\n",
       " 'excellence',\n",
       " 'exilic',\n",
       " 'exocline',\n",
       " 'exocoele',\n",
       " 'exocoelic',\n",
       " 'exocone',\n",
       " 'icicle',\n",
       " 'iconic',\n",
       " 'ileocolic',\n",
       " 'ilicic',\n",
       " 'ilicin',\n",
       " 'incline',\n",
       " 'inexcellence',\n",
       " 'innocence',\n",
       " 'ionic',\n",
       " 'lenience',\n",
       " 'lexicon',\n",
       " 'lienic',\n",
       " 'lienocele',\n",
       " 'linoleic',\n",
       " 'linolenic',\n",
       " 'linolic',\n",
       " 'lioncel',\n",
       " 'loxic',\n",
       " 'niccolic',\n",
       " 'nicolo',\n",
       " 'niece',\n",
       " 'nonce',\n",
       " 'noncon',\n",
       " 'nonic',\n",
       " 'nonoic',\n",
       " 'ocelli',\n",
       " 'oleic',\n",
       " 'oncin',\n",
       " 'onicolo',\n",
       " 'oxonic']"
      ]
     },
     "execution_count": 2,
     "metadata": {},
     "output_type": "execute_result"
    }
   ],
   "source": [
    "l = 'kcwedol'\n",
    "l = 'dnayilv'\n",
    "l = 'bodnetm'\n",
    "l = 'cxlnoei'\n",
    "alpha = string.ascii_lowercase\n",
    "alpha_ex = re.sub(f'[{l}]', '', alpha )\n",
    "w = []\n",
    "for text in word_list:\n",
    "    #text = text.lower()\n",
    "    if (True == any(l[0] in word and len(word) > 4 for word in text.split())):\n",
    "        reject = False\n",
    "        for a in alpha_ex:\n",
    "            if (True == any(a in word for word in text.split())):\n",
    "                reject = True\n",
    "                #print(f'{text}:{a}')\n",
    "                #break\n",
    "        if (text[0].isupper() == True):\n",
    "            reject = True\n",
    "\n",
    "        if(reject==False):        \n",
    "            w.append(text)\n",
    "\n",
    "w"
   ]
  },
  {
   "cell_type": "code",
   "execution_count": null,
   "metadata": {},
   "outputs": [],
   "source": []
  }
 ],
 "metadata": {
  "kernelspec": {
   "display_name": "Python 3",
   "language": "python",
   "name": "python3"
  },
  "language_info": {
   "codemirror_mode": {
    "name": "ipython",
    "version": 3
   },
   "file_extension": ".py",
   "mimetype": "text/x-python",
   "name": "python",
   "nbconvert_exporter": "python",
   "pygments_lexer": "ipython3",
   "version": "3.8.10"
  }
 },
 "nbformat": 4,
 "nbformat_minor": 4
}
