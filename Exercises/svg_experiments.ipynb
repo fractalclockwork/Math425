{
 "cells": [
  {
   "cell_type": "code",
   "execution_count": 28,
   "metadata": {},
   "outputs": [],
   "source": [
    "%matplotlib inline\n",
    "import matplotlib as mpl\n",
    "import matplotlib.pyplot as plt\n",
    "import svgpath2mpl\n",
    "from __future__ import division, print_function\n",
    "from IPython.display import SVG"
   ]
  },
  {
   "cell_type": "code",
   "execution_count": 31,
   "metadata": {},
   "outputs": [
    {
     "data": {
      "text/plain": [
       "Path(CubicBezier(start=(33.332332+85.561701j), control1=(33.684839000000004+85.855451j), control2=(37.041917+172.97478999999998j), end=(32.477381+186.87407000000002j)),\n",
       "     CubicBezier(start=(32.477381+186.87407000000002j), control1=(31.526533+189.76946j), control2=(37.317156000000004+186.37351j), end=(40.200321+183.23905000000002j)),\n",
       "     CubicBezier(start=(40.200321+183.23905000000002j), control1=(45.602352+179.29041j), control2=(45.263258+183.74874000000003j), end=(43.489058+187.27445000000003j)),\n",
       "     CubicBezier(start=(43.489058+187.27445000000003j), control1=(39.060541+202.20505000000003j), control2=(30.553427+234.17045000000002j), end=(40.92806+239.80525000000003j)),\n",
       "     CubicBezier(start=(40.92806+239.80525000000003j), control1=(46.453713+242.80642000000003j), control2=(56.307394+232.47402000000002j), end=(56.214617000000004+235.94062000000002j)),\n",
       "     CubicBezier(start=(56.214617000000004+235.94062000000002j), control1=(56.005976000000004+243.73622000000003j), control2=(52.866511+242.97514j), end=(49.974118000000004+249.56219000000002j)),\n",
       "     CubicBezier(start=(49.974118000000004+249.56219000000002j), control1=(46.656194000000006+257.11832000000004j), control2=(23.191454000000004+275.39237j), end=(23.247610000000005+257.58582j)),\n",
       "     CubicBezier(start=(23.247610000000005+257.58582j), control1=(23.266160000000006+251.69775j), control2=(21.543930000000007+231.87012000000001j), end=(25.006632000000007+215.55776j)),\n",
       "     CubicBezier(start=(25.006632000000007+215.55776j), control1=(25.437855000000006+213.52633j), control2=(29.365897000000007+205.8782j), end=(31.260303000000008+202.68905j)),\n",
       "     CubicBezier(start=(31.260303000000008+202.68905j), control1=(39.96115900000001+188.04156j), control2=(30.165294000000006+188.93095j), end=(30.506311000000007+205.68021000000002j)),\n",
       "     CubicBezier(start=(30.506311000000007+205.68021000000002j), control1=(31.040579000000008+231.92048000000003j), control2=(28.201710000000006+266.16676j), end=(42.80366200000001+265.21459000000004j)),\n",
       "     CubicBezier(start=(42.80366200000001+265.21459000000004j), control1=(49.150073000000006+264.80074j), control2=(42.73045200000001+284.80113000000006j), end=(44.73177200000001+296.16603000000003j)))"
      ]
     },
     "execution_count": 31,
     "metadata": {},
     "output_type": "execute_result"
    }
   ],
   "source": [
    "# Read SVG into a list of path objects and list of dictionaries of attributes \n",
    "from svgpathtools import svg2paths, wsvg\n",
    "paths, attributes = svg2paths('my_hand_.svg')\n",
    "\n",
    "from svgpathtools import parse_path\n",
    "\n",
    "# Update: You can now also extract the svg-attributes by setting\n",
    "# return_svg_attributes=True, or with the convenience function svg2paths2\n",
    "from svgpathtools import svg2paths2\n",
    "paths, attributes, svg_attributes = svg2paths2('my_hand_.svg')\n",
    "\n",
    "# Let's print out the first path object and the color it was in the SVG\n",
    "\n",
    "mypath = paths[0]\n",
    "mypath_attribs = attributes[0]\n",
    "#print(mypath)\n",
    "#print(mypath_attribs)\n",
    "#p = mypath.poly()\n",
    "len(paths)\n",
    "#print(parse_path(mypath.d()))\n",
    "#plt.plot(mypath)\n",
    "mypath"
   ]
  },
  {
   "cell_type": "code",
   "execution_count": 29,
   "metadata": {},
   "outputs": [
    {
     "ename": "ModuleNotFoundError",
     "evalue": "No module named 'my_hand_'",
     "output_type": "error",
     "traceback": [
      "\u001b[0;31m---------------------------------------------------------------------------\u001b[0m",
      "\u001b[0;31mModuleNotFoundError\u001b[0m                       Traceback (most recent call last)",
      "\u001b[0;32m<ipython-input-29-81348ef55c46>\u001b[0m in \u001b[0;36m<module>\u001b[0;34m\u001b[0m\n\u001b[0;32m----> 1\u001b[0;31m \u001b[0;32mimport\u001b[0m \u001b[0mmy_hand_\u001b[0m\u001b[0;34m.\u001b[0m\u001b[0msvg\u001b[0m\u001b[0;34m\u001b[0m\u001b[0;34m\u001b[0m\u001b[0m\n\u001b[0m",
      "\u001b[0;31mModuleNotFoundError\u001b[0m: No module named 'my_hand_'"
     ]
    }
   ],
   "source": [
    "import my_hand_.svg"
   ]
  },
  {
   "cell_type": "code",
   "execution_count": 14,
   "metadata": {},
   "outputs": [
    {
     "data": {
      "image/png": "[encoded data removed]",
      "text/plain": [
       "<Figure size 432x288 with 1 Axes>"
      ]
     },
     "metadata": {
      "needs_background": "light"
     },
     "output_type": "display_data"
    }
   ],
   "source": [
    "from CubicBezier.cubicbezier import CubicBezier\n",
    "\n",
    "x = CubicBezier([0.0, 0.3, 0.75, 0.9], \n",
    "                [0.6, 0.25, 0.3, 0.8])\n",
    "x.plot(nodes=True, bounding_box=True)"
   ]
  }
 ],
 "metadata": {
  "kernelspec": {
   "display_name": "Python 3",
   "language": "python",
   "name": "python3"
  },
  "language_info": {
   "codemirror_mode": {
    "name": "ipython",
    "version": 3
   },
   "file_extension": ".py",
   "mimetype": "text/x-python",
   "name": "python",
   "nbconvert_exporter": "python",
   "pygments_lexer": "ipython3",
   "version": "3.8.10"
  }
 },
 "nbformat": 4,
 "nbformat_minor": 4
}
