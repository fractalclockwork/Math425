{
 "cells": [
  {
   "cell_type": "code",
   "execution_count": 2,
   "metadata": {},
   "outputs": [],
   "source": [
    "# environment setup, try to make it clear which library I'm using for what\n",
    "import numpy as np  # nice arrays and other stuff\n",
    "import sympy as sym # symbollic maths \n",
    "from sympy.matrices import Matrix # pretty matrices\n",
    "from sympy.matrices import BlockMatrix \n",
    "from sympy import Eq # pretty equations\n",
    "from sympy.physics.quantum.dagger import Dagger # we'll want this later...\n",
    "from math import e, pi, sqrt # Mathy math math\n",
    "from mpl_toolkits.mplot3d import Axes3D # we like 3d quivers for tutorials\n",
    "import matplotlib.pyplot as plt # old standby for plotting like a villian\n",
    "from IPython.display import display, Math, Latex # used to display formatted results in the console\n",
    "sym.init_printing()  # initialize pretty printing\n",
    "import matplotlib.animation as manimation"
   ]
  },
  {
   "cell_type": "code",
   "execution_count": 40,
   "metadata": {},
   "outputs": [
    {
     "data": {
      "text/plain": [
       "matrix([[ 0.8660254,  0.5      ,  0.       ,  0.       ],\n",
       "        [-0.5      ,  0.8660254,  0.       ,  0.       ],\n",
       "        [ 0.       ,  0.       ,  1.       ,  0.       ],\n",
       "        [ 0.       ,  0.       ,  0.       ,  1.       ]])"
      ]
     },
     "execution_count": 40,
     "metadata": {},
     "output_type": "execute_result"
    },
    {
     "data": {
      "text/plain": [
       "<Figure size 432x288 with 0 Axes>"
      ]
     },
     "metadata": {},
     "output_type": "display_data"
    },
    {
     "data": {
      "image/png": "[encoded data removed]",
      "text/plain": [
       "<Figure size 432x288 with 2 Axes>"
      ]
     },
     "metadata": {
      "needs_background": "light"
     },
     "output_type": "display_data"
    }
   ],
   "source": [
    "# Define the meta data for the movie\n",
    "FFMpegWriter = manimation.writers['ffmpeg']\n",
    "metadata = dict(title='Rotating Cube', artist='Brent A. Thorne',\n",
    "                comment='a cube with corners draw with red dots and edges draw with blue lines')\n",
    "writer = FFMpegWriter(fps=15, metadata=metadata)\n",
    "\n",
    "# Initialize the movie\n",
    "fig = plt.figure()\n",
    "\n",
    "#D = np.matrix([[3,5,5,3,3,5,5,3],[1,1,0,0,1,1,0,0],[5,5,5,5,4,4,4,4],[1,1,1,1,1,1,1,1]])\n",
    "\n",
    "# think of a better way to do this... (plotting min number of lines)\n",
    "# ask Henry about how to create another Matrix of lines from points, \n",
    "# indeed this sounds like a transformation\n",
    "# for now we'll just cook up the matrix to show the form\n",
    "D = np.matrix(([[1,-1,-1, 1,1,  1,-1,-1, 1,  1, 1,-1,-1, -1,-1, 1, 1],\\\n",
    "                [1, 1,-1,-1,1,  1, 1,-1,-1,  1, 1, 1, 1, -1,-1,-1,-1],\\\n",
    "                [1, 1, 1, 1,1, -1,-1,-1,-1, -1, 1, 1,-1, -1, 1, 1,-1],\\\n",
    "                [1, 1, 1, 1,1,  1, 1, 1, 1,  1, 1, 1, 1,  1, 1, 1, 1]]))\n",
    "\n",
    "\n",
    "\n",
    "def rot(thetaX,thetaY, thetaZ): \n",
    "    #rot X\n",
    "    Tx = np.matrix([[1,0,0,0],\\\n",
    "            [0,np.cos(thetaX),-np.sin(thetaX),0],\\\n",
    "            [0,np.sin(thetaX),np.cos(thetaX),0],\\\n",
    "            [0,0,0,1]])\n",
    "    #rot Y\n",
    "    Ty = np.matrix([[np.cos(thetaY),0,np.sin(thetaY),0],\\\n",
    "            [0,1,0,0],\\\n",
    "            [-np.sin(thetaY),0,np.cos(thetaY),0],\\\n",
    "            [0,0,0,1]])\n",
    "\n",
    "    #rot Z\n",
    "    Tz = np.matrix([[np.cos(thetaZ),-np.sin(thetaZ),0,0],\\\n",
    "            [np.sin(thetaZ),np.cos(thetaZ),0,0],\\\n",
    "            [0,0,1,0],\\\n",
    "            [0,0,0,1]])\n",
    "    return(Tz*Ty*Tx) # think about order of operatons here\n",
    "\n",
    "def myplot(x,y):\n",
    "    plt.clf()\n",
    "    title='3d rotation projected into 2d'\n",
    "    lim = 3\n",
    "    plt.title(f\"{title}\"); \n",
    "    plt.xlabel(\"X axis\"); \n",
    "    plt.ylabel(\"Y axis\")\n",
    "    plt.scatter(x,y, color =\"red\")\n",
    "    plt.plot(x,y, color =\"blue\")\n",
    "    plt.xlim(-lim,lim); plt.ylim(-lim,lim)\n",
    "    plt.grid(); plt.gca().set_aspect(\"equal\") # square grids are pretty\n",
    "    plt.axhline(0, color='black', linestyle='--')\n",
    "    plt.axvline(0, color='black', linestyle='--')\n",
    "    writer.grab_frame()\n",
    "\n",
    "    \n",
    "\"\"\"   \n",
    "# Update the frames for the movie\n",
    "n = 1000\n",
    "theta = np.linspace(0, 6*np.pi, n)\n",
    "with writer.saving(fig, \"writer_test.mp4\", 100):\n",
    "    for i in theta:\n",
    "        T=rot(i,i/2,0)\n",
    "        M= P*(T*D)\n",
    "        H = M[3]\n",
    "        N = np.divide(M,H)[0:2]\n",
    "        x,=N[0].tolist()\n",
    "        y,=N[1].tolist()\n",
    "        #plt.plot(x,y, color =\"blue\")\n",
    "        myplot(x,y)\n",
    "\"\"\"\n",
    "d = 10 # distance of projection\n",
    "s = 20 # stereo offset\n",
    "P = np.matrix([[1,0,0,0],[0,1,0,0],[0,0,0,0],[0,0,-1/d,1]])\n",
    "PR = np.matrix([[1,0,0,0],[0,1,0,0],[0,0,0,0],[-1/s,0,-1/d,1]])\n",
    "PL = np.matrix([[1,0,0,0],[0,1,0,0],[0,0,0,0],[1/s,0,-1/d,1]])\n",
    "\n",
    "i = -np.pi/6\n",
    "T=rot(0,0,i)\n",
    "M= PL*(T*D)\n",
    "H = M[3]\n",
    "N = np.divide(M,H)[0:2]\n",
    "x1,=N[0].tolist()\n",
    "y1,=N[1].tolist()\n",
    "\n",
    "M= PR*(T*D)\n",
    "H = M[3]\n",
    "N = np.divide(M,H)[0:2]\n",
    "x2,=N[0].tolist()\n",
    "y2,=N[1].tolist()\n",
    "\n",
    "fig, (ax1, ax2) = plt.subplots(1, 2)\n",
    "ax1.plot(x1,y1, color =\"blue\")\n",
    "ax2.plot(x2,y2, color =\"red\")\n",
    "T"
   ]
  },
  {
   "cell_type": "code",
   "execution_count": 6,
   "metadata": {},
   "outputs": [
    {
     "data": {
      "text/plain": [
       "matrix([[ 0.96592583,  0.12940952, -0.22414387,  0.        ],\n",
       "        [ 0.        ,  0.8660254 ,  0.5       ,  0.        ],\n",
       "        [ 0.25881905, -0.48296291,  0.8365163 ,  0.        ],\n",
       "        [ 0.        ,  0.        ,  0.        ,  1.        ]])"
      ]
     },
     "execution_count": 6,
     "metadata": {},
     "output_type": "execute_result"
    }
   ],
   "source": [
    "T"
   ]
  },
  {
   "cell_type": "code",
   "execution_count": 34,
   "metadata": {},
   "outputs": [
    {
     "data": {
      "text/html": [
       "\n",
       "<div align=\"middle\">\n",
       "<video width=\"80%\" controls>\n",
       "      <source src=\"writer_test.mp4\" type=\"video/mp4\">\n",
       "</video></div>"
      ],
      "text/plain": [
       "<IPython.core.display.HTML object>"
      ]
     },
     "execution_count": 34,
     "metadata": {},
     "output_type": "execute_result"
    }
   ],
   "source": [
    "# display generated movie in Jupyter notebook\n",
    "from IPython.display import HTML\n",
    "\n",
    "HTML(\"\"\"\n",
    "<div align=\"middle\">\n",
    "<video width=\"80%\" controls>\n",
    "      <source src=\"writer_test.mp4\" type=\"video/mp4\">\n",
    "</video></div>\"\"\")"
   ]
  }
 ],
 "metadata": {
  "kernelspec": {
   "display_name": "Python 3",
   "language": "python",
   "name": "python3"
  },
  "language_info": {
   "codemirror_mode": {
    "name": "ipython",
    "version": 3
   },
   "file_extension": ".py",
   "mimetype": "text/x-python",
   "name": "python",
   "nbconvert_exporter": "python",
   "pygments_lexer": "ipython3",
   "version": "3.8.10"
  }
 },
 "nbformat": 4,
 "nbformat_minor": 4
}
