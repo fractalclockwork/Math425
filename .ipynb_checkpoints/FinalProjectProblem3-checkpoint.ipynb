{
 "cells": [
  {
   "cell_type": "markdown",
   "metadata": {},
   "source": [
    "# Math 425 Computation Linear Algebra\n",
    "## Final Project, Problem 3.\n",
    "##### *Topics in Matrix Transformation, Least-squares, Linear Modelling and Singular Vaule Decomposition.\n",
    "\n",
    "### Group 3\n",
    "\n",
    "+ Anneke Moeller; discussion and research\n",
    "+ Shem Cheng; planning and discussion\n",
    "+ Rai’d Muhammad; planning\n",
    "+ Brent Thorne; software and reporting"
   ]
  },
  {
   "cell_type": "markdown",
   "metadata": {},
   "source": [
    "### Problem 3. Classification of Handwritten Digits\n",
    "\n",
    "##### The goal is to indentify handwitten Digits"
   ]
  },
  {
   "cell_type": "code",
   "execution_count": 1,
   "metadata": {},
   "outputs": [],
   "source": [
    "# environment setup, try to make it clear which library I'm using for what\n",
    "import numpy as np  # nice arrays and other stuff\n",
    "import sympy as sym # symbollic maths \n",
    "from sympy.matrices import Matrix # pretty matrices\n",
    "from sympy import Eq # pretty equations\n",
    "from sympy.physics.quantum.dagger import Dagger # we'll want this later...\n",
    "from math import e, pi, sqrt # Mathy math math\n",
    "from mpl_toolkits.mplot3d import Axes3D # we like 3d quivers for tutorials\n",
    "import matplotlib.pyplot as plt # old standby for plotting like a villian\n",
    "from IPython.display import display, Math, Latex # used to display formatted results in the console\n",
    "sym.init_printing()  # initialize pretty printing"
   ]
  },
  {
   "cell_type": "markdown",
   "metadata": {},
   "source": [
    "### Manifest of data files of handwritten digits:\n",
    "- handwriting training set.txt: 4000 training examples of handwritten digits. Each\n",
    "training example is a 20 pixel by 20 pixel grayscale image of a digit reshaped into\n",
    "a 400-dimensional vector. Each pixel is represented by a floating point number that\n",
    "indicates the grayscale intensity at that location. Thus the set is a 4000 by 400 matrix.\n",
    "- handwriting training set labels.txt: This data set contains the labels of the corresponding digits in the training set. The digits “1” to “9” are labeled as they are.\n",
    "However, because MATLAB has no zero index, the digit zero is represented as the\n",
    "value ten, i.e. “0” is labeled as “10.”\n",
    "- handwriting test set.txt: 1000 test set of handwritten digits with the same format\n",
    "as the training set. Thus this set is a 1000 by 400 matrix.\n",
    "- handwriting test set labels.txt: The labels for the test set."
   ]
  },
  {
   "cell_type": "code",
   "execution_count": 2,
   "metadata": {},
   "outputs": [],
   "source": [
    "path = 'data'\n",
    "fileInfo = [('handwriting_test_set.txt', 'handwriting_test_set_labels.txt', (4000,20,20)),\\\n",
    "         ('handwriting_training_set.txt', 'handwriting_training_set_labels.txt', (1000,20,20))]"
   ]
  },
  {
   "cell_type": "code",
   "execution_count": 3,
   "metadata": {},
   "outputs": [
    {
     "data": {
      "image/png": "[encoded data removed]",
      "text/latex": [
       "$\\displaystyle \\left( 10, \\  4000, \\  4000\\right)$"
      ],
      "text/plain": [
       "(10, 4000, 4000)"
      ]
     },
     "execution_count": 3,
     "metadata": {},
     "output_type": "execute_result"
    }
   ],
   "source": [
    "import csv\n",
    "fdataset, flabels, shape = fileInfo[1] # training set\n",
    "\n",
    "fname = path+'/'+fdataset\n",
    "mylist = []\n",
    "with open(fname) as f:\n",
    "    reader = csv.reader(f, delimiter=',')\n",
    "    for row in reader:\n",
    "            mylist.append(row)\n",
    "data = np.array(mylist)\n",
    "data = data.astype(float)\n",
    "#data = np.matrix(data) # is this needed? nope.\n",
    "\n",
    "fname = path+'/'+flabels\n",
    "mylist = []\n",
    "with open(fname) as f:\n",
    "    reader = csv.reader(f, delimiter='\\n')\n",
    "    for row in reader:\n",
    "            mylist.append(row)\n",
    "labels = np.array(mylist)  \n",
    "labels = labels.astype(int)\n",
    "labels = np.where(labels == 10, 0, labels) # fix up zero label\n",
    "assert len(labels) == len(data) # valid training data is labeled\n",
    "\n",
    "# generate ordered list of data indices\n",
    "labelIndex = [] \n",
    "for i in range(10):\n",
    "    labelIndex.append(np.where(labels==i)[0]) # only use index element\n",
    "\n",
    "# below is the result of the file ingest...\n",
    "# an ordered(0-9) list of lists of sample indices and the sample data as an array of 20x20 arrays \n",
    "# for example: data[labelIndex[4][0]], is the 0th, '4' training sample\n",
    "len(labelIndex), len(data), len(labels) "
   ]
  },
  {
   "cell_type": "code",
   "execution_count": 12,
   "metadata": {},
   "outputs": [
    {
     "data": {
      "image/png": "[encoded data removed]",
      "text/latex": [
       "$\\displaystyle \\left( \\left( 4000, \\  400\\right), \\  \\left( 20, \\  20\\right), \\  10\\right)$"
      ],
      "text/plain": [
       "((4000, 400), (20, 20), 10)"
      ]
     },
     "execution_count": 12,
     "metadata": {},
     "output_type": "execute_result"
    },
    {
     "data": {
      "image/png": "[encoded data removed]",
      "text/plain": [
       "<Figure size 432x288 with 1 Axes>"
      ]
     },
     "metadata": {
      "needs_background": "light"
     },
     "output_type": "display_data"
    }
   ],
   "source": [
    "r = data[labelIndex[9][100]] # the 0th, '4' training sample\n",
    "\n",
    "r.shape = (20,20) # our data is an array, reshape it into a 20x20 matrix \n",
    "R = r.T # transpose for humans\n",
    "plt.imshow(R, cmap=plt.get_cmap('gray')) # show the humans\n",
    "plt.grid(); plt.gca().set_aspect(\"equal\") \n",
    "\n",
    "data.shape, r.shape, len(labelIndex) # \"The Shape of Things to Come\" -Book by H. G. Wells"
   ]
  },
  {
   "cell_type": "code",
   "execution_count": 5,
   "metadata": {},
   "outputs": [],
   "source": [
    "# \"What's in a name? that which we call a rose By any other name would smell as sweet.”\n",
    "# - William Shakespeare, Romeo and Juliet \n",
    "\n",
    "# see also: https://www.quantstart.com/articles/QR-Decomposition-with-Python-and-NumPy/\n",
    "\n",
    "A = data\n",
    "b = labels\n",
    "\n",
    "Q, R = np.linalg.qr(A)\n",
    "\n",
    "#Rinv = np.linalg.inv(R) # Signular\n",
    "#x_hat = np.linalg.inv(R)*np.transpose(A)*b # nope\n",
    "\n",
    "#(A,b), (Q,R), (Q.T*b)"
   ]
  },
  {
   "cell_type": "code",
   "execution_count": 6,
   "metadata": {},
   "outputs": [
    {
     "data": {
      "image/png": "[encoded data removed]",
      "text/plain": [
       "<Figure size 432x288 with 1 Axes>"
      ]
     },
     "metadata": {
      "needs_background": "light"
     },
     "output_type": "display_data"
    }
   ],
   "source": [
    "from matplotlib.animation import FuncAnimation, PillowWriter\n",
    "from os.path import exists\n",
    "filename = \"handwritting.gif\"\n",
    "#if exists(path_to_file): break # only create this file once, its very time consuming\n",
    "    \n",
    "fig, ax = plt.subplots()\n",
    "\n",
    "def init():\n",
    "    plt.grid()\n",
    "    plt.gca().set_aspect(\"equal\") \n",
    "\n",
    "def update(i):\n",
    "    n = 8\n",
    "    r = data[n*20*20+i]\n",
    "    r.shape = (20,20)\n",
    "    rr = r.T # rotate for humans\n",
    "    plt.imshow(rr, cmap=plt.get_cmap('gray'))\n",
    "    \n",
    "ani = FuncAnimation(fig, update, range(10), init_func=init)  \n",
    "writer = PillowWriter(fps=25)  \n",
    "ani.save(filename, writer=writer)\n",
    "plt.show()"
   ]
  },
  {
   "cell_type": "markdown",
   "metadata": {},
   "source": [
    "### Animate Sample.\n",
    "##### Show some of the data\n",
    "<img src=\"handwritting8.gif\" width=\"750\" align=\"center\">"
   ]
  },
  {
   "cell_type": "markdown",
   "metadata": {},
   "source": [
    "### Appendix. Least-squares\n",
    "Let $A$ be an $m$x$n$ matrix.  The following statements are logically equivalent:\n",
    "\n",
    "a. The equation $Ax=b$ has a unique least-squares solution for each $b$ in $\\mathbb{R^m}$.\n",
    "\n",
    "b. The columns of $A$ are linearly independent.\n",
    "\n",
    "c. The matrix $A^TA$ is invertible.\n",
    "When these statement are ture, the least-squares solution $\\hat{x}$ is given by\n",
    "\n",
    "#### $\\hat{x}=(A^TA)^{-1}A^Tb$"
   ]
  },
  {
   "cell_type": "code",
   "execution_count": 7,
   "metadata": {},
   "outputs": [
    {
     "data": {
      "image/png": "[encoded data removed]",
      "text/latex": [
       "$\\displaystyle \\left( \\left[\\begin{matrix}6 & 2 & 2 & 2\\\\2 & 2 & 0 & 0\\\\2 & 0 & 2 & 0\\\\2 & 0 & 0 & 2\\end{matrix}\\right], \\  \\left[\\begin{matrix}4\\\\-4\\\\2\\\\6\\end{matrix}\\right], \\  \\left( \\left[\\begin{matrix}1 & 0 & 0 & 1 & 3\\\\0 & 1 & 0 & -1 & -5\\\\0 & 0 & 1 & -1 & -2\\\\0 & 0 & 0 & 0 & 0\\end{matrix}\\right], \\  \\left( 0, \\  1, \\  2\\right)\\right), \\  \\left\\{\\left( 3 - x_{4}, \\  x_{4} - 5, \\  x_{4} - 2, \\  x_{4}\\right)\\right\\}\\right)$"
      ],
      "text/plain": [
       "⎛⎡6  2  2  2⎤  ⎡4 ⎤  ⎛⎡1  0  0  1   3 ⎤           ⎞                           \n",
       "⎜⎢          ⎥  ⎢  ⎥  ⎜⎢               ⎥           ⎟                           \n",
       "⎜⎢2  2  0  0⎥  ⎢-4⎥  ⎜⎢0  1  0  -1  -5⎥           ⎟                           \n",
       "⎜⎢          ⎥, ⎢  ⎥, ⎜⎢               ⎥, (0, 1, 2)⎟, {(3 - x₄, x₄ - 5, x₄ - 2,\n",
       "⎜⎢2  0  2  0⎥  ⎢2 ⎥  ⎜⎢0  0  1  -1  -2⎥           ⎟                           \n",
       "⎜⎢          ⎥  ⎢  ⎥  ⎜⎢               ⎥           ⎟                           \n",
       "⎝⎣2  0  0  2⎦  ⎣6 ⎦  ⎝⎣0  0  0  0   0 ⎦           ⎠                           \n",
       "\n",
       "     ⎞\n",
       "     ⎟\n",
       "     ⎟\n",
       " x₄)}⎟\n",
       "     ⎟\n",
       "     ⎟\n",
       "     ⎠"
      ]
     },
     "execution_count": 7,
     "metadata": {},
     "output_type": "execute_result"
    }
   ],
   "source": [
    "# Example 6.5.2, Lay, Find least-sqaures solution\n",
    "A = Matrix([[1,1,0,0],\\\n",
    "           [1,1,0,0],\\\n",
    "           [1,0,1,0],\\\n",
    "           [1,0,1,0],\\\n",
    "           [1,0,0,1],\\\n",
    "           [1,0,0,1]])\n",
    "b = Matrix([-3,-1,0,2,5,1])\n",
    "x = sym.symbols('x1 x2 x3 x4')\n",
    "\n",
    "A.T*A, A.T*b, (A.T*A).row_join(A.T*b).rref(), sym.linsolve((A.T*A, A.T*b), x)"
   ]
  },
  {
   "cell_type": "markdown",
   "metadata": {},
   "source": [
    "### Appendix. QR Factorization\n",
    "Given $m$x$n$ matrix $A$ with linearly independent columns, let $A=QR$ be a factorization of $A$.  Then, for each $b$ in $\\mathbb{R^m}$, the equation Ax=b had unique least-squares solution given by \n",
    "##### $\\hat{x}=R^{-1}Q^Tb$ (1)\n",
    "\n",
    "note: Since $R$ above is upper triangular, $\\hat{x}$ should be calculated as the exact solution of the equation\n",
    "##### $Rx=Q^Tb$ (2)\n",
    "It is much faster to solve (2) by back-substition or row operations than to computer $R^{-1}$ and use (1).\n",
    "\n",
    "see also, Theorem 6.5.15, Lay"
   ]
  },
  {
   "cell_type": "code",
   "execution_count": 8,
   "metadata": {},
   "outputs": [
    {
     "data": {
      "image/png": "[encoded data removed]",
      "text/latex": [
       "$\\displaystyle \\left( \\left( \\left[\\begin{matrix}1 & 3 & 5\\\\1 & 1 & 0\\\\1 & 1 & 2\\\\1 & 3 & 3\\end{matrix}\\right], \\  \\left[\\begin{matrix}3\\\\5\\\\7\\\\-3\\end{matrix}\\right]\\right), \\  \\left( \\left[\\begin{matrix}\\frac{1}{2} & \\frac{1}{2} & \\frac{1}{2}\\\\\\frac{1}{2} & - \\frac{1}{2} & - \\frac{1}{2}\\\\\\frac{1}{2} & - \\frac{1}{2} & \\frac{1}{2}\\\\\\frac{1}{2} & \\frac{1}{2} & - \\frac{1}{2}\\end{matrix}\\right], \\  \\left[\\begin{matrix}2 & 4 & 5\\\\0 & 2 & 3\\\\0 & 0 & 2\\end{matrix}\\right]\\right), \\  \\left[\\begin{matrix}6\\\\-6\\\\4\\end{matrix}\\right]\\right)$"
      ],
      "text/plain": [
       "⎛⎛⎡1  3  5⎤  ⎡3 ⎤⎞  ⎛⎡1/2  1/2   1/2 ⎤           ⎞      ⎞\n",
       "⎜⎜⎢       ⎥  ⎢  ⎥⎟  ⎜⎢               ⎥  ⎡2  4  5⎤⎟  ⎡6 ⎤⎟\n",
       "⎜⎜⎢1  1  0⎥  ⎢5 ⎥⎟  ⎜⎢1/2  -1/2  -1/2⎥  ⎢       ⎥⎟  ⎢  ⎥⎟\n",
       "⎜⎜⎢       ⎥, ⎢  ⎥⎟, ⎜⎢               ⎥, ⎢0  2  3⎥⎟, ⎢-6⎥⎟\n",
       "⎜⎜⎢1  1  2⎥  ⎢7 ⎥⎟  ⎜⎢1/2  -1/2  1/2 ⎥  ⎢       ⎥⎟  ⎢  ⎥⎟\n",
       "⎜⎜⎢       ⎥  ⎢  ⎥⎟  ⎜⎢               ⎥  ⎣0  0  2⎦⎟  ⎣4 ⎦⎟\n",
       "⎝⎝⎣1  3  3⎦  ⎣-3⎦⎠  ⎝⎣1/2  1/2   -1/2⎦           ⎠      ⎠"
      ]
     },
     "execution_count": 8,
     "metadata": {},
     "output_type": "execute_result"
    }
   ],
   "source": [
    "# Example 6.5.5, Lay, Find the least-squares solution\n",
    "A = Matrix([[1,3,5],[1,1,0],[1,1,2],[1,3,3]])\n",
    "b = Matrix([3,5,7,-3])\n",
    "Q,R = A.QRdecomposition()\n",
    "(A,b), (Q,R), (Q.T*b)"
   ]
  }
 ],
 "metadata": {
  "kernelspec": {
   "display_name": "Python 3",
   "language": "python",
   "name": "python3"
  },
  "language_info": {
   "codemirror_mode": {
    "name": "ipython",
    "version": 3
   },
   "file_extension": ".py",
   "mimetype": "text/x-python",
   "name": "python",
   "nbconvert_exporter": "python",
   "pygments_lexer": "ipython3",
   "version": "3.8.10"
  }
 },
 "nbformat": 4,
 "nbformat_minor": 4
}
