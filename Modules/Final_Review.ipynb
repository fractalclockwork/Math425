{
 "cells": [
  {
   "cell_type": "markdown",
   "metadata": {},
   "source": [
    "## Math 425 Review"
   ]
  },
  {
   "cell_type": "code",
   "execution_count": 1,
   "metadata": {},
   "outputs": [],
   "source": [
    "# environment setup, try to make it clear which library I'm using for what\n",
    "import numpy as np  # nice arrays and other stuff\n",
    "import scipy as sci # like numpy but nicer\n",
    "import sympy as sym # symbollic maths \n",
    "from sympy.matrices import Matrix # pretty matrices\n",
    "from sympy import Eq # pretty equations\n",
    "from sympy.physics.quantum.dagger import Dagger # we'll want this later...\n",
    "from math import e, pi, sqrt # Mathy math math\n",
    "from mpl_toolkits.mplot3d import Axes3D # we like 3d quivers for tutorials\n",
    "import matplotlib.pyplot as plt # old standby for plotting like a villian\n",
    "from IPython.display import display, Math, Latex # used to display formatted results in the console\n",
    "sym.init_printing()  # initialize pretty printing"
   ]
  },
  {
   "cell_type": "markdown",
   "metadata": {},
   "source": [
    "### 1. QR Decomposition (Lay 6.4)"
   ]
  },
  {
   "cell_type": "code",
   "execution_count": 17,
   "metadata": {},
   "outputs": [
    {
     "data": {
      "text/latex": [
       "$\\displaystyle \\left( \\left[\\begin{matrix}3\\\\6\\\\0\\end{matrix}\\right], \\  \\left[\\begin{matrix}0\\\\0\\\\2\\end{matrix}\\right]\\right)$"
      ],
      "text/plain": [
       "⎛⎡3⎤  ⎡0⎤⎞\n",
       "⎜⎢ ⎥  ⎢ ⎥⎟\n",
       "⎜⎢6⎥, ⎢0⎥⎟\n",
       "⎜⎢ ⎥  ⎢ ⎥⎟\n",
       "⎝⎣0⎦  ⎣2⎦⎠"
      ]
     },
     "execution_count": 17,
     "metadata": {},
     "output_type": "execute_result"
    }
   ],
   "source": [
    "x1 = Matrix([3,6,0])\n",
    "x2 = Matrix([1,2,2])\n",
    "v1 = x1\n",
    "v2 = x2 - x1*(x2.dot(x1)/x1.dot(x1))\n",
    "v1,v2"
   ]
  },
  {
   "cell_type": "code",
   "execution_count": 20,
   "metadata": {},
   "outputs": [
    {
     "data": {
      "text/latex": [
       "$\\displaystyle \\left( \\left[\\begin{matrix}\\frac{1}{2}\\\\\\frac{1}{2}\\\\\\frac{1}{2}\\\\\\frac{1}{2}\\end{matrix}\\right], \\  \\left[\\begin{matrix}- \\frac{\\sqrt{3}}{2}\\\\\\frac{\\sqrt{3}}{6}\\\\\\frac{\\sqrt{3}}{6}\\\\\\frac{\\sqrt{3}}{6}\\end{matrix}\\right], \\  \\left[\\begin{matrix}0\\\\- \\frac{\\sqrt{6}}{3}\\\\\\frac{\\sqrt{6}}{6}\\\\\\frac{\\sqrt{6}}{6}\\end{matrix}\\right]\\right)$"
      ],
      "text/plain": [
       "⎛       ⎡-√3 ⎤        ⎞\n",
       "⎜       ⎢────⎥  ⎡ 0  ⎤⎟\n",
       "⎜       ⎢ 2  ⎥  ⎢    ⎥⎟\n",
       "⎜       ⎢    ⎥  ⎢-√6 ⎥⎟\n",
       "⎜⎡1/2⎤  ⎢ √3 ⎥  ⎢────⎥⎟\n",
       "⎜⎢   ⎥  ⎢ ── ⎥  ⎢ 3  ⎥⎟\n",
       "⎜⎢1/2⎥  ⎢ 6  ⎥  ⎢    ⎥⎟\n",
       "⎜⎢   ⎥, ⎢    ⎥, ⎢ √6 ⎥⎟\n",
       "⎜⎢1/2⎥  ⎢ √3 ⎥  ⎢ ── ⎥⎟\n",
       "⎜⎢   ⎥  ⎢ ── ⎥  ⎢ 6  ⎥⎟\n",
       "⎜⎣1/2⎦  ⎢ 6  ⎥  ⎢    ⎥⎟\n",
       "⎜       ⎢    ⎥  ⎢ √6 ⎥⎟\n",
       "⎜       ⎢ √3 ⎥  ⎢ ── ⎥⎟\n",
       "⎜       ⎢ ── ⎥  ⎣ 6  ⎦⎟\n",
       "⎝       ⎣ 6  ⎦        ⎠"
      ]
     },
     "execution_count": 20,
     "metadata": {},
     "output_type": "execute_result"
    }
   ],
   "source": [
    "A = Matrix([[1,1,1,1],[0,1,1,1],[0,0,1,1]]).T\n",
    "v1 = A.col(0)\n",
    "v2 = A.col(1)- v1*A.col(1).dot(v1)/v1.dot(v1)\n",
    "v3 = A.col(2)- v1*A.col(2).dot(v1)/v1.dot(v1)- v2*A.col(2).dot(v2)/v2.dot(v2)\n",
    "v1=v1/v1.norm()\n",
    "v2 = v2/v2.norm()\n",
    "v3 = v3/v3.norm()\n",
    "v1,v2,v3"
   ]
  },
  {
   "cell_type": "code",
   "execution_count": 21,
   "metadata": {},
   "outputs": [
    {
     "data": {
      "text/latex": [
       "$\\displaystyle \\left( \\left[\\begin{matrix}3\\\\0\\\\-1\\end{matrix}\\right], \\  \\left[\\begin{matrix}-1\\\\5\\\\-3\\end{matrix}\\right]\\right)$"
      ],
      "text/plain": [
       "⎛⎡3 ⎤  ⎡-1⎤⎞\n",
       "⎜⎢  ⎥  ⎢  ⎥⎟\n",
       "⎜⎢0 ⎥, ⎢5 ⎥⎟\n",
       "⎜⎢  ⎥  ⎢  ⎥⎟\n",
       "⎝⎣-1⎦  ⎣-3⎦⎠"
      ]
     },
     "execution_count": 21,
     "metadata": {},
     "output_type": "execute_result"
    }
   ],
   "source": [
    "# P1\n",
    "x1 = Matrix([3,0,-1])\n",
    "x2 = Matrix([8,5,-6])\n",
    "v1 = x1\n",
    "v2 = x2 - x1 * x2.dot(x1)/x1.dot(x1)\n",
    "v1,v2"
   ]
  },
  {
   "cell_type": "code",
   "execution_count": 22,
   "metadata": {},
   "outputs": [
    {
     "data": {
      "text/latex": [
       "$\\displaystyle \\left( \\left[\\begin{matrix}2\\\\-5\\\\1\\end{matrix}\\right], \\  \\left[\\begin{matrix}3\\\\\\frac{3}{2}\\\\\\frac{3}{2}\\end{matrix}\\right]\\right)$"
      ],
      "text/plain": [
       "⎛⎡2 ⎤  ⎡ 3 ⎤⎞\n",
       "⎜⎢  ⎥  ⎢   ⎥⎟\n",
       "⎜⎢-5⎥, ⎢3/2⎥⎟\n",
       "⎜⎢  ⎥  ⎢   ⎥⎟\n",
       "⎝⎣1 ⎦  ⎣3/2⎦⎠"
      ]
     },
     "execution_count": 22,
     "metadata": {},
     "output_type": "execute_result"
    }
   ],
   "source": [
    "# P3\n",
    "x1 = Matrix([2,-5,1])\n",
    "x2 = Matrix([4,-1,2])\n",
    "v1 = x1\n",
    "v2 = x2 - x1*x2.dot(x1)/x1.dot(x1)\n",
    "v1,v2"
   ]
  },
  {
   "cell_type": "code",
   "execution_count": 23,
   "metadata": {},
   "outputs": [
    {
     "data": {
      "text/latex": [
       "$\\displaystyle \\left( \\left[\\begin{matrix}1\\\\-4\\\\0\\\\1\\end{matrix}\\right], \\  \\left[\\begin{matrix}5\\\\1\\\\-4\\\\-1\\end{matrix}\\right]\\right)$"
      ],
      "text/plain": [
       "⎛⎡1 ⎤  ⎡5 ⎤⎞\n",
       "⎜⎢  ⎥  ⎢  ⎥⎟\n",
       "⎜⎢-4⎥  ⎢1 ⎥⎟\n",
       "⎜⎢  ⎥, ⎢  ⎥⎟\n",
       "⎜⎢0 ⎥  ⎢-4⎥⎟\n",
       "⎜⎢  ⎥  ⎢  ⎥⎟\n",
       "⎝⎣1 ⎦  ⎣-1⎦⎠"
      ]
     },
     "execution_count": 23,
     "metadata": {},
     "output_type": "execute_result"
    }
   ],
   "source": [
    "# P5\n",
    "x1 = Matrix([1,-4,0,1])\n",
    "x2 = Matrix([7,-7,-4,1])\n",
    "v1 = x1\n",
    "v2 = x2 - x1*x2.dot(x1)/x1.dot(x1)\n",
    "v1,v2"
   ]
  },
  {
   "cell_type": "code",
   "execution_count": 24,
   "metadata": {},
   "outputs": [
    {
     "data": {
      "text/latex": [
       "$\\displaystyle \\left[ \\left[\\begin{matrix}1\\\\-4\\\\0\\\\1\\end{matrix}\\right], \\  \\left[\\begin{matrix}5\\\\1\\\\-4\\\\-1\\end{matrix}\\right]\\right]$"
      ],
      "text/plain": [
       "⎡⎡1 ⎤  ⎡5 ⎤⎤\n",
       "⎢⎢  ⎥  ⎢  ⎥⎥\n",
       "⎢⎢-4⎥  ⎢1 ⎥⎥\n",
       "⎢⎢  ⎥, ⎢  ⎥⎥\n",
       "⎢⎢0 ⎥  ⎢-4⎥⎥\n",
       "⎢⎢  ⎥  ⎢  ⎥⎥\n",
       "⎣⎣1 ⎦  ⎣-1⎦⎦"
      ]
     },
     "execution_count": 24,
     "metadata": {},
     "output_type": "execute_result"
    }
   ],
   "source": [
    "sym.GramSchmidt([x1,x2])"
   ]
  },
  {
   "cell_type": "code",
   "execution_count": 26,
   "metadata": {},
   "outputs": [
    {
     "data": {
      "text/latex": [
       "$\\displaystyle \\left( \\left[\\begin{matrix}5 & 9\\\\1 & 7\\\\-3 & -5\\\\1 & 5\\end{matrix}\\right], \\  \\left[\\begin{matrix}\\frac{5}{6} & - \\frac{1}{6}\\\\\\frac{1}{6} & \\frac{5}{6}\\\\- \\frac{1}{2} & \\frac{1}{6}\\\\\\frac{1}{6} & \\frac{1}{2}\\end{matrix}\\right], \\  \\left[\\begin{matrix}6 & 12\\\\0 & 6\\end{matrix}\\right], \\  \\left[\\begin{matrix}5 & 9\\\\1 & 7\\\\-3 & -5\\\\1 & 5\\end{matrix}\\right]\\right)$"
      ],
      "text/plain": [
       "⎛⎡5   9 ⎤  ⎡5/6   -1/6⎤           ⎡5   9 ⎤⎞\n",
       "⎜⎢      ⎥  ⎢          ⎥           ⎢      ⎥⎟\n",
       "⎜⎢1   7 ⎥  ⎢1/6   5/6 ⎥  ⎡6  12⎤  ⎢1   7 ⎥⎟\n",
       "⎜⎢      ⎥, ⎢          ⎥, ⎢     ⎥, ⎢      ⎥⎟\n",
       "⎜⎢-3  -5⎥  ⎢-1/2  1/6 ⎥  ⎣0  6 ⎦  ⎢-3  -5⎥⎟\n",
       "⎜⎢      ⎥  ⎢          ⎥           ⎢      ⎥⎟\n",
       "⎝⎣1   5 ⎦  ⎣1/6   1/2 ⎦           ⎣1   5 ⎦⎠"
      ]
     },
     "execution_count": 26,
     "metadata": {},
     "output_type": "execute_result"
    }
   ],
   "source": [
    "# Q13 \n",
    "A=Matrix([[5,1,-3,1],[9,7,-5,5]]).T\n",
    "Q=sym.Rational(1,6)*Matrix([[5,1,-3,1],[-1,5,1,3]]).T\n",
    "R=Q.T*A\n",
    "A,Q, R, Q*R"
   ]
  },
  {
   "cell_type": "markdown",
   "metadata": {},
   "source": [
    "## 2. Least-Squares (Lay 6.5)"
   ]
  },
  {
   "cell_type": "code",
   "execution_count": 35,
   "metadata": {},
   "outputs": [
    {
     "data": {
      "text/latex": [
       "$\\displaystyle \\left( \\left[\\begin{matrix}4 & 0\\\\0 & 2\\\\1 & 1\\end{matrix}\\right], \\  \\left[\\begin{matrix}2\\\\0\\\\11\\end{matrix}\\right], \\  \\left[\\begin{matrix}17 & 1\\\\1 & 5\\end{matrix}\\right], \\  \\left[\\begin{matrix}19\\\\11\\end{matrix}\\right], \\  \\left[\\begin{matrix}1\\\\2\\end{matrix}\\right]\\right)$"
      ],
      "text/plain": [
       "⎛⎡4  0⎤  ⎡2 ⎤                    ⎞\n",
       "⎜⎢    ⎥  ⎢  ⎥  ⎡17  1⎤  ⎡19⎤  ⎡1⎤⎟\n",
       "⎜⎢0  2⎥, ⎢0 ⎥, ⎢     ⎥, ⎢  ⎥, ⎢ ⎥⎟\n",
       "⎜⎢    ⎥  ⎢  ⎥  ⎣1   5⎦  ⎣11⎦  ⎣2⎦⎟\n",
       "⎝⎣1  1⎦  ⎣11⎦                    ⎠"
      ]
     },
     "execution_count": 35,
     "metadata": {},
     "output_type": "execute_result"
    }
   ],
   "source": [
    "# Ex 1\n",
    "A = Matrix([[4,0],[0,2],[1,1]])\n",
    "b = Matrix([2,0,11])\n",
    "# recall A.T*A*x=A.T*b, thus x_hat = (A.T*A).inv()*A.T*b\n",
    "x_hat = (A.T*A).inv()*A.T*b\n",
    "A,b, A.T*A, A.T*b, x_hat"
   ]
  },
  {
   "cell_type": "code",
   "execution_count": 55,
   "metadata": {},
   "outputs": [
    {
     "data": {
      "text/latex": [
       "$\\displaystyle \\left( \\left[\\begin{matrix}1 & 1 & 0 & 0\\\\1 & 1 & 0 & 0\\\\1 & 0 & 1 & 0\\\\1 & 0 & 1 & 0\\\\1 & 0 & 0 & 1\\\\1 & 0 & 0 & 1\\end{matrix}\\right], \\  \\left[\\begin{matrix}-3\\\\-1\\\\0\\\\2\\\\5\\\\1\\end{matrix}\\right], \\  \\left[\\begin{matrix}6 & 2 & 2 & 2\\\\2 & 2 & 0 & 0\\\\2 & 0 & 2 & 0\\\\2 & 0 & 0 & 2\\end{matrix}\\right], \\  \\left[\\begin{matrix}4\\\\-4\\\\2\\\\6\\end{matrix}\\right], \\  \\left[\\begin{matrix}3\\\\-5\\\\-2\\\\0\\end{matrix}\\right], \\  \\left[\\begin{matrix}-1\\\\1\\\\1\\\\0\\end{matrix}\\right]\\right)$"
      ],
      "text/plain": [
       "⎛⎡1  1  0  0⎤  ⎡-3⎤                                ⎞\n",
       "⎜⎢          ⎥  ⎢  ⎥                                ⎟\n",
       "⎜⎢1  1  0  0⎥  ⎢-1⎥  ⎡6  2  2  2⎤  ⎡4 ⎤  ⎡3 ⎤  ⎡-1⎤⎟\n",
       "⎜⎢          ⎥  ⎢  ⎥  ⎢          ⎥  ⎢  ⎥  ⎢  ⎥  ⎢  ⎥⎟\n",
       "⎜⎢1  0  1  0⎥  ⎢0 ⎥  ⎢2  2  0  0⎥  ⎢-4⎥  ⎢-5⎥  ⎢1 ⎥⎟\n",
       "⎜⎢          ⎥, ⎢  ⎥, ⎢          ⎥, ⎢  ⎥, ⎢  ⎥, ⎢  ⎥⎟\n",
       "⎜⎢1  0  1  0⎥  ⎢2 ⎥  ⎢2  0  2  0⎥  ⎢2 ⎥  ⎢-2⎥  ⎢1 ⎥⎟\n",
       "⎜⎢          ⎥  ⎢  ⎥  ⎢          ⎥  ⎢  ⎥  ⎢  ⎥  ⎢  ⎥⎟\n",
       "⎜⎢1  0  0  1⎥  ⎢5 ⎥  ⎣2  0  0  2⎦  ⎣6 ⎦  ⎣0 ⎦  ⎣0 ⎦⎟\n",
       "⎜⎢          ⎥  ⎢  ⎥                                ⎟\n",
       "⎝⎣1  0  0  1⎦  ⎣1 ⎦                                ⎠"
      ]
     },
     "execution_count": 55,
     "metadata": {},
     "output_type": "execute_result"
    }
   ],
   "source": [
    "# Ex 2\n",
    "A = Matrix([[1,1,0,0],[1,1,0,0],[1,0,1,0],[1,0,1,0],[1,0,0,1],[1,0,0,1]])\n",
    "b = Matrix([-3,-1,0,2,5,1])\n",
    "#x_hat = (A.T*A).inv()*A.T*b\n",
    "#s = Matrix(sym.symbols('x1 x2 x3 x4'))\n",
    "Au = (A.T*A).row_join(A.T*b).rref(pivots=False)\n",
    "A,b, A.T*A, A.T*b, Au.col(-1), Au.col(-2)*-1 # x4 is free var"
   ]
  },
  {
   "cell_type": "code",
   "execution_count": 59,
   "metadata": {},
   "outputs": [
    {
     "data": {
      "text/latex": [
       "$\\displaystyle \\left( \\left[\\begin{matrix}-2\\\\-4\\\\8\\end{matrix}\\right], \\  2 \\sqrt{21}, \\  2 \\sqrt{21}\\right)$"
      ],
      "text/plain": [
       "⎛⎡-2⎤              ⎞\n",
       "⎜⎢  ⎥              ⎟\n",
       "⎜⎢-4⎥, 2⋅√21, 2⋅√21⎟\n",
       "⎜⎢  ⎥              ⎟\n",
       "⎝⎣8 ⎦              ⎠"
      ]
     },
     "execution_count": 59,
     "metadata": {},
     "output_type": "execute_result"
    }
   ],
   "source": [
    "# Ex 3\n",
    "A = Matrix([[4,0],[0,2],[1,1]])\n",
    "b = Matrix([2,0,11])\n",
    "# recall A.T*A*x=A.T*b, thus x_hat = (A.T*A).inv()*A.T*b\n",
    "x_hat = (A.T*A).inv()*A.T*b\n",
    "error = b-A*x_hat\n",
    "error, error.norm(), sym.sqrt(84)"
   ]
  },
  {
   "cell_type": "code",
   "execution_count": 66,
   "metadata": {},
   "outputs": [
    {
     "data": {
      "text/latex": [
       "$\\displaystyle \\left( \\left[\\begin{matrix}1 & -6\\\\1 & -2\\\\1 & 1\\\\1 & 7\\end{matrix}\\right], \\  \\left[\\begin{matrix}-1\\\\2\\\\1\\\\6\\end{matrix}\\right], \\  \\left[\\begin{matrix}-1\\\\1\\\\\\frac{5}{2}\\\\\\frac{11}{2}\\end{matrix}\\right], \\  \\left( \\left[\\begin{matrix}1 & 0 & 2\\\\0 & 1 & \\frac{1}{2}\\\\0 & 0 & 0\\\\0 & 0 & 0\\end{matrix}\\right], \\  \\left( 0, \\  1\\right)\\right)\\right)$"
      ],
      "text/plain": [
       "⎛⎡1  -6⎤  ⎡-1⎤  ⎡ -1 ⎤  ⎛⎡1  0   2 ⎤        ⎞⎞\n",
       "⎜⎢     ⎥  ⎢  ⎥  ⎢    ⎥  ⎜⎢         ⎥        ⎟⎟\n",
       "⎜⎢1  -2⎥  ⎢2 ⎥  ⎢ 1  ⎥  ⎜⎢0  1  1/2⎥        ⎟⎟\n",
       "⎜⎢     ⎥, ⎢  ⎥, ⎢    ⎥, ⎜⎢         ⎥, (0, 1)⎟⎟\n",
       "⎜⎢1  1 ⎥  ⎢1 ⎥  ⎢5/2 ⎥  ⎜⎢0  0   0 ⎥        ⎟⎟\n",
       "⎜⎢     ⎥  ⎢  ⎥  ⎢    ⎥  ⎜⎢         ⎥        ⎟⎟\n",
       "⎝⎣1  7 ⎦  ⎣6 ⎦  ⎣11/2⎦  ⎝⎣0  0   0 ⎦        ⎠⎠"
      ]
     },
     "execution_count": 66,
     "metadata": {},
     "output_type": "execute_result"
    }
   ],
   "source": [
    "# Ex 4\n",
    "A = Matrix([[1,1,1,1],[-6,-2,1,7]]).T\n",
    "b = Matrix([-1,2,1,6])\n",
    "a1 = A.col(0)\n",
    "a2 = A.col(1)\n",
    "b_hat = a1*b.dot(a1)/a1.dot(a1) + a2*b.dot(a2)/a2.dot(a2)\n",
    "# recall A*x_hat = b_hat\n",
    "A,b, b_hat, A.row_join(b_hat).rref()"
   ]
  },
  {
   "cell_type": "code",
   "execution_count": 74,
   "metadata": {},
   "outputs": [
    {
     "data": {
      "text/latex": [
       "$\\displaystyle \\left( \\left[\\begin{matrix}\\frac{1}{2} & \\frac{1}{2} & \\frac{1}{2}\\\\\\frac{1}{2} & - \\frac{1}{2} & - \\frac{1}{2}\\\\\\frac{1}{2} & - \\frac{1}{2} & \\frac{1}{2}\\\\\\frac{1}{2} & \\frac{1}{2} & - \\frac{1}{2}\\end{matrix}\\right], \\  \\left[\\begin{matrix}2 & 4 & 5\\\\0 & 2 & 3\\\\0 & 0 & 2\\end{matrix}\\right], \\  \\left[\\begin{matrix}6\\\\-6\\\\4\\end{matrix}\\right], \\  \\left[\\begin{matrix}10\\\\-6\\\\2\\end{matrix}\\right], \\  \\left[\\begin{matrix}10\\\\-6\\\\2\\end{matrix}\\right]\\right)$"
      ],
      "text/plain": [
       "⎛⎡1/2  1/2   1/2 ⎤                             ⎞\n",
       "⎜⎢               ⎥  ⎡2  4  5⎤  ⎡6 ⎤  ⎡10⎤  ⎡10⎤⎟\n",
       "⎜⎢1/2  -1/2  -1/2⎥  ⎢       ⎥  ⎢  ⎥  ⎢  ⎥  ⎢  ⎥⎟\n",
       "⎜⎢               ⎥, ⎢0  2  3⎥, ⎢-6⎥, ⎢-6⎥, ⎢-6⎥⎟\n",
       "⎜⎢1/2  -1/2  1/2 ⎥  ⎢       ⎥  ⎢  ⎥  ⎢  ⎥  ⎢  ⎥⎟\n",
       "⎜⎢               ⎥  ⎣0  0  2⎦  ⎣4 ⎦  ⎣2 ⎦  ⎣2 ⎦⎟\n",
       "⎝⎣1/2  1/2   -1/2⎦                             ⎠"
      ]
     },
     "execution_count": 74,
     "metadata": {},
     "output_type": "execute_result"
    }
   ],
   "source": [
    "# Ex 5\n",
    "A = Matrix([[1,3,5],[1,1,0],[1,1,2],[1,3,3]])\n",
    "b = Matrix([3,5,7,-3])\n",
    "v1 = A.col(0)\n",
    "v2 = A.col(1) - v1*A.col(1).dot(v1)/v1.dot(v1)\n",
    "v3 = A.col(2) - v1*A.col(2).dot(v1)/v1.dot(v1) - v2*A.col(2).dot(v2)/v2.dot(v2)\n",
    "v1 = v1/v1.norm()\n",
    "v2 = v2/v2.norm()\n",
    "v3 = v3/v3.norm()\n",
    "Q = Matrix([v1.T,v2.T,v3.T]).T\n",
    "R = Q.T*A\n",
    "x_hat = R.row_join(Q.T*b).rref(pivots=False).col(-1)\n",
    "Q,R, Q.T*b, x_hat, (A.T*A).inv()*A.T*b\n",
    "\n",
    "\n",
    "# recall x_hat = R.inv()*Q.T*b (R*x=Q.T*b)\n",
    "# recall x_hat = (A.T*A).inv()*A.T*b"
   ]
  },
  {
   "cell_type": "code",
   "execution_count": 96,
   "metadata": {},
   "outputs": [
    {
     "data": {
      "text/latex": [
       "$\\displaystyle \\left( \\left[\\begin{matrix}2\\\\-1\\\\0\\end{matrix}\\right], \\  \\left[\\begin{matrix}5\\\\-3\\\\-5\\end{matrix}\\right], \\  0\\right)$"
      ],
      "text/plain": [
       "⎛⎡2 ⎤  ⎡5 ⎤   ⎞\n",
       "⎜⎢  ⎥  ⎢  ⎥   ⎟\n",
       "⎜⎢-1⎥, ⎢-3⎥, 0⎟\n",
       "⎜⎢  ⎥  ⎢  ⎥   ⎟\n",
       "⎝⎣0 ⎦  ⎣-5⎦   ⎠"
      ]
     },
     "execution_count": 96,
     "metadata": {},
     "output_type": "execute_result"
    }
   ],
   "source": [
    "# PP 1\n",
    "A = Matrix([[1,-3,-3],[1,5,1],[1,7,2]])\n",
    "b = Matrix([5,-3,-5])\n",
    "\n",
    "Au = (A.T*A).row_join(A.T*b).rref(pivots=False)\n",
    "x_hat = Au.col(-1)\n",
    "b_hat = A*x_hat\n",
    "error = (b-b_hat).norm()\n",
    "x_hat, b_hat, error"
   ]
  }
 ],
 "metadata": {
  "kernelspec": {
   "display_name": "Python 3",
   "language": "python",
   "name": "python3"
  },
  "language_info": {
   "codemirror_mode": {
    "name": "ipython",
    "version": 3
   },
   "file_extension": ".py",
   "mimetype": "text/x-python",
   "name": "python",
   "nbconvert_exporter": "python",
   "pygments_lexer": "ipython3",
   "version": "3.8.10"
  }
 },
 "nbformat": 4,
 "nbformat_minor": 4
}
