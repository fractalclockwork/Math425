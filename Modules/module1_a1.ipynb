{
 "cells": [
  {
   "cell_type": "markdown",
   "metadata": {},
   "source": [
    "## Math 425 Computation Linear Algebra\n",
    "\n",
    "\n",
    "### Module One, A1\n",
    "#### Covering Linear Indepence, Span, Homogenous coordinates, Linear Transformation and Mapping.\n",
    "#### Brent A. Thorne brentathorne@gmail.com"
   ]
  },
  {
   "cell_type": "code",
   "execution_count": 2,
   "metadata": {},
   "outputs": [],
   "source": [
    "# environment setup, try to make it clear which library I'm using for what\n",
    "import sympy as sym # symbollic maths \n",
    "from sympy.matrices import Matrix # pretty matrices\n",
    "from sympy import Eq # pretty equations\n",
    "from sympy.physics.quantum.dagger import Dagger # we'll want this later...\n",
    "from IPython.display import display, Math, Latex # used to display formatted results in the console\n",
    "sym.init_printing()  # initialize pretty printing"
   ]
  },
  {
   "cell_type": "markdown",
   "metadata": {},
   "source": [
    "### 1. Let $u=\\begin{bmatrix}1\\\\0\\\\2\\\\1\\end{bmatrix}$, $v=\\begin{bmatrix}-2\\\\3\\\\-1\\\\1\\end{bmatrix}$ and $w=\\begin{bmatrix}2\\\\-2\\\\1\\\\-1\\end{bmatrix}.$"
   ]
  },
  {
   "cell_type": "markdown",
   "metadata": {},
   "source": [
    "(a) Show that the set {u,v,w} is a linearly independent set."
   ]
  },
  {
   "cell_type": "code",
   "execution_count": 73,
   "metadata": {},
   "outputs": [
    {
     "data": {
      "image/png": "[encoded data removed]",
      "text/latex": [
       "$\\displaystyle \\left( \\left[\\begin{matrix}1 & -2 & 2\\\\0 & 3 & -2\\\\2 & -1 & 1\\\\1 & 1 & -1\\end{matrix}\\right], \\  \\left( \\left[\\begin{matrix}1 & 0 & 0\\\\0 & 1 & 0\\\\0 & 0 & 1\\\\0 & 0 & 0\\end{matrix}\\right], \\  \\left( 0, \\  1, \\  2\\right)\\right), \\  3\\right)$"
      ],
      "text/plain": [
       "⎛⎡1  -2  2 ⎤  ⎛⎡1  0  0⎤           ⎞   ⎞\n",
       "⎜⎢         ⎥  ⎜⎢       ⎥           ⎟   ⎟\n",
       "⎜⎢0  3   -2⎥  ⎜⎢0  1  0⎥           ⎟   ⎟\n",
       "⎜⎢         ⎥, ⎜⎢       ⎥, (0, 1, 2)⎟, 3⎟\n",
       "⎜⎢2  -1  1 ⎥  ⎜⎢0  0  1⎥           ⎟   ⎟\n",
       "⎜⎢         ⎥  ⎜⎢       ⎥           ⎟   ⎟\n",
       "⎝⎣1  1   -1⎦  ⎝⎣0  0  0⎦           ⎠   ⎠"
      ]
     },
     "execution_count": 73,
     "metadata": {},
     "output_type": "execute_result"
    }
   ],
   "source": [
    "#P1 a)\n",
    "u = Matrix([1,0,2,1])\n",
    "v = Matrix([-2,3,-1,1])\n",
    "w = Matrix([2,-2,1,-1])\n",
    "u,v,w\n",
    "A = u.row_join(v).row_join(w)\n",
    "A, A.rref(), A.rank() # full rank system"
   ]
  },
  {
   "cell_type": "markdown",
   "metadata": {},
   "source": [
    "(b) Suppose $b=\\begin{bmatrix}a\\\\b\\\\c\\\\d\\end{bmatrix}$ lies in Span{$u,v,w$}.  What conditions must $a$,$b$,$c$,$d$ satisfy?"
   ]
  },
  {
   "cell_type": "code",
   "execution_count": 74,
   "metadata": {},
   "outputs": [
    {
     "data": {
      "image/png": "[encoded data removed]",
      "text/latex": [
       "$\\displaystyle \\left( \\left[\\begin{matrix}1 & -2 & 2 & x_{1}\\\\0 & 3 & -2 & x_{2}\\\\2 & -1 & 1 & x_{3}\\\\1 & 1 & -1 & x_{4}\\end{matrix}\\right], \\  \\left( \\left[\\begin{matrix}1 & 0 & 0 & 0\\\\0 & 1 & 0 & 0\\\\0 & 0 & 1 & 0\\\\0 & 0 & 0 & 1\\end{matrix}\\right], \\  \\left( 0, \\  1, \\  2, \\  3\\right)\\right), \\  \\left[\\begin{matrix}x_{1}\\\\x_{2}\\\\x_{3}\\\\x_{4}\\end{matrix}\\right], \\  \\left\\{\\left( x_{4}, \\  2 x_{4}, \\  2 x_{4}, \\  x_{4}\\right)\\right\\}\\right)$"
      ],
      "text/plain": [
       "⎛⎡1  -2  2   x₁⎤  ⎛⎡1  0  0  0⎤              ⎞  ⎡x₁⎤                        ⎞\n",
       "⎜⎢             ⎥  ⎜⎢          ⎥              ⎟  ⎢  ⎥                        ⎟\n",
       "⎜⎢0  3   -2  x₂⎥  ⎜⎢0  1  0  0⎥              ⎟  ⎢x₂⎥                        ⎟\n",
       "⎜⎢             ⎥, ⎜⎢          ⎥, (0, 1, 2, 3)⎟, ⎢  ⎥, {(x₄, 2⋅x₄, 2⋅x₄, x₄)}⎟\n",
       "⎜⎢2  -1  1   x₃⎥  ⎜⎢0  0  1  0⎥              ⎟  ⎢x₃⎥                        ⎟\n",
       "⎜⎢             ⎥  ⎜⎢          ⎥              ⎟  ⎢  ⎥                        ⎟\n",
       "⎝⎣1  1   -1  x₄⎦  ⎝⎣0  0  0  1⎦              ⎠  ⎣x₄⎦                        ⎠"
      ]
     },
     "execution_count": 74,
     "metadata": {},
     "output_type": "execute_result"
    }
   ],
   "source": [
    "#P1 b) #fix me, what's wrong here? this actaully looks rather correct\n",
    "#s = sym.symbols('a b c d')\n",
    "s = sym.symbols('x1 x2 x3 x4')\n",
    "b = Matrix(s)\n",
    "\n",
    "Au = A.row_join(b)\n",
    "Au, Au.rref(), b, sym.linsolve((A,b), s) # Make the computer work for this puny human."
   ]
  },
  {
   "cell_type": "code",
   "execution_count": 4,
   "metadata": {},
   "outputs": [
    {
     "data": {
      "image/png": "[encoded data removed]",
      "text/latex": [
       "$\\displaystyle \\left[\\begin{matrix}1 & -2 & 2 & a\\\\0 & 3 & -2 & b\\\\0 & 0 & -3 & - 6 a - 3 b + 3 c\\\\0 & 0 & 0 & - 9 a + 9 c - 9 d\\end{matrix}\\right]$"
      ],
      "text/plain": [
       "⎡1  -2  2          a        ⎤\n",
       "⎢                           ⎥\n",
       "⎢0  3   -2         b        ⎥\n",
       "⎢                           ⎥\n",
       "⎢0  0   -3  -6⋅a - 3⋅b + 3⋅c⎥\n",
       "⎢                           ⎥\n",
       "⎣0  0   0   -9⋅a + 9⋅c - 9⋅d⎦"
      ]
     },
     "execution_count": 4,
     "metadata": {},
     "output_type": "execute_result"
    }
   ],
   "source": [
    "Au.echelon_form() # certainly looks that way, ask Henry what he was after here.\n",
    "# must be consistant (make equal to zero, consider general solution)"
   ]
  },
  {
   "cell_type": "markdown",
   "metadata": {},
   "source": [
    "### 2. Give the 4x4 homegeneous matrix that rotate point in $\\mathbb{R^3}$ about the z-axis through an angle of $\\theta=-\\frac\\pi 6$, then translated the result by $p=(5,-1,1)$."
   ]
  },
  {
   "cell_type": "code",
   "execution_count": 81,
   "metadata": {},
   "outputs": [
    {
     "data": {
      "image/png": "[encoded data removed]",
      "text/latex": [
       "$\\displaystyle \\left( \\left[\\begin{matrix}1 & 0 & 0 & 5\\\\0 & 1 & 0 & -1\\\\0 & 0 & 1 & 1\\\\0 & 0 & 0 & 1\\end{matrix}\\right], \\  \\left[\\begin{matrix}\\frac{\\sqrt{3}}{2} & \\frac{1}{2} & 0 & 0\\\\- \\frac{1}{2} & \\frac{\\sqrt{3}}{2} & 0 & 0\\\\0 & 0 & 1 & 0\\\\0 & 0 & 0 & 1\\end{matrix}\\right], \\  \\left[\\begin{matrix}\\frac{\\sqrt{3}}{2} & \\frac{1}{2} & 0 & 5\\\\- \\frac{1}{2} & \\frac{\\sqrt{3}}{2} & 0 & -1\\\\0 & 0 & 1 & 1\\\\0 & 0 & 0 & 1\\end{matrix}\\right]\\right)$"
      ],
      "text/plain": [
       "⎛               ⎡ √3            ⎤  ⎡ √3             ⎤⎞\n",
       "⎜               ⎢ ──   1/2  0  0⎥  ⎢ ──   1/2  0  5 ⎥⎟\n",
       "⎜⎡1  0  0  5 ⎤  ⎢ 2             ⎥  ⎢ 2              ⎥⎟\n",
       "⎜⎢           ⎥  ⎢               ⎥  ⎢                ⎥⎟\n",
       "⎜⎢0  1  0  -1⎥  ⎢      √3       ⎥  ⎢      √3        ⎥⎟\n",
       "⎜⎢           ⎥, ⎢-1/2  ──   0  0⎥, ⎢-1/2  ──   0  -1⎥⎟\n",
       "⎜⎢0  0  1  1 ⎥  ⎢      2        ⎥  ⎢      2         ⎥⎟\n",
       "⎜⎢           ⎥  ⎢               ⎥  ⎢                ⎥⎟\n",
       "⎜⎣0  0  0  1 ⎦  ⎢ 0     0   1  0⎥  ⎢ 0     0   1  1 ⎥⎟\n",
       "⎜               ⎢               ⎥  ⎢                ⎥⎟\n",
       "⎝               ⎣ 0     0   0  1⎦  ⎣ 0     0   0  1 ⎦⎠"
      ]
     },
     "execution_count": 81,
     "metadata": {},
     "output_type": "execute_result"
    }
   ],
   "source": [
    "#P2\n",
    "v=Matrix([1,2,3,1])\n",
    "thetaZ = -sym.pi/6\n",
    "Tz = Matrix([[sym.cos(thetaZ),-sym.sin(thetaZ),0,0],\\\n",
    "            [sym.sin(thetaZ),sym.cos(thetaZ),0,0],\\\n",
    "            [0,0,1,0],\\\n",
    "            [0,0,0,1]])\n",
    "Tp = Matrix([[1,0,0,5], [0,1,0,-1], [0,0,1,1], [0,0,0,1]])\n",
    "Tp,Tz, (Tp*Tz) #.n(2)"
   ]
  },
  {
   "cell_type": "markdown",
   "metadata": {},
   "source": [
    "### 3. The linear transformation $T(x)=Ax$ maps $\\begin{bmatrix}1\\\\3\\end{bmatrix}$ and $\\begin{bmatrix}2\\\\7\\end{bmatrix}$ into $\\begin{bmatrix}1\\\\1\\end{bmatrix}$ and $\\begin{bmatrix}3\\\\1\\end{bmatrix}$, respectively.\n",
    "\n",
    "Find $T\\begin{bmatrix}2\\\\8\\end{bmatrix}$. "
   ]
  },
  {
   "cell_type": "code",
   "execution_count": 67,
   "metadata": {},
   "outputs": [
    {
     "data": {
      "text/latex": [
       "$T\\left[\\begin{matrix}2\\\\8\\end{matrix}\\right]=\\left[\\begin{matrix}1 & 3\\\\1 & 1\\end{matrix}\\right]\\left[\\begin{matrix}-2\\\\2\\end{matrix}\\right]=\\left[\\begin{matrix}4\\\\0\\end{matrix}\\right]$"
      ],
      "text/plain": [
       "<IPython.core.display.Latex object>"
      ]
     },
     "metadata": {},
     "output_type": "display_data"
    }
   ],
   "source": [
    "#P3 # work on this!!! write this up as a detailed tutorial\n",
    "c = sym.symbols('c1 c2')\n",
    "x = Matrix([2,8])\n",
    "A = Matrix([[1,2],[3,7]])\n",
    "y = Matrix([[1,3],[1,1]])\n",
    "C = Matrix(list(sym.linsolve((A,x), c))).T\n",
    "y*C\n",
    "\n",
    "display(Latex(f'$T{sym.latex(x)}={sym.latex(y)}{sym.latex(C)}={sym.latex(y*C)}$'))"
   ]
  },
  {
   "cell_type": "code",
   "execution_count": 65,
   "metadata": {},
   "outputs": [
    {
     "data": {
      "text/latex": [
       "$T(x)=Ax$"
      ],
      "text/plain": [
       "<IPython.core.display.Latex object>"
      ]
     },
     "metadata": {},
     "output_type": "display_data"
    },
    {
     "data": {
      "text/latex": [
       "$\\left[\\begin{matrix}2\\\\8\\end{matrix}\\right]=c1*\\left[\\begin{matrix}1\\\\3\\end{matrix}\\right]+c2*\\left[\\begin{matrix}2\\\\7\\end{matrix}\\right]$$\\Rightarrow$ $\\left[\\begin{matrix}1 & 2 & 2\\\\3 & 7 & 8\\end{matrix}\\right]$ $\\sim$ $\\left[\\begin{matrix}1 & 0 & -2\\\\0 & 1 & 2\\end{matrix}\\right]$"
      ],
      "text/plain": [
       "<IPython.core.display.Latex object>"
      ]
     },
     "metadata": {},
     "output_type": "display_data"
    },
    {
     "data": {
      "text/latex": [
       "$T\\left[\\begin{matrix}2\\\\8\\end{matrix}\\right]=T[-2*\\left[\\begin{matrix}1\\\\3\\end{matrix}\\right]+2*\\left[\\begin{matrix}2\\\\7\\end{matrix}\\right]]$=$-2*\\left[\\begin{matrix}1\\\\1\\end{matrix}\\right]+2*\\left[\\begin{matrix}3\\\\1\\end{matrix}\\right]]$=$\\left[\\begin{matrix}4\\\\0\\end{matrix}\\right]$"
      ],
      "text/plain": [
       "<IPython.core.display.Latex object>"
      ]
     },
     "metadata": {},
     "output_type": "display_data"
    }
   ],
   "source": [
    "c = sym.symbols('c1 c2')\n",
    "Au = A.row_join(x)\n",
    "display(Latex(f'$T(x)=Ax$'))\n",
    "display(Latex(f'${sym.latex(x)}=\\\n",
    "{c[0]}*{sym.latex(A.col(0))}+{c[1]}*{sym.latex(A.col(1))}$\\\n",
    "$\\Rightarrow$ ${sym.latex(Au)}$ $\\sim$ ${sym.latex(Au.rref(pivots=False))}$'))\n",
    "display(Latex(f'$T{sym.latex(x)}=\\\n",
    "T[{(C[0])}*{sym.latex(A.col(0))}+{C[1]}*{sym.latex(A.col(1))}]$\\\n",
    "=${(C[0])}*{sym.latex(y.col(0))}+{C[1]}*{sym.latex(y.col(1))}]$\\\n",
    "=${sym.latex(C[0]*y.col(0)+C[1]*y.col(1))}$'))  #very verbose"
   ]
  },
  {
   "cell_type": "code",
   "execution_count": 68,
   "metadata": {},
   "outputs": [
    {
     "data": {
      "image/png": "[encoded data removed]",
      "text/latex": [
       "$\\displaystyle \\left[\\begin{matrix}4\\\\0\\end{matrix}\\right]$"
      ],
      "text/plain": [
       "⎡4⎤\n",
       "⎢ ⎥\n",
       "⎣0⎦"
      ]
     },
     "execution_count": 68,
     "metadata": {},
     "output_type": "execute_result"
    }
   ],
   "source": [
    "A= Matrix([[-2,1],[4,-1]])\n",
    "A*x"
   ]
  },
  {
   "cell_type": "markdown",
   "metadata": {},
   "source": [
    "ask for practice problems,\n",
    "lay 1.8, p17-20"
   ]
  },
  {
   "cell_type": "markdown",
   "metadata": {},
   "source": [
    "### 4.\n",
    "\n",
    "(a) Find $k$ such that the linear transformation $T:\\mathbb{R^3}\\rightarrow\\mathbb{R^2}$ with the standard matrix $A=\\begin{bmatrix}-2&&10&&-8\\\\-2&&10&&-15.5+k\\end{bmatrix}$ is onto."
   ]
  },
  {
   "cell_type": "code",
   "execution_count": 84,
   "metadata": {},
   "outputs": [
    {
     "data": {
      "text/latex": [
       "Solution when $k$ not equal $7.5$."
      ],
      "text/plain": [
       "<IPython.core.display.Latex object>"
      ]
     },
     "metadata": {},
     "output_type": "display_data"
    },
    {
     "data": {
      "image/png": "[encoded data removed]",
      "text/latex": [
       "$\\displaystyle \\left( \\left[\\begin{matrix}-2 & 10 & -8\\\\-2 & 10 & k - 15.5\\end{matrix}\\right], \\  \\left[\\begin{matrix}1\\\\1\\\\1\\end{matrix}\\right], \\  \\left[\\begin{matrix}0\\\\k - 7.5\\end{matrix}\\right], \\  2, \\  \\left[\\begin{matrix}-2 & 10 & -8\\\\0 & 0 & 15.0 - 2 k\\end{matrix}\\right]\\right)$"
      ],
      "text/plain": [
       "⎛                    ⎡1⎤                                    ⎞\n",
       "⎜⎡-2  10     -8   ⎤  ⎢ ⎥  ⎡   0   ⎤     ⎡-2  10      -8    ⎤⎟\n",
       "⎜⎢                ⎥, ⎢1⎥, ⎢       ⎥, 2, ⎢                  ⎥⎟\n",
       "⎜⎣-2  10  k - 15.5⎦  ⎢ ⎥  ⎣k - 7.5⎦     ⎣0   0   15.0 - 2⋅k⎦⎟\n",
       "⎝                    ⎣1⎦                                    ⎠"
      ]
     },
     "execution_count": 84,
     "metadata": {},
     "output_type": "execute_result"
    }
   ],
   "source": [
    "#P4 a)\n",
    "k = sym.symbols('k')\n",
    "\n",
    "A= Matrix([[-2,10,-8],[-2,10,-15.5+k]])\n",
    "X = Matrix([1,1,1])\n",
    "\n",
    "display(Latex(f'Solution when $k$ not equal $7.5$.'))\n",
    "A,X, A*X, A.rank(), A.echelon_form() "
   ]
  },
  {
   "cell_type": "markdown",
   "metadata": {},
   "source": [
    "(b) $S:\\mathbb{R^2}\\rightarrow\\mathbb{R^2}$ and $T:\\mathbb{R^2}\\rightarrow\\mathbb{R^3}$ are linear transforms with $S(x_1,x_2)=(x_1+x_2, 4x_1+5x_2)$ and $T(x_1,x_2)=(x_1-2x_2,-x_1+3x_2,3x_1-2x_2)$.\n",
    "\n",
    "Show that the mapping $x\\mapsto T(S(x))$ is a linear transformation (from $\\mathbb{R^2}$ to $\\mathbb{R^3}$)."
   ]
  },
  {
   "cell_type": "code",
   "execution_count": 89,
   "metadata": {},
   "outputs": [
    {
     "data": {
      "text/latex": [
       "$T(S(x))=T*S*x=\\left[\\begin{matrix}1 & -2\\\\-1 & 3\\\\3 & -2\\end{matrix}\\right]*\\left[\\begin{matrix}1 & 1\\\\4 & 5\\end{matrix}\\right]*\\left[\\begin{matrix}x_{1}\\\\x_{2}\\end{matrix}\\right]=\\left[\\begin{matrix}- 7 x_{1} - 9 x_{2}\\\\11 x_{1} + 14 x_{2}\\\\- 5 x_{1} - 7 x_{2}\\end{matrix}\\right]$"
      ],
      "text/plain": [
       "<IPython.core.display.Latex object>"
      ]
     },
     "metadata": {},
     "output_type": "display_data"
    },
    {
     "data": {
      "text/latex": [
       "Actually needed to show $T(S(cx+dy)=cT(S(x)+dT(S(y))))$"
      ],
      "text/plain": [
       "<IPython.core.display.Latex object>"
      ]
     },
     "metadata": {},
     "output_type": "display_data"
    },
    {
     "data": {
      "image/png": "[encoded data removed]",
      "text/latex": [
       "$\\displaystyle \\left[\\begin{matrix}- 7 x_{1} - 9 x_{2}\\\\11 x_{1} + 14 x_{2}\\\\- 5 x_{1} - 7 x_{2}\\end{matrix}\\right]$"
      ],
      "text/plain": [
       "⎡-7⋅x₁ - 9⋅x₂ ⎤\n",
       "⎢             ⎥\n",
       "⎢11⋅x₁ + 14⋅x₂⎥\n",
       "⎢             ⎥\n",
       "⎣-5⋅x₁ - 7⋅x₂ ⎦"
      ]
     },
     "execution_count": 89,
     "metadata": {},
     "output_type": "execute_result"
    }
   ],
   "source": [
    "#P4 b)  *add more detail, think about this more\n",
    "T = Matrix([[1,-2],[-1,3],[3,-2]])\n",
    "S = Matrix([[1,1],[4,5]])\n",
    "x = Matrix(sym.symbols('x1 x2'))\n",
    "T,S, T*S*x\n",
    "display(Latex(f'$T(S(x))=T*S*x={sym.latex(T)}*{sym.latex(S)}*{sym.latex(x)}={sym.latex(T*S*x)}$'))\n",
    "display(Latex('Actually needed to show $T(S(cx+y)=cT(S(x)+T(S(y))))$'))\n",
    "T*S*x # by inspection R^2 -> R^3"
   ]
  },
  {
   "cell_type": "markdown",
   "metadata": {},
   "source": [
    "### Appendix. Practice problems"
   ]
  },
  {
   "cell_type": "code",
   "execution_count": 94,
   "metadata": {},
   "outputs": [
    {
     "data": {
      "image/png": "[encoded data removed]",
      "text/latex": [
       "$\\displaystyle \\left( \\left( \\left[\\begin{matrix}6\\\\3\\end{matrix}\\right], \\  \\left[\\begin{matrix}-2\\\\6\\end{matrix}\\right]\\right), \\  \\left[\\begin{matrix}4\\\\9\\end{matrix}\\right]\\right)$"
      ],
      "text/plain": [
       "⎛⎛⎡6⎤  ⎡-2⎤⎞  ⎡4⎤⎞\n",
       "⎜⎜⎢ ⎥, ⎢  ⎥⎟, ⎢ ⎥⎟\n",
       "⎝⎝⎣3⎦  ⎣6 ⎦⎠  ⎣9⎦⎠"
      ]
     },
     "execution_count": 94,
     "metadata": {},
     "output_type": "execute_result"
    }
   ],
   "source": [
    "#P1.8.17\n",
    "u = Matrix([5,2])\n",
    "v = Matrix([1,3])\n",
    "yu = Matrix([2,1])\n",
    "yv = Matrix([-1,3])\n",
    "\n",
    "(3*yu,2*yv), 3*yu+2*yv"
   ]
  },
  {
   "cell_type": "code",
   "execution_count": 99,
   "metadata": {},
   "outputs": [
    {
     "data": {
      "image/png": "[encoded data removed]",
      "text/latex": [
       "$\\displaystyle \\left( \\left( \\left[\\begin{matrix}1 & 0 & 1\\\\0 & 1 & 2\\end{matrix}\\right], \\  \\left( 0, \\  1\\right)\\right), \\  \\left[\\begin{matrix}6\\\\5\\end{matrix}\\right]\\right)$"
      ],
      "text/plain": [
       "⎛⎛⎡1  0  1⎤        ⎞  ⎡6⎤⎞\n",
       "⎜⎜⎢       ⎥, (0, 1)⎟, ⎢ ⎥⎟\n",
       "⎝⎝⎣0  1  2⎦        ⎠  ⎣5⎦⎠"
      ]
     },
     "execution_count": 99,
     "metadata": {},
     "output_type": "execute_result"
    }
   ],
   "source": [
    "#P1.8.18\n",
    "x1, x2 = sym.symbols('x1 x2')\n",
    "u,v,w = sym.symbols('u v w')\n",
    "Tu,Tv,Tw = sym.symbols('Tu Tv Tw')\n",
    "#w = u-2*v\n",
    "u= 2*x1+3*x2\n",
    "v= -x1\n",
    "w = 3*x2\n",
    "\n",
    "Tu = 2*x1-x2\n",
    "Tv = 2*x1+2*x2\n",
    "\n",
    "M = Matrix([[2,-1,0],[3,0,3]])   #u,v,w\n",
    "M.rref(), 1*Matrix([2,1])+2*Matrix([2,2])"
   ]
  },
  {
   "cell_type": "code",
   "execution_count": 102,
   "metadata": {},
   "outputs": [
    {
     "data": {
      "image/png": "[encoded data removed]",
      "text/latex": [
       "$\\displaystyle \\left( \\left[\\begin{matrix}2 & -1\\\\5 & 6\\end{matrix}\\right], \\  \\left[\\begin{matrix}5\\\\-3\\end{matrix}\\right], \\  \\left[\\begin{matrix}x_{1}\\\\x_{2}\\end{matrix}\\right], \\  \\left[\\begin{matrix}13\\\\7\\end{matrix}\\right], \\  \\left[\\begin{matrix}2 x_{1} - x_{2}\\\\5 x_{1} + 6 x_{2}\\end{matrix}\\right]\\right)$"
      ],
      "text/plain": [
       "⎛⎡2  -1⎤  ⎡5 ⎤  ⎡x₁⎤  ⎡13⎤  ⎡ 2⋅x₁ - x₂ ⎤⎞\n",
       "⎜⎢     ⎥, ⎢  ⎥, ⎢  ⎥, ⎢  ⎥, ⎢           ⎥⎟\n",
       "⎝⎣5  6 ⎦  ⎣-3⎦  ⎣x₂⎦  ⎣7 ⎦  ⎣5⋅x₁ + 6⋅x₂⎦⎠"
      ]
     },
     "execution_count": 102,
     "metadata": {},
     "output_type": "execute_result"
    }
   ],
   "source": [
    "#P1.8.19\n",
    "A = Matrix([[2,-1],[5,6]])\n",
    "x = Matrix([5,-3])\n",
    "xx = Matrix(sym.symbols('x1 x2'))\n",
    "A, x, xx, A*x, A*xx"
   ]
  },
  {
   "cell_type": "code",
   "execution_count": null,
   "metadata": {},
   "outputs": [],
   "source": [
    "#P1.9.20\n",
    "# finish me!!"
   ]
  },
  {
   "cell_type": "code",
   "execution_count": 17,
   "metadata": {},
   "outputs": [
    {
     "data": {
      "image/png": "[encoded data removed]",
      "text/latex": [
       "$\\displaystyle \\left( \\left( \\left[\\begin{matrix}1 & 0 & 0\\\\0 & 1 & 0\\\\0 & 0 & 1\\end{matrix}\\right], \\  \\left( 0, \\  1, \\  2\\right)\\right), \\  \\left[\\begin{matrix}1 & \\frac{3}{4} & \\frac{1}{2}\\\\0 & \\frac{1}{4} & \\frac{1}{2}\\\\0 & 0 & \\frac{1}{3}\\end{matrix}\\right], \\  \\left[\\begin{matrix}-5\\\\2\\\\1\\end{matrix}\\right]\\right)$"
      ],
      "text/plain": [
       "⎛⎛⎡1  0  0⎤           ⎞  ⎡1  3/4  1/2⎤  ⎡-5⎤⎞\n",
       "⎜⎜⎢       ⎥           ⎟  ⎢           ⎥  ⎢  ⎥⎟\n",
       "⎜⎜⎢0  1  0⎥, (0, 1, 2)⎟, ⎢0  1/4  1/2⎥, ⎢2 ⎥⎟\n",
       "⎜⎜⎢       ⎥           ⎟  ⎢           ⎥  ⎢  ⎥⎟\n",
       "⎝⎝⎣0  0  1⎦           ⎠  ⎣0   0   1/3⎦  ⎣1 ⎦⎠"
      ]
     },
     "execution_count": 17,
     "metadata": {},
     "output_type": "execute_result"
    }
   ],
   "source": [
    "#S4.44 PP1\n",
    "b1 = Matrix([1,0,0])\n",
    "b2 = Matrix([-3,4,0])\n",
    "b3 = Matrix([3,-6,3])\n",
    "x = Matrix([-8,2,3])\n",
    "\n",
    "b = Matrix.hstack(b1,b2,b3) # a better way\n",
    "b.rref(), b.inv(), b.inv()*x"
   ]
  },
  {
   "cell_type": "code",
   "execution_count": 41,
   "metadata": {},
   "outputs": [
    {
     "data": {
      "image/png": "[encoded data removed]",
      "text/latex": [
       "$\\displaystyle \\left( \\left[\\begin{matrix}t + 1\\\\t^{2} + 1\\\\t^{2} + t\\end{matrix}\\right], \\  \\left[\\begin{matrix}1 & 1 & 0\\\\1 & 0 & 1\\\\0 & 1 & 1\\end{matrix}\\right], \\  \\left[\\begin{matrix}6\\\\3\\\\-1\\end{matrix}\\right], \\  \\left( \\left[\\begin{matrix}1 & 0 & 0 & 5\\\\0 & 1 & 0 & 1\\\\0 & 0 & 1 & -2\\end{matrix}\\right], \\  \\left( 0, \\  1, \\  2\\right)\\right), \\  \\left[\\begin{matrix}5\\\\1\\\\-2\\end{matrix}\\right]\\right)$"
      ],
      "text/plain": [
       "⎛⎡t + 1 ⎤                                                   ⎞\n",
       "⎜⎢      ⎥  ⎡1  1  0⎤  ⎡6 ⎤  ⎛⎡1  0  0  5 ⎤           ⎞  ⎡5 ⎤⎟\n",
       "⎜⎢ 2    ⎥  ⎢       ⎥  ⎢  ⎥  ⎜⎢           ⎥           ⎟  ⎢  ⎥⎟\n",
       "⎜⎢t  + 1⎥, ⎢1  0  1⎥, ⎢3 ⎥, ⎜⎢0  1  0  1 ⎥, (0, 1, 2)⎟, ⎢1 ⎥⎟\n",
       "⎜⎢      ⎥  ⎢       ⎥  ⎢  ⎥  ⎜⎢           ⎥           ⎟  ⎢  ⎥⎟\n",
       "⎜⎢ 2    ⎥  ⎣0  1  1⎦  ⎣-1⎦  ⎝⎣0  0  1  -2⎦           ⎠  ⎣-2⎦⎟\n",
       "⎝⎣t  + t⎦                                                   ⎠"
      ]
     },
     "execution_count": 41,
     "metadata": {},
     "output_type": "execute_result"
    }
   ],
   "source": [
    "#S4.44 PP2\n",
    "t = sym.symbols('t')\n",
    "B = Matrix([[1+t],[1+t**2],[t+t**2]])\n",
    "M = Matrix([[1,1,0],[1,0,1],[0,1,1]])\n",
    "p = Matrix([6,3,-1])\n",
    "B, M, p, Matrix.hstack(M,p).rref(), M.inv()*p"
   ]
  }
 ],
 "metadata": {
  "kernelspec": {
   "display_name": "Python 3",
   "language": "python",
   "name": "python3"
  },
  "language_info": {
   "codemirror_mode": {
    "name": "ipython",
    "version": 3
   },
   "file_extension": ".py",
   "mimetype": "text/x-python",
   "name": "python",
   "nbconvert_exporter": "python",
   "pygments_lexer": "ipython3",
   "version": "3.8.10"
  }
 },
 "nbformat": 4,
 "nbformat_minor": 4
}
