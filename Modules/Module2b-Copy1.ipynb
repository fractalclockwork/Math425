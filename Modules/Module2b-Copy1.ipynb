{
 "cells": [
  {
   "cell_type": "markdown",
   "metadata": {},
   "source": [
    "## Math 425 Computation Linear Algebra\n",
    "\n",
    "\n",
    "### Module 2b\n",
    "#### Covering Orthogonality, least-squares, SVD and projection onto subspaces.\n",
    "#### Brent A. Thorne brentathorne@gmail.com"
   ]
  },
  {
   "cell_type": "code",
   "execution_count": 1,
   "metadata": {},
   "outputs": [],
   "source": [
    "# environment setup, try to make it clear which library I'm using for what\n",
    "import numpy as np  # nice arrays and other stuff\n",
    "import scipy as sci # like numpy but nicer\n",
    "import sympy as sym # symbollic maths \n",
    "from sympy.matrices import Matrix # pretty matrices\n",
    "from sympy import Eq # pretty equations\n",
    "from sympy.physics.quantum.dagger import Dagger # we'll want this later...\n",
    "from math import e, pi, sqrt # Mathy math math\n",
    "from mpl_toolkits.mplot3d import Axes3D # we like 3d quivers for tutorials\n",
    "import matplotlib.pyplot as plt # old standby for plotting like a villian\n",
    "from IPython.display import display, Math, Latex # used to display formatted results in the console\n",
    "sym.init_printing()  # initialize pretty printing"
   ]
  },
  {
   "cell_type": "markdown",
   "metadata": {},
   "source": [
    "### P1. Suppose $U_1$ and $U_2$ are subspaces of a vector space $V$. Prove that the intersection $U_1\\cap U_2$ is a subspace of V."
   ]
  },
  {
   "cell_type": "markdown",
   "metadata": {},
   "source": [
    "If $U_1$ and $U_2\\in V$, then it is given that $span\\{U_1,U_2\\}\\in V$.  \n",
    "\n",
    "The assertion above implies that $U_1\\cap U_2 \\in span\\{U_1,U_2\\}$, thus $U_1\\cap U_2\\in V$.\n",
    "\n",
    "$\\square$ At graphical proof of this can easily be seen in one dimension and inductively be proven for all higher dimensions. \n",
    "\n",
    "##### The $\\textit{span}$ of subsets is necessarily a subspace.  The grader's assertion about a subset of a subspace not necessarily being a subspace is true and has nothing to do with $\\textit{span}$ of subsets, the foundation of the argument set forth in this proof. \n",
    "\n",
    "Another way to see this argument is to note, $U_1⊆V$ and $U_2⊆V$ are subspaces as stated.  We can see that $U_1\\cap U_2⊆V$ by seeing that for some constant $a$ and vectors $u_1$ and $u_2$, $au_1+u_2$ are in $U_1\\cap U_2⊆V$, whenever $u_1\\in U_1\\cap U_2$ and $u_2\\in U_1\\cap U_2$. \n",
    "\n",
    "If $u_1\\in U_1\\cap U_2$, then $u_1\\in U_1$ and $u_1\\in U_2$. Thus $au_1\\in U_1$ and $au_1\\in U_2$.\n",
    "\n",
    "Also, since $u_2\\in U_1\\cap U_2$, then $u_2\\in U_1$ and $u_2\\in U_2$. \n",
    "\n",
    "Finally since $U_1$ and $U_2$ are subspaces, this implies $au_1+u_2\\in U_1$ and $au_1+u_2\\in U_2$, thus $au_1+u_2\\in U_1\\cap U_2$.\n",
    "\n",
    "$\\square$ Which is much less elegant than the original proof given."
   ]
  },
  {
   "cell_type": "markdown",
   "metadata": {},
   "source": [
    "### P2. The amount of waste (in millions of tons a day) generated in a certain city from 1960 to 1995 was\n",
    "\n",
    "\n",
    "|year|1960|1965|1970|1975|1980|1985|1990|1995|\n",
    "|----|----|----|----|----|----|----|----|----|\n",
    "|amount|86|99.8|115.8|125|132.6|143.1|156.3|169.5|"
   ]
  },
  {
   "cell_type": "code",
   "execution_count": 2,
   "metadata": {},
   "outputs": [
    {
     "data": {
      "text/latex": [
       "$\\displaystyle \\left( \\left[\\begin{matrix}1 & 1960\\\\1 & 1965\\\\1 & 1970\\\\1 & 1975\\\\1 & 1980\\\\1 & 1985\\\\1 & 1990\\\\1 & 1995\\end{matrix}\\right], \\  \\left[\\begin{matrix}88.6583333333338\\\\100.045238095239\\\\111.432142857144\\\\122.819047619048\\\\134.205952380953\\\\145.592857142858\\\\156.979761904763\\\\168.366666666668\\end{matrix}\\right], \\  \\left[\\begin{matrix}-4375.00833333333\\\\2.27738095238095\\end{matrix}\\right]\\right)$"
      ],
      "text/plain": [
       "⎛⎡1  1960⎤  ⎡88.6583333333338⎤                     ⎞\n",
       "⎜⎢       ⎥  ⎢                ⎥                     ⎟\n",
       "⎜⎢1  1965⎥  ⎢100.045238095239⎥                     ⎟\n",
       "⎜⎢       ⎥  ⎢                ⎥                     ⎟\n",
       "⎜⎢1  1970⎥  ⎢111.432142857144⎥                     ⎟\n",
       "⎜⎢       ⎥  ⎢                ⎥                     ⎟\n",
       "⎜⎢1  1975⎥  ⎢122.819047619048⎥  ⎡-4375.00833333333⎤⎟\n",
       "⎜⎢       ⎥, ⎢                ⎥, ⎢                 ⎥⎟\n",
       "⎜⎢1  1980⎥  ⎢134.205952380953⎥  ⎣2.27738095238095 ⎦⎟\n",
       "⎜⎢       ⎥  ⎢                ⎥                     ⎟\n",
       "⎜⎢1  1985⎥  ⎢145.592857142858⎥                     ⎟\n",
       "⎜⎢       ⎥  ⎢                ⎥                     ⎟\n",
       "⎜⎢1  1990⎥  ⎢156.979761904763⎥                     ⎟\n",
       "⎜⎢       ⎥  ⎢                ⎥                     ⎟\n",
       "⎝⎣1  1995⎦  ⎣168.366666666668⎦                     ⎠"
      ]
     },
     "execution_count": 2,
     "metadata": {},
     "output_type": "execute_result"
    }
   ],
   "source": [
    "x= [i-1960 for i in [1960,1965,1970,1975,1980,1985,1990,1995]]\n",
    "x= 1960,1965,1970,1975,1980,1985,1990,1995\n",
    "X = Matrix([   [1,1,1,1,1,1,1,1], x]).T\n",
    "y = Matrix([86,99.8,115.8,125,132.6,143.1,156.3,169.5])\n",
    "X,y\n",
    "\n",
    "beta_hat = X.T*y\n",
    "beta_hat, X.T, y, \n",
    "beta = ((X.T*X).inv() * X.T*y)\n",
    "X, X *beta, beta"
   ]
  },
  {
   "cell_type": "code",
   "execution_count": 3,
   "metadata": {},
   "outputs": [
    {
     "data": {
      "image/png": "[encoded data removed]",
      "text/latex": [
       "$\\displaystyle \\left( 179.753571428572, \\  191.140476190477\\right)$"
      ],
      "text/plain": [
       "(179.753571428572, 191.140476190477)"
      ]
     },
     "execution_count": 3,
     "metadata": {},
     "output_type": "execute_result"
    }
   ],
   "source": [
    "wasted = lambda b,y: b[0]+b[1]*y\n",
    "wasted(beta,2000), wasted(beta,2005)"
   ]
  },
  {
   "cell_type": "markdown",
   "metadata": {},
   "source": [
    "### P3. Find an SVD for the matrix $A=\\begin{bmatrix}-4&-6\\\\3&-8\\end{bmatrix}$ by hand (i.e. without using any technology)."
   ]
  },
  {
   "cell_type": "code",
   "execution_count": 28,
   "metadata": {},
   "outputs": [
    {
     "data": {
      "text/latex": [
       "$\\displaystyle \\left[ \\left( 25, \\  1, \\  \\left[ \\left[\\begin{matrix}1\\\\0\\end{matrix}\\right]\\right]\\right), \\  \\left( 100, \\  1, \\  \\left[ \\left[\\begin{matrix}0\\\\1\\end{matrix}\\right]\\right]\\right)\\right]$"
      ],
      "text/plain": [
       "⎡⎛       ⎡⎡1⎤⎤⎞  ⎛        ⎡⎡0⎤⎤⎞⎤\n",
       "⎢⎜25, 1, ⎢⎢ ⎥⎥⎟, ⎜100, 1, ⎢⎢ ⎥⎥⎟⎥\n",
       "⎣⎝       ⎣⎣0⎦⎦⎠  ⎝        ⎣⎣1⎦⎦⎠⎦"
      ]
     },
     "execution_count": 28,
     "metadata": {},
     "output_type": "execute_result"
    }
   ],
   "source": [
    "A= Matrix([[-4,-6],[3,-8]])\n",
    "(A.T*A).eigenvects()"
   ]
  },
  {
   "cell_type": "code",
   "execution_count": 29,
   "metadata": {},
   "outputs": [
    {
     "data": {
      "text/latex": [
       "$\\displaystyle \\left[ \\left( 25, \\  1, \\  \\left[ \\left[\\begin{matrix}- \\frac{4}{3}\\\\1\\end{matrix}\\right]\\right]\\right), \\  \\left( 100, \\  1, \\  \\left[ \\left[\\begin{matrix}\\frac{3}{4}\\\\1\\end{matrix}\\right]\\right]\\right)\\right]$"
      ],
      "text/plain": [
       "⎡⎛       ⎡⎡-4/3⎤⎤⎞  ⎛        ⎡⎡3/4⎤⎤⎞⎤\n",
       "⎢⎜25, 1, ⎢⎢    ⎥⎥⎟, ⎜100, 1, ⎢⎢   ⎥⎥⎟⎥\n",
       "⎣⎝       ⎣⎣ 1  ⎦⎦⎠  ⎝        ⎣⎣ 1 ⎦⎦⎠⎦"
      ]
     },
     "execution_count": 29,
     "metadata": {},
     "output_type": "execute_result"
    }
   ],
   "source": [
    "(A*A.T).eigenvects() # oops forgot to normalize vector"
   ]
  },
  {
   "cell_type": "code",
   "execution_count": 41,
   "metadata": {},
   "outputs": [],
   "source": [
    "v1 = Matrix([sym.Rational(3,4),1])\n",
    "v2 =  Matrix([sym.Rational(-4,3),1])\n",
    "v1 = v1/v1.norm()\n",
    "v2 = v2/v2.norm()\n",
    "V = Matrix([v1.T,v2.T]).T\n",
    "U1= V"
   ]
  },
  {
   "cell_type": "code",
   "execution_count": 42,
   "metadata": {},
   "outputs": [
    {
     "data": {
      "text/latex": [
       "$\\displaystyle \\left[\\begin{matrix}-1 & 0\\\\0 & 1\\end{matrix}\\right]$"
      ],
      "text/plain": [
       "⎡-1  0⎤\n",
       "⎢     ⎥\n",
       "⎣0   1⎦"
      ]
     },
     "execution_count": 42,
     "metadata": {},
     "output_type": "execute_result"
    }
   ],
   "source": [
    "V = Matrix([[0,1],[1,0]])\n",
    "W = sym.diag(10,5)\n",
    "U=(A*V*W.inv())\n",
    "U, U.n(2)\n",
    "U *U1\n"
   ]
  },
  {
   "cell_type": "code",
   "execution_count": 8,
   "metadata": {},
   "outputs": [
    {
     "data": {
      "text/plain": [
       "(array([[ 0.6, -0.8],\n",
       "        [ 0.8,  0.6]]),\n",
       " array([10.,  5.]),\n",
       " array([[-0.,  1.],\n",
       "        [-1.,  0.]]))"
      ]
     },
     "execution_count": 8,
     "metadata": {},
     "output_type": "execute_result"
    }
   ],
   "source": [
    "a= np.array(A).astype(np.float64)\n",
    "\n",
    "u,s,vh = np.linalg.svd(a,full_matrices=False)\n",
    "u,s,vh.transpose()"
   ]
  },
  {
   "cell_type": "markdown",
   "metadata": {},
   "source": [
    "### P4. Below is a singular value decomposition of a matrix $A$:\n",
    "#### $A=\\begin{bmatrix} -\\frac{1}{\\sqrt{5}}&-\\frac{1}{\\sqrt{5}}\\\\ -\\frac{2}{\\sqrt{5}}&-\\frac{1}{\\sqrt{5}}    \\end{bmatrix} \\begin{bmatrix}\\sqrt{15}&0&0\\\\0&0&0 \\end{bmatrix}  \\begin{bmatrix}-\\frac{1}{\\sqrt{3}}&\\frac{1}{\\sqrt{3}}&-\\frac{1}{\\sqrt{3}}\\\\ -\\frac{2}{\\sqrt{6}}&-\\frac{1}{\\sqrt{6}}&\\frac{1}{\\sqrt{6}}\\\\ 0&\\frac{1}{\\sqrt{2}} &\\frac{1}{\\sqrt{2}}      \\end{bmatrix}$"
   ]
  },
  {
   "cell_type": "code",
   "execution_count": 9,
   "metadata": {},
   "outputs": [
    {
     "data": {
      "text/latex": [
       "$\\displaystyle \\left( \\left[\\begin{matrix}- \\frac{\\sqrt{5}}{5} & - \\frac{2 \\sqrt{5}}{5}\\\\\\frac{2 \\sqrt{5}}{5} & - \\frac{\\sqrt{5}}{5}\\end{matrix}\\right], \\  \\left[\\begin{matrix}\\sqrt{15} & 0 & 0\\\\0 & 0 & 0\\end{matrix}\\right], \\  \\left[\\begin{matrix}- \\frac{\\sqrt{3}}{3} & \\frac{\\sqrt{3}}{3} & - \\frac{\\sqrt{3}}{3}\\\\- \\frac{\\sqrt{6}}{3} & - \\frac{\\sqrt{6}}{6} & \\frac{\\sqrt{6}}{6}\\\\0 & \\frac{\\sqrt{2}}{2} & \\frac{\\sqrt{2}}{2}\\end{matrix}\\right]\\right)$"
      ],
      "text/plain": [
       "⎛                             ⎡-√3    √3   -√3 ⎤⎞\n",
       "⎜                             ⎢────   ──   ────⎥⎟\n",
       "⎜⎡-√5   -2⋅√5 ⎤               ⎢ 3     3     3  ⎥⎟\n",
       "⎜⎢────  ──────⎥               ⎢                ⎥⎟\n",
       "⎜⎢ 5      5   ⎥  ⎡√15  0  0⎤  ⎢-√6   -√6    √6 ⎥⎟\n",
       "⎜⎢            ⎥, ⎢         ⎥, ⎢────  ────   ── ⎥⎟\n",
       "⎜⎢2⋅√5   -√5  ⎥  ⎣ 0   0  0⎦  ⎢ 3     6     6  ⎥⎟\n",
       "⎜⎢────   ──── ⎥               ⎢                ⎥⎟\n",
       "⎜⎣ 5      5   ⎦               ⎢       √2    √2 ⎥⎟\n",
       "⎜                             ⎢ 0     ──    ── ⎥⎟\n",
       "⎝                             ⎣       2     2  ⎦⎠"
      ]
     },
     "execution_count": 9,
     "metadata": {},
     "output_type": "execute_result"
    }
   ],
   "source": [
    "U = 1/sym.sqrt(5) * Matrix([[-1,-2], [2,-1]])\n",
    "W = Matrix([[sym.sqrt(15),0,0],[0,0,0]])\n",
    "VT = Matrix([[-1/sym.sqrt(3),1/sym.sqrt(3),-1/sym.sqrt(3)],\\\n",
    "             [-2/sym.sqrt(6),-1/sym.sqrt(6),1/sym.sqrt(6)],\\\n",
    "             [0,1/sym.sqrt(2),1/sym.sqrt(2)]])\n",
    "U,W,VT"
   ]
  },
  {
   "cell_type": "markdown",
   "metadata": {},
   "source": [
    "#### a) What is rank $A$?"
   ]
  },
  {
   "cell_type": "code",
   "execution_count": 10,
   "metadata": {},
   "outputs": [
    {
     "data": {
      "image/png": "[encoded data removed]",
      "text/latex": [
       "$\\displaystyle 1$"
      ],
      "text/plain": [
       "1"
      ]
     },
     "execution_count": 10,
     "metadata": {},
     "output_type": "execute_result"
    }
   ],
   "source": [
    "W.rank()"
   ]
  },
  {
   "cell_type": "markdown",
   "metadata": {},
   "source": [
    "#### b) Let $b=\\begin{bmatrix}3\\\\4\\end{bmatrix}$.  Find the pseduo-inverse of $A$, i.e. $A^{\\dagger}$, and the minimal length least-squares solution for $Ax=b$."
   ]
  },
  {
   "cell_type": "code",
   "execution_count": 11,
   "metadata": {},
   "outputs": [
    {
     "data": {
      "text/latex": [
       "$\\displaystyle \\left( \\left[\\begin{matrix}\\frac{1}{15} & - \\frac{2}{15}\\\\- \\frac{1}{15} & \\frac{2}{15}\\\\\\frac{1}{15} & - \\frac{2}{15}\\end{matrix}\\right], \\  \\left[\\begin{matrix}1 & -1 & 1\\\\-2 & 2 & -2\\end{matrix}\\right], \\  \\left[\\begin{matrix}- \\frac{\\sqrt{3}}{3}\\\\\\frac{\\sqrt{3}}{3}\\\\- \\frac{\\sqrt{3}}{3}\\end{matrix}\\right], \\  \\left[\\begin{matrix}\\frac{\\sqrt{15}}{15}\\end{matrix}\\right], \\  \\left[\\begin{matrix}- \\frac{\\sqrt{5}}{5} & \\frac{2 \\sqrt{5}}{5}\\end{matrix}\\right], \\  \\left[\\begin{matrix}- \\frac{1}{3}\\\\\\frac{1}{3}\\\\- \\frac{1}{3}\\end{matrix}\\right]\\right)$"
      ],
      "text/plain": [
       "⎛                              ⎡-√3 ⎤                             ⎞\n",
       "⎜                              ⎢────⎥                             ⎟\n",
       "⎜                              ⎢ 3  ⎥                             ⎟\n",
       "⎜⎡1/15   -2/15⎤                ⎢    ⎥                       ⎡-1/3⎤⎟\n",
       "⎜⎢            ⎥  ⎡1   -1  1 ⎤  ⎢ √3 ⎥  ⎡√15⎤  ⎡-√5   2⋅√5⎤  ⎢    ⎥⎟\n",
       "⎜⎢-1/15  2/15 ⎥, ⎢          ⎥, ⎢ ── ⎥, ⎢───⎥, ⎢────  ────⎥, ⎢1/3 ⎥⎟\n",
       "⎜⎢            ⎥  ⎣-2  2   -2⎦  ⎢ 3  ⎥  ⎣ 15⎦  ⎣ 5     5  ⎦  ⎢    ⎥⎟\n",
       "⎜⎣1/15   -2/15⎦                ⎢    ⎥                       ⎣-1/3⎦⎟\n",
       "⎜                              ⎢-√3 ⎥                             ⎟\n",
       "⎜                              ⎢────⎥                             ⎟\n",
       "⎝                              ⎣ 3  ⎦                             ⎠"
      ]
     },
     "execution_count": 11,
     "metadata": {},
     "output_type": "execute_result"
    }
   ],
   "source": [
    "# b) psuedo-inverse of A, Ai = Vr D^-1 UrT\n",
    "b= Matrix([3,4])\n",
    "V = VT.transpose()\n",
    "Ai = V.col(0)* Matrix([W[0]]).inv()*  U.col(0).T\n",
    "Ai, U*W*VT, V.col(0), Matrix([W[0]]).inv(),  U.col(0).T, Ai * b"
   ]
  },
  {
   "cell_type": "markdown",
   "metadata": {},
   "source": [
    "#### c) Find the projection of $\\begin{bmatrix}1\\\\1\\\\1\\end{bmatrix}$ onto the nullspace of $A$."
   ]
  },
  {
   "cell_type": "code",
   "execution_count": 12,
   "metadata": {},
   "outputs": [
    {
     "data": {
      "text/latex": [
       "$\\displaystyle \\left[\\begin{matrix}\\frac{2}{3}\\\\\\frac{4}{3}\\\\\\frac{2}{3}\\end{matrix}\\right]$"
      ],
      "text/plain": [
       "⎡2/3⎤\n",
       "⎢   ⎥\n",
       "⎢4/3⎥\n",
       "⎢   ⎥\n",
       "⎣2/3⎦"
      ]
     },
     "execution_count": 12,
     "metadata": {},
     "output_type": "execute_result"
    }
   ],
   "source": [
    "# c) project onto nullA\n",
    "f = Matrix([1,1,1])\n",
    "A =  U*W*VT\n",
    "A, A.nullspace() # note nullA is {Vr+1,...,Vn}\n",
    "\n",
    "Vn = Matrix([(V.col(1)/V.col(1).norm()).T , (V.col(2)/V.col(2).norm()).T]).T\n",
    "Vn*Vn.T * f"
   ]
  },
  {
   "cell_type": "markdown",
   "metadata": {},
   "source": [
    "### Appendix 1. "
   ]
  }
 ],
 "metadata": {
  "kernelspec": {
   "display_name": "Python 3",
   "language": "python",
   "name": "python3"
  },
  "language_info": {
   "codemirror_mode": {
    "name": "ipython",
    "version": 3
   },
   "file_extension": ".py",
   "mimetype": "text/x-python",
   "name": "python",
   "nbconvert_exporter": "python",
   "pygments_lexer": "ipython3",
   "version": "3.8.10"
  }
 },
 "nbformat": 4,
 "nbformat_minor": 4
}
